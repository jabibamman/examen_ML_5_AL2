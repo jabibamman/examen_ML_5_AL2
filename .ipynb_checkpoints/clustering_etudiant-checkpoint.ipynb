{
 "cells": [
  {
   "cell_type": "markdown",
   "metadata": {},
   "source": [
    "# Contrôle Continu"
   ]
  },
  {
   "cell_type": "markdown",
   "metadata": {},
   "source": [
    "### Nom et prénom de l'étudiant"
   ]
  },
  {
   "cell_type": "markdown",
   "metadata": {},
   "source": [
    "# Préparation des données"
   ]
  },
  {
   "cell_type": "code",
   "metadata": {
    "ExecuteTime": {
     "end_time": "2025-06-26T12:28:59.507131Z",
     "start_time": "2025-06-26T12:28:57.346344Z"
    }
   },
   "source": [
    "import numpy as np\n",
    "import matplotlib.pyplot as plt\n",
    "import seaborn as sns\n",
    "import pandas as pd\n",
    "#pd.set_option('max_columns', None)"
   ],
   "outputs": [],
   "execution_count": 2
  },
  {
   "cell_type": "markdown",
   "metadata": {},
   "source": [
    "## 1- Charger la donnée"
   ]
  },
  {
   "cell_type": "code",
   "metadata": {
    "ExecuteTime": {
     "end_time": "2025-06-26T12:29:00.218488Z",
     "start_time": "2025-06-26T12:28:59.608350Z"
    }
   },
   "source": [
    "raw_data = pd.read_csv(\"input/diabetes.txt\", sep = \"\\t\")"
   ],
   "outputs": [
    {
     "ename": "FileNotFoundError",
     "evalue": "[Errno 2] No such file or directory: 'input/diabetes.txt'",
     "output_type": "error",
     "traceback": [
      "\u001B[31m---------------------------------------------------------------------------\u001B[39m",
      "\u001B[31mFileNotFoundError\u001B[39m                         Traceback (most recent call last)",
      "\u001B[36mCell\u001B[39m\u001B[36m \u001B[39m\u001B[32mIn[3]\u001B[39m\u001B[32m, line 1\u001B[39m\n\u001B[32m----> \u001B[39m\u001B[32m1\u001B[39m raw_data = \u001B[43mpd\u001B[49m\u001B[43m.\u001B[49m\u001B[43mread_csv\u001B[49m\u001B[43m(\u001B[49m\u001B[33;43m\"\u001B[39;49m\u001B[33;43minput/diabetes.txt\u001B[39;49m\u001B[33;43m\"\u001B[39;49m\u001B[43m,\u001B[49m\u001B[43m \u001B[49m\u001B[43msep\u001B[49m\u001B[43m \u001B[49m\u001B[43m=\u001B[49m\u001B[43m \u001B[49m\u001B[33;43m\"\u001B[39;49m\u001B[38;5;130;43;01m\\t\u001B[39;49;00m\u001B[33;43m\"\u001B[39;49m\u001B[43m)\u001B[49m\n",
      "\u001B[36mFile \u001B[39m\u001B[32m~/Developpement/Python/examen_ML_5_AL2/.venv/lib/python3.12/site-packages/pandas/io/parsers/readers.py:1026\u001B[39m, in \u001B[36mread_csv\u001B[39m\u001B[34m(filepath_or_buffer, sep, delimiter, header, names, index_col, usecols, dtype, engine, converters, true_values, false_values, skipinitialspace, skiprows, skipfooter, nrows, na_values, keep_default_na, na_filter, verbose, skip_blank_lines, parse_dates, infer_datetime_format, keep_date_col, date_parser, date_format, dayfirst, cache_dates, iterator, chunksize, compression, thousands, decimal, lineterminator, quotechar, quoting, doublequote, escapechar, comment, encoding, encoding_errors, dialect, on_bad_lines, delim_whitespace, low_memory, memory_map, float_precision, storage_options, dtype_backend)\u001B[39m\n\u001B[32m   1013\u001B[39m kwds_defaults = _refine_defaults_read(\n\u001B[32m   1014\u001B[39m     dialect,\n\u001B[32m   1015\u001B[39m     delimiter,\n\u001B[32m   (...)\u001B[39m\u001B[32m   1022\u001B[39m     dtype_backend=dtype_backend,\n\u001B[32m   1023\u001B[39m )\n\u001B[32m   1024\u001B[39m kwds.update(kwds_defaults)\n\u001B[32m-> \u001B[39m\u001B[32m1026\u001B[39m \u001B[38;5;28;01mreturn\u001B[39;00m \u001B[43m_read\u001B[49m\u001B[43m(\u001B[49m\u001B[43mfilepath_or_buffer\u001B[49m\u001B[43m,\u001B[49m\u001B[43m \u001B[49m\u001B[43mkwds\u001B[49m\u001B[43m)\u001B[49m\n",
      "\u001B[36mFile \u001B[39m\u001B[32m~/Developpement/Python/examen_ML_5_AL2/.venv/lib/python3.12/site-packages/pandas/io/parsers/readers.py:620\u001B[39m, in \u001B[36m_read\u001B[39m\u001B[34m(filepath_or_buffer, kwds)\u001B[39m\n\u001B[32m    617\u001B[39m _validate_names(kwds.get(\u001B[33m\"\u001B[39m\u001B[33mnames\u001B[39m\u001B[33m\"\u001B[39m, \u001B[38;5;28;01mNone\u001B[39;00m))\n\u001B[32m    619\u001B[39m \u001B[38;5;66;03m# Create the parser.\u001B[39;00m\n\u001B[32m--> \u001B[39m\u001B[32m620\u001B[39m parser = \u001B[43mTextFileReader\u001B[49m\u001B[43m(\u001B[49m\u001B[43mfilepath_or_buffer\u001B[49m\u001B[43m,\u001B[49m\u001B[43m \u001B[49m\u001B[43m*\u001B[49m\u001B[43m*\u001B[49m\u001B[43mkwds\u001B[49m\u001B[43m)\u001B[49m\n\u001B[32m    622\u001B[39m \u001B[38;5;28;01mif\u001B[39;00m chunksize \u001B[38;5;129;01mor\u001B[39;00m iterator:\n\u001B[32m    623\u001B[39m     \u001B[38;5;28;01mreturn\u001B[39;00m parser\n",
      "\u001B[36mFile \u001B[39m\u001B[32m~/Developpement/Python/examen_ML_5_AL2/.venv/lib/python3.12/site-packages/pandas/io/parsers/readers.py:1620\u001B[39m, in \u001B[36mTextFileReader.__init__\u001B[39m\u001B[34m(self, f, engine, **kwds)\u001B[39m\n\u001B[32m   1617\u001B[39m     \u001B[38;5;28mself\u001B[39m.options[\u001B[33m\"\u001B[39m\u001B[33mhas_index_names\u001B[39m\u001B[33m\"\u001B[39m] = kwds[\u001B[33m\"\u001B[39m\u001B[33mhas_index_names\u001B[39m\u001B[33m\"\u001B[39m]\n\u001B[32m   1619\u001B[39m \u001B[38;5;28mself\u001B[39m.handles: IOHandles | \u001B[38;5;28;01mNone\u001B[39;00m = \u001B[38;5;28;01mNone\u001B[39;00m\n\u001B[32m-> \u001B[39m\u001B[32m1620\u001B[39m \u001B[38;5;28mself\u001B[39m._engine = \u001B[38;5;28;43mself\u001B[39;49m\u001B[43m.\u001B[49m\u001B[43m_make_engine\u001B[49m\u001B[43m(\u001B[49m\u001B[43mf\u001B[49m\u001B[43m,\u001B[49m\u001B[43m \u001B[49m\u001B[38;5;28;43mself\u001B[39;49m\u001B[43m.\u001B[49m\u001B[43mengine\u001B[49m\u001B[43m)\u001B[49m\n",
      "\u001B[36mFile \u001B[39m\u001B[32m~/Developpement/Python/examen_ML_5_AL2/.venv/lib/python3.12/site-packages/pandas/io/parsers/readers.py:1880\u001B[39m, in \u001B[36mTextFileReader._make_engine\u001B[39m\u001B[34m(self, f, engine)\u001B[39m\n\u001B[32m   1878\u001B[39m     \u001B[38;5;28;01mif\u001B[39;00m \u001B[33m\"\u001B[39m\u001B[33mb\u001B[39m\u001B[33m\"\u001B[39m \u001B[38;5;129;01mnot\u001B[39;00m \u001B[38;5;129;01min\u001B[39;00m mode:\n\u001B[32m   1879\u001B[39m         mode += \u001B[33m\"\u001B[39m\u001B[33mb\u001B[39m\u001B[33m\"\u001B[39m\n\u001B[32m-> \u001B[39m\u001B[32m1880\u001B[39m \u001B[38;5;28mself\u001B[39m.handles = \u001B[43mget_handle\u001B[49m\u001B[43m(\u001B[49m\n\u001B[32m   1881\u001B[39m \u001B[43m    \u001B[49m\u001B[43mf\u001B[49m\u001B[43m,\u001B[49m\n\u001B[32m   1882\u001B[39m \u001B[43m    \u001B[49m\u001B[43mmode\u001B[49m\u001B[43m,\u001B[49m\n\u001B[32m   1883\u001B[39m \u001B[43m    \u001B[49m\u001B[43mencoding\u001B[49m\u001B[43m=\u001B[49m\u001B[38;5;28;43mself\u001B[39;49m\u001B[43m.\u001B[49m\u001B[43moptions\u001B[49m\u001B[43m.\u001B[49m\u001B[43mget\u001B[49m\u001B[43m(\u001B[49m\u001B[33;43m\"\u001B[39;49m\u001B[33;43mencoding\u001B[39;49m\u001B[33;43m\"\u001B[39;49m\u001B[43m,\u001B[49m\u001B[43m \u001B[49m\u001B[38;5;28;43;01mNone\u001B[39;49;00m\u001B[43m)\u001B[49m\u001B[43m,\u001B[49m\n\u001B[32m   1884\u001B[39m \u001B[43m    \u001B[49m\u001B[43mcompression\u001B[49m\u001B[43m=\u001B[49m\u001B[38;5;28;43mself\u001B[39;49m\u001B[43m.\u001B[49m\u001B[43moptions\u001B[49m\u001B[43m.\u001B[49m\u001B[43mget\u001B[49m\u001B[43m(\u001B[49m\u001B[33;43m\"\u001B[39;49m\u001B[33;43mcompression\u001B[39;49m\u001B[33;43m\"\u001B[39;49m\u001B[43m,\u001B[49m\u001B[43m \u001B[49m\u001B[38;5;28;43;01mNone\u001B[39;49;00m\u001B[43m)\u001B[49m\u001B[43m,\u001B[49m\n\u001B[32m   1885\u001B[39m \u001B[43m    \u001B[49m\u001B[43mmemory_map\u001B[49m\u001B[43m=\u001B[49m\u001B[38;5;28;43mself\u001B[39;49m\u001B[43m.\u001B[49m\u001B[43moptions\u001B[49m\u001B[43m.\u001B[49m\u001B[43mget\u001B[49m\u001B[43m(\u001B[49m\u001B[33;43m\"\u001B[39;49m\u001B[33;43mmemory_map\u001B[39;49m\u001B[33;43m\"\u001B[39;49m\u001B[43m,\u001B[49m\u001B[43m \u001B[49m\u001B[38;5;28;43;01mFalse\u001B[39;49;00m\u001B[43m)\u001B[49m\u001B[43m,\u001B[49m\n\u001B[32m   1886\u001B[39m \u001B[43m    \u001B[49m\u001B[43mis_text\u001B[49m\u001B[43m=\u001B[49m\u001B[43mis_text\u001B[49m\u001B[43m,\u001B[49m\n\u001B[32m   1887\u001B[39m \u001B[43m    \u001B[49m\u001B[43merrors\u001B[49m\u001B[43m=\u001B[49m\u001B[38;5;28;43mself\u001B[39;49m\u001B[43m.\u001B[49m\u001B[43moptions\u001B[49m\u001B[43m.\u001B[49m\u001B[43mget\u001B[49m\u001B[43m(\u001B[49m\u001B[33;43m\"\u001B[39;49m\u001B[33;43mencoding_errors\u001B[39;49m\u001B[33;43m\"\u001B[39;49m\u001B[43m,\u001B[49m\u001B[43m \u001B[49m\u001B[33;43m\"\u001B[39;49m\u001B[33;43mstrict\u001B[39;49m\u001B[33;43m\"\u001B[39;49m\u001B[43m)\u001B[49m\u001B[43m,\u001B[49m\n\u001B[32m   1888\u001B[39m \u001B[43m    \u001B[49m\u001B[43mstorage_options\u001B[49m\u001B[43m=\u001B[49m\u001B[38;5;28;43mself\u001B[39;49m\u001B[43m.\u001B[49m\u001B[43moptions\u001B[49m\u001B[43m.\u001B[49m\u001B[43mget\u001B[49m\u001B[43m(\u001B[49m\u001B[33;43m\"\u001B[39;49m\u001B[33;43mstorage_options\u001B[39;49m\u001B[33;43m\"\u001B[39;49m\u001B[43m,\u001B[49m\u001B[43m \u001B[49m\u001B[38;5;28;43;01mNone\u001B[39;49;00m\u001B[43m)\u001B[49m\u001B[43m,\u001B[49m\n\u001B[32m   1889\u001B[39m \u001B[43m\u001B[49m\u001B[43m)\u001B[49m\n\u001B[32m   1890\u001B[39m \u001B[38;5;28;01massert\u001B[39;00m \u001B[38;5;28mself\u001B[39m.handles \u001B[38;5;129;01mis\u001B[39;00m \u001B[38;5;129;01mnot\u001B[39;00m \u001B[38;5;28;01mNone\u001B[39;00m\n\u001B[32m   1891\u001B[39m f = \u001B[38;5;28mself\u001B[39m.handles.handle\n",
      "\u001B[36mFile \u001B[39m\u001B[32m~/Developpement/Python/examen_ML_5_AL2/.venv/lib/python3.12/site-packages/pandas/io/common.py:873\u001B[39m, in \u001B[36mget_handle\u001B[39m\u001B[34m(path_or_buf, mode, encoding, compression, memory_map, is_text, errors, storage_options)\u001B[39m\n\u001B[32m    868\u001B[39m \u001B[38;5;28;01melif\u001B[39;00m \u001B[38;5;28misinstance\u001B[39m(handle, \u001B[38;5;28mstr\u001B[39m):\n\u001B[32m    869\u001B[39m     \u001B[38;5;66;03m# Check whether the filename is to be opened in binary mode.\u001B[39;00m\n\u001B[32m    870\u001B[39m     \u001B[38;5;66;03m# Binary mode does not support 'encoding' and 'newline'.\u001B[39;00m\n\u001B[32m    871\u001B[39m     \u001B[38;5;28;01mif\u001B[39;00m ioargs.encoding \u001B[38;5;129;01mand\u001B[39;00m \u001B[33m\"\u001B[39m\u001B[33mb\u001B[39m\u001B[33m\"\u001B[39m \u001B[38;5;129;01mnot\u001B[39;00m \u001B[38;5;129;01min\u001B[39;00m ioargs.mode:\n\u001B[32m    872\u001B[39m         \u001B[38;5;66;03m# Encoding\u001B[39;00m\n\u001B[32m--> \u001B[39m\u001B[32m873\u001B[39m         handle = \u001B[38;5;28;43mopen\u001B[39;49m\u001B[43m(\u001B[49m\n\u001B[32m    874\u001B[39m \u001B[43m            \u001B[49m\u001B[43mhandle\u001B[49m\u001B[43m,\u001B[49m\n\u001B[32m    875\u001B[39m \u001B[43m            \u001B[49m\u001B[43mioargs\u001B[49m\u001B[43m.\u001B[49m\u001B[43mmode\u001B[49m\u001B[43m,\u001B[49m\n\u001B[32m    876\u001B[39m \u001B[43m            \u001B[49m\u001B[43mencoding\u001B[49m\u001B[43m=\u001B[49m\u001B[43mioargs\u001B[49m\u001B[43m.\u001B[49m\u001B[43mencoding\u001B[49m\u001B[43m,\u001B[49m\n\u001B[32m    877\u001B[39m \u001B[43m            \u001B[49m\u001B[43merrors\u001B[49m\u001B[43m=\u001B[49m\u001B[43merrors\u001B[49m\u001B[43m,\u001B[49m\n\u001B[32m    878\u001B[39m \u001B[43m            \u001B[49m\u001B[43mnewline\u001B[49m\u001B[43m=\u001B[49m\u001B[33;43m\"\u001B[39;49m\u001B[33;43m\"\u001B[39;49m\u001B[43m,\u001B[49m\n\u001B[32m    879\u001B[39m \u001B[43m        \u001B[49m\u001B[43m)\u001B[49m\n\u001B[32m    880\u001B[39m     \u001B[38;5;28;01melse\u001B[39;00m:\n\u001B[32m    881\u001B[39m         \u001B[38;5;66;03m# Binary mode\u001B[39;00m\n\u001B[32m    882\u001B[39m         handle = \u001B[38;5;28mopen\u001B[39m(handle, ioargs.mode)\n",
      "\u001B[31mFileNotFoundError\u001B[39m: [Errno 2] No such file or directory: 'input/diabetes.txt'"
     ]
    }
   ],
   "execution_count": 3
  },
  {
   "cell_type": "markdown",
   "metadata": {},
   "source": [
    "## 2- Afficher les 10 premières lignes de la raw_data"
   ]
  },
  {
   "cell_type": "code",
   "execution_count": 28,
   "metadata": {},
   "outputs": [
    {
     "data": {
      "application/vnd.microsoft.datawrangler.viewer.v0+json": {
       "columns": [
        {
         "name": "index",
         "rawType": "int64",
         "type": "integer"
        },
        {
         "name": "Pregnancies",
         "rawType": "float64",
         "type": "float"
        },
        {
         "name": "Glucose",
         "rawType": "int64",
         "type": "integer"
        },
        {
         "name": "BloodPressure",
         "rawType": "float64",
         "type": "float"
        },
        {
         "name": "SkinThickness",
         "rawType": "int64",
         "type": "integer"
        },
        {
         "name": "Insulin",
         "rawType": "float64",
         "type": "float"
        },
        {
         "name": "BMI",
         "rawType": "float64",
         "type": "float"
        },
        {
         "name": "DiabetesPedigreeFunction",
         "rawType": "float64",
         "type": "float"
        },
        {
         "name": "Age",
         "rawType": "int64",
         "type": "integer"
        },
        {
         "name": "Outcome",
         "rawType": "int64",
         "type": "integer"
        }
       ],
       "conversionMethod": "pd.DataFrame",
       "ref": "7651637f-738e-4a8f-84a6-8c610469802c",
       "rows": [
        [
         "0",
         "6.0",
         "148",
         null,
         "35",
         "0.0",
         "33.6",
         "0.627",
         "50",
         "1"
        ],
        [
         "1",
         "1.0",
         "85",
         null,
         "29",
         "0.0",
         "26.6",
         "0.351",
         "31",
         "0"
        ],
        [
         "2",
         "8.0",
         "183",
         null,
         "0",
         "0.0",
         "23.3",
         "0.672",
         "32",
         "1"
        ],
        [
         "3",
         "1.0",
         "89",
         null,
         "23",
         "94.0",
         "28.1",
         "0.167",
         "21",
         "0"
        ],
        [
         "4",
         "0.0",
         "137",
         null,
         "35",
         "168.0",
         "43.1",
         "2.288",
         "33",
         "1"
        ],
        [
         "5",
         "5.0",
         "116",
         null,
         "0",
         "0.0",
         "25.6",
         "0.201",
         "30",
         "0"
        ],
        [
         "6",
         "3.0",
         "78",
         null,
         "32",
         "88.0",
         "31.0",
         "0.248",
         "26",
         "1"
        ],
        [
         "7",
         "10.0",
         "115",
         null,
         "0",
         "0.0",
         "35.3",
         "0.134",
         "29",
         "0"
        ],
        [
         "8",
         "2.0",
         "197",
         null,
         "45",
         "543.0",
         "30.5",
         "0.158",
         "53",
         "1"
        ],
        [
         "9",
         "8.0",
         "125",
         null,
         "0",
         "0.0",
         "0.0",
         "0.232",
         "54",
         "1"
        ]
       ],
       "shape": {
        "columns": 9,
        "rows": 10
       }
      },
      "text/html": [
       "<div>\n",
       "<style scoped>\n",
       "    .dataframe tbody tr th:only-of-type {\n",
       "        vertical-align: middle;\n",
       "    }\n",
       "\n",
       "    .dataframe tbody tr th {\n",
       "        vertical-align: top;\n",
       "    }\n",
       "\n",
       "    .dataframe thead th {\n",
       "        text-align: right;\n",
       "    }\n",
       "</style>\n",
       "<table border=\"1\" class=\"dataframe\">\n",
       "  <thead>\n",
       "    <tr style=\"text-align: right;\">\n",
       "      <th></th>\n",
       "      <th>Pregnancies</th>\n",
       "      <th>Glucose</th>\n",
       "      <th>BloodPressure</th>\n",
       "      <th>SkinThickness</th>\n",
       "      <th>Insulin</th>\n",
       "      <th>BMI</th>\n",
       "      <th>DiabetesPedigreeFunction</th>\n",
       "      <th>Age</th>\n",
       "      <th>Outcome</th>\n",
       "    </tr>\n",
       "  </thead>\n",
       "  <tbody>\n",
       "    <tr>\n",
       "      <th>0</th>\n",
       "      <td>6.0</td>\n",
       "      <td>148</td>\n",
       "      <td>NaN</td>\n",
       "      <td>35</td>\n",
       "      <td>0.0</td>\n",
       "      <td>33.6</td>\n",
       "      <td>0.627</td>\n",
       "      <td>50</td>\n",
       "      <td>1</td>\n",
       "    </tr>\n",
       "    <tr>\n",
       "      <th>1</th>\n",
       "      <td>1.0</td>\n",
       "      <td>85</td>\n",
       "      <td>NaN</td>\n",
       "      <td>29</td>\n",
       "      <td>0.0</td>\n",
       "      <td>26.6</td>\n",
       "      <td>0.351</td>\n",
       "      <td>31</td>\n",
       "      <td>0</td>\n",
       "    </tr>\n",
       "    <tr>\n",
       "      <th>2</th>\n",
       "      <td>8.0</td>\n",
       "      <td>183</td>\n",
       "      <td>NaN</td>\n",
       "      <td>0</td>\n",
       "      <td>0.0</td>\n",
       "      <td>23.3</td>\n",
       "      <td>0.672</td>\n",
       "      <td>32</td>\n",
       "      <td>1</td>\n",
       "    </tr>\n",
       "    <tr>\n",
       "      <th>3</th>\n",
       "      <td>1.0</td>\n",
       "      <td>89</td>\n",
       "      <td>NaN</td>\n",
       "      <td>23</td>\n",
       "      <td>94.0</td>\n",
       "      <td>28.1</td>\n",
       "      <td>0.167</td>\n",
       "      <td>21</td>\n",
       "      <td>0</td>\n",
       "    </tr>\n",
       "    <tr>\n",
       "      <th>4</th>\n",
       "      <td>0.0</td>\n",
       "      <td>137</td>\n",
       "      <td>NaN</td>\n",
       "      <td>35</td>\n",
       "      <td>168.0</td>\n",
       "      <td>43.1</td>\n",
       "      <td>2.288</td>\n",
       "      <td>33</td>\n",
       "      <td>1</td>\n",
       "    </tr>\n",
       "    <tr>\n",
       "      <th>5</th>\n",
       "      <td>5.0</td>\n",
       "      <td>116</td>\n",
       "      <td>NaN</td>\n",
       "      <td>0</td>\n",
       "      <td>0.0</td>\n",
       "      <td>25.6</td>\n",
       "      <td>0.201</td>\n",
       "      <td>30</td>\n",
       "      <td>0</td>\n",
       "    </tr>\n",
       "    <tr>\n",
       "      <th>6</th>\n",
       "      <td>3.0</td>\n",
       "      <td>78</td>\n",
       "      <td>NaN</td>\n",
       "      <td>32</td>\n",
       "      <td>88.0</td>\n",
       "      <td>31.0</td>\n",
       "      <td>0.248</td>\n",
       "      <td>26</td>\n",
       "      <td>1</td>\n",
       "    </tr>\n",
       "    <tr>\n",
       "      <th>7</th>\n",
       "      <td>10.0</td>\n",
       "      <td>115</td>\n",
       "      <td>NaN</td>\n",
       "      <td>0</td>\n",
       "      <td>0.0</td>\n",
       "      <td>35.3</td>\n",
       "      <td>0.134</td>\n",
       "      <td>29</td>\n",
       "      <td>0</td>\n",
       "    </tr>\n",
       "    <tr>\n",
       "      <th>8</th>\n",
       "      <td>2.0</td>\n",
       "      <td>197</td>\n",
       "      <td>NaN</td>\n",
       "      <td>45</td>\n",
       "      <td>543.0</td>\n",
       "      <td>30.5</td>\n",
       "      <td>0.158</td>\n",
       "      <td>53</td>\n",
       "      <td>1</td>\n",
       "    </tr>\n",
       "    <tr>\n",
       "      <th>9</th>\n",
       "      <td>8.0</td>\n",
       "      <td>125</td>\n",
       "      <td>NaN</td>\n",
       "      <td>0</td>\n",
       "      <td>0.0</td>\n",
       "      <td>0.0</td>\n",
       "      <td>0.232</td>\n",
       "      <td>54</td>\n",
       "      <td>1</td>\n",
       "    </tr>\n",
       "  </tbody>\n",
       "</table>\n",
       "</div>"
      ],
      "text/plain": [
       "   Pregnancies  Glucose  BloodPressure  SkinThickness  Insulin   BMI  \\\n",
       "0          6.0      148            NaN             35      0.0  33.6   \n",
       "1          1.0       85            NaN             29      0.0  26.6   \n",
       "2          8.0      183            NaN              0      0.0  23.3   \n",
       "3          1.0       89            NaN             23     94.0  28.1   \n",
       "4          0.0      137            NaN             35    168.0  43.1   \n",
       "5          5.0      116            NaN              0      0.0  25.6   \n",
       "6          3.0       78            NaN             32     88.0  31.0   \n",
       "7         10.0      115            NaN              0      0.0  35.3   \n",
       "8          2.0      197            NaN             45    543.0  30.5   \n",
       "9          8.0      125            NaN              0      0.0   0.0   \n",
       "\n",
       "   DiabetesPedigreeFunction  Age  Outcome  \n",
       "0                     0.627   50        1  \n",
       "1                     0.351   31        0  \n",
       "2                     0.672   32        1  \n",
       "3                     0.167   21        0  \n",
       "4                     2.288   33        1  \n",
       "5                     0.201   30        0  \n",
       "6                     0.248   26        1  \n",
       "7                     0.134   29        0  \n",
       "8                     0.158   53        1  \n",
       "9                     0.232   54        1  "
      ]
     },
     "execution_count": 28,
     "metadata": {},
     "output_type": "execute_result"
    }
   ],
   "source": [
    "# Regarder dans la base\n",
    "raw_data.head(10) # afficher les 5 premières lignes\n"
   ]
  },
  {
   "cell_type": "markdown",
   "metadata": {},
   "source": [
    "## 3- Afficher les 10 dernières lignes de la raw_data"
   ]
  },
  {
   "cell_type": "code",
   "execution_count": 4,
   "metadata": {},
   "outputs": [
    {
     "data": {
      "application/vnd.microsoft.datawrangler.viewer.v0+json": {
       "columns": [
        {
         "name": "index",
         "rawType": "int64",
         "type": "integer"
        },
        {
         "name": "Pregnancies",
         "rawType": "float64",
         "type": "float"
        },
        {
         "name": "Glucose",
         "rawType": "int64",
         "type": "integer"
        },
        {
         "name": "BloodPressure",
         "rawType": "float64",
         "type": "float"
        },
        {
         "name": "SkinThickness",
         "rawType": "int64",
         "type": "integer"
        },
        {
         "name": "Insulin",
         "rawType": "float64",
         "type": "float"
        },
        {
         "name": "BMI",
         "rawType": "float64",
         "type": "float"
        },
        {
         "name": "DiabetesPedigreeFunction",
         "rawType": "float64",
         "type": "float"
        },
        {
         "name": "Age",
         "rawType": "int64",
         "type": "integer"
        },
        {
         "name": "Outcome",
         "rawType": "int64",
         "type": "integer"
        }
       ],
       "conversionMethod": "pd.DataFrame",
       "ref": "1c222478-d1fa-4bc4-947e-3575053c1ebc",
       "rows": [
        [
         "758",
         "1.0",
         "106",
         "76.0",
         "0",
         "0.0",
         "37.5",
         "0.197",
         "26",
         "0"
        ],
        [
         "759",
         "6.0",
         "190",
         "92.0",
         "0",
         "0.0",
         "35.5",
         "0.278",
         "66",
         "1"
        ],
        [
         "760",
         "2.0",
         "88",
         "58.0",
         "26",
         "16.0",
         "28.4",
         "0.766",
         "22",
         "0"
        ],
        [
         "761",
         "9.0",
         "170",
         "74.0",
         "31",
         "0.0",
         "44.0",
         "0.403",
         "43",
         "1"
        ],
        [
         "762",
         "9.0",
         "89",
         "62.0",
         "0",
         "0.0",
         "22.5",
         "0.142",
         "33",
         "0"
        ],
        [
         "763",
         "10.0",
         "101",
         "76.0",
         "48",
         "180.0",
         "32.9",
         "0.171",
         "63",
         "0"
        ],
        [
         "764",
         "2.0",
         "122",
         "70.0",
         "27",
         "0.0",
         "36.8",
         "0.34",
         "27",
         "0"
        ],
        [
         "765",
         "5.0",
         "121",
         "72.0",
         "23",
         "112.0",
         "26.2",
         "0.245",
         "30",
         "0"
        ],
        [
         "766",
         "1.0",
         "126",
         "60.0",
         "0",
         "0.0",
         "30.1",
         "0.349",
         "47",
         "1"
        ],
        [
         "767",
         "1.0",
         "93",
         "70.0",
         "31",
         "0.0",
         "30.4",
         "0.315",
         "23",
         "0"
        ]
       ],
       "shape": {
        "columns": 9,
        "rows": 10
       }
      },
      "text/html": [
       "<div>\n",
       "<style scoped>\n",
       "    .dataframe tbody tr th:only-of-type {\n",
       "        vertical-align: middle;\n",
       "    }\n",
       "\n",
       "    .dataframe tbody tr th {\n",
       "        vertical-align: top;\n",
       "    }\n",
       "\n",
       "    .dataframe thead th {\n",
       "        text-align: right;\n",
       "    }\n",
       "</style>\n",
       "<table border=\"1\" class=\"dataframe\">\n",
       "  <thead>\n",
       "    <tr style=\"text-align: right;\">\n",
       "      <th></th>\n",
       "      <th>Pregnancies</th>\n",
       "      <th>Glucose</th>\n",
       "      <th>BloodPressure</th>\n",
       "      <th>SkinThickness</th>\n",
       "      <th>Insulin</th>\n",
       "      <th>BMI</th>\n",
       "      <th>DiabetesPedigreeFunction</th>\n",
       "      <th>Age</th>\n",
       "      <th>Outcome</th>\n",
       "    </tr>\n",
       "  </thead>\n",
       "  <tbody>\n",
       "    <tr>\n",
       "      <th>758</th>\n",
       "      <td>1.0</td>\n",
       "      <td>106</td>\n",
       "      <td>76.0</td>\n",
       "      <td>0</td>\n",
       "      <td>0.0</td>\n",
       "      <td>37.5</td>\n",
       "      <td>0.197</td>\n",
       "      <td>26</td>\n",
       "      <td>0</td>\n",
       "    </tr>\n",
       "    <tr>\n",
       "      <th>759</th>\n",
       "      <td>6.0</td>\n",
       "      <td>190</td>\n",
       "      <td>92.0</td>\n",
       "      <td>0</td>\n",
       "      <td>0.0</td>\n",
       "      <td>35.5</td>\n",
       "      <td>0.278</td>\n",
       "      <td>66</td>\n",
       "      <td>1</td>\n",
       "    </tr>\n",
       "    <tr>\n",
       "      <th>760</th>\n",
       "      <td>2.0</td>\n",
       "      <td>88</td>\n",
       "      <td>58.0</td>\n",
       "      <td>26</td>\n",
       "      <td>16.0</td>\n",
       "      <td>28.4</td>\n",
       "      <td>0.766</td>\n",
       "      <td>22</td>\n",
       "      <td>0</td>\n",
       "    </tr>\n",
       "    <tr>\n",
       "      <th>761</th>\n",
       "      <td>9.0</td>\n",
       "      <td>170</td>\n",
       "      <td>74.0</td>\n",
       "      <td>31</td>\n",
       "      <td>0.0</td>\n",
       "      <td>44.0</td>\n",
       "      <td>0.403</td>\n",
       "      <td>43</td>\n",
       "      <td>1</td>\n",
       "    </tr>\n",
       "    <tr>\n",
       "      <th>762</th>\n",
       "      <td>9.0</td>\n",
       "      <td>89</td>\n",
       "      <td>62.0</td>\n",
       "      <td>0</td>\n",
       "      <td>0.0</td>\n",
       "      <td>22.5</td>\n",
       "      <td>0.142</td>\n",
       "      <td>33</td>\n",
       "      <td>0</td>\n",
       "    </tr>\n",
       "    <tr>\n",
       "      <th>763</th>\n",
       "      <td>10.0</td>\n",
       "      <td>101</td>\n",
       "      <td>76.0</td>\n",
       "      <td>48</td>\n",
       "      <td>180.0</td>\n",
       "      <td>32.9</td>\n",
       "      <td>0.171</td>\n",
       "      <td>63</td>\n",
       "      <td>0</td>\n",
       "    </tr>\n",
       "    <tr>\n",
       "      <th>764</th>\n",
       "      <td>2.0</td>\n",
       "      <td>122</td>\n",
       "      <td>70.0</td>\n",
       "      <td>27</td>\n",
       "      <td>0.0</td>\n",
       "      <td>36.8</td>\n",
       "      <td>0.340</td>\n",
       "      <td>27</td>\n",
       "      <td>0</td>\n",
       "    </tr>\n",
       "    <tr>\n",
       "      <th>765</th>\n",
       "      <td>5.0</td>\n",
       "      <td>121</td>\n",
       "      <td>72.0</td>\n",
       "      <td>23</td>\n",
       "      <td>112.0</td>\n",
       "      <td>26.2</td>\n",
       "      <td>0.245</td>\n",
       "      <td>30</td>\n",
       "      <td>0</td>\n",
       "    </tr>\n",
       "    <tr>\n",
       "      <th>766</th>\n",
       "      <td>1.0</td>\n",
       "      <td>126</td>\n",
       "      <td>60.0</td>\n",
       "      <td>0</td>\n",
       "      <td>0.0</td>\n",
       "      <td>30.1</td>\n",
       "      <td>0.349</td>\n",
       "      <td>47</td>\n",
       "      <td>1</td>\n",
       "    </tr>\n",
       "    <tr>\n",
       "      <th>767</th>\n",
       "      <td>1.0</td>\n",
       "      <td>93</td>\n",
       "      <td>70.0</td>\n",
       "      <td>31</td>\n",
       "      <td>0.0</td>\n",
       "      <td>30.4</td>\n",
       "      <td>0.315</td>\n",
       "      <td>23</td>\n",
       "      <td>0</td>\n",
       "    </tr>\n",
       "  </tbody>\n",
       "</table>\n",
       "</div>"
      ],
      "text/plain": [
       "     Pregnancies  Glucose  BloodPressure  SkinThickness  Insulin   BMI  \\\n",
       "758          1.0      106           76.0              0      0.0  37.5   \n",
       "759          6.0      190           92.0              0      0.0  35.5   \n",
       "760          2.0       88           58.0             26     16.0  28.4   \n",
       "761          9.0      170           74.0             31      0.0  44.0   \n",
       "762          9.0       89           62.0              0      0.0  22.5   \n",
       "763         10.0      101           76.0             48    180.0  32.9   \n",
       "764          2.0      122           70.0             27      0.0  36.8   \n",
       "765          5.0      121           72.0             23    112.0  26.2   \n",
       "766          1.0      126           60.0              0      0.0  30.1   \n",
       "767          1.0       93           70.0             31      0.0  30.4   \n",
       "\n",
       "     DiabetesPedigreeFunction  Age  Outcome  \n",
       "758                     0.197   26        0  \n",
       "759                     0.278   66        1  \n",
       "760                     0.766   22        0  \n",
       "761                     0.403   43        1  \n",
       "762                     0.142   33        0  \n",
       "763                     0.171   63        0  \n",
       "764                     0.340   27        0  \n",
       "765                     0.245   30        0  \n",
       "766                     0.349   47        1  \n",
       "767                     0.315   23        0  "
      ]
     },
     "execution_count": 4,
     "metadata": {},
     "output_type": "execute_result"
    }
   ],
   "source": [
    "# Regarder dans la base\n",
    "raw_data.tail(10) # afficher les 5 premières lignes"
   ]
  },
  {
   "cell_type": "markdown",
   "metadata": {},
   "source": [
    "## 4- Quelle est la dimension (nombre de lignes et nombre de colonnes) de raw_data ?"
   ]
  },
  {
   "cell_type": "code",
   "execution_count": 5,
   "metadata": {},
   "outputs": [
    {
     "data": {
      "text/plain": [
       "(768, 9)"
      ]
     },
     "execution_count": 5,
     "metadata": {},
     "output_type": "execute_result"
    }
   ],
   "source": [
    "raw_data.shape"
   ]
  },
  {
   "cell_type": "markdown",
   "metadata": {},
   "source": [
    "## 5- Afficher les informations concernant les colonnes et leur type respectif"
   ]
  },
  {
   "cell_type": "code",
   "execution_count": 6,
   "metadata": {},
   "outputs": [
    {
     "name": "stdout",
     "output_type": "stream",
     "text": [
      "<class 'pandas.core.frame.DataFrame'>\n",
      "RangeIndex: 768 entries, 0 to 767\n",
      "Data columns (total 9 columns):\n",
      " #   Column                    Non-Null Count  Dtype  \n",
      "---  ------                    --------------  -----  \n",
      " 0   Pregnancies               741 non-null    float64\n",
      " 1   Glucose                   768 non-null    int64  \n",
      " 2   BloodPressure             748 non-null    float64\n",
      " 3   SkinThickness             768 non-null    int64  \n",
      " 4   Insulin                   747 non-null    float64\n",
      " 5   BMI                       768 non-null    float64\n",
      " 6   DiabetesPedigreeFunction  581 non-null    float64\n",
      " 7   Age                       768 non-null    int64  \n",
      " 8   Outcome                   768 non-null    int64  \n",
      "dtypes: float64(5), int64(4)\n",
      "memory usage: 54.1 KB\n"
     ]
    }
   ],
   "source": [
    "raw_data.info()"
   ]
  },
  {
   "cell_type": "markdown",
   "metadata": {},
   "source": [
    "## 6- Combien y-a-t-il de variables numériques"
   ]
  },
  {
   "cell_type": "code",
   "execution_count": 29,
   "metadata": {},
   "outputs": [
    {
     "data": {
      "text/plain": [
       "9"
      ]
     },
     "execution_count": 29,
     "metadata": {},
     "output_type": "execute_result"
    }
   ],
   "source": [
    "len(raw_data.select_dtypes(include='number').columns)"
   ]
  },
  {
   "cell_type": "markdown",
   "metadata": {},
   "source": [
    "## 7- Quelles sont les deux variables ayant le plus de valeurs manquantes"
   ]
  },
  {
   "cell_type": "code",
   "execution_count": 30,
   "metadata": {},
   "outputs": [
    {
     "data": {
      "text/plain": [
       "Pregnancies                  27\n",
       "DiabetesPedigreeFunction    187\n",
       "dtype: int64"
      ]
     },
     "execution_count": 30,
     "metadata": {},
     "output_type": "execute_result"
    }
   ],
   "source": [
    "# Proportion de valeurs manquantes\n",
    "nan_counts = raw_data.isnull().sum().sort_values(ascending=True)\n",
    "nan_counts = nan_counts[nan_counts > 0].tail(2)\n",
    "nan_counts"
   ]
  },
  {
   "cell_type": "markdown",
   "metadata": {},
   "source": [
    "## 8- Quelle est la proportion de valeurs manquantes dans les deux variables comportant le moins de valeurs manquantes ?"
   ]
  },
  {
   "cell_type": "code",
   "execution_count": 32,
   "metadata": {},
   "outputs": [
    {
     "data": {
      "text/plain": [
       "BloodPressure    0.026042\n",
       "Insulin          0.027344\n",
       "dtype: float64"
      ]
     },
     "execution_count": 32,
     "metadata": {},
     "output_type": "execute_result"
    }
   ],
   "source": [
    "nan_counts = raw_data.isnull().mean().sort_values(ascending=True)\n",
    "nan_counts = nan_counts[nan_counts > 0].head(2)\n",
    "nan_counts"
   ]
  },
  {
   "cell_type": "markdown",
   "metadata": {},
   "source": [
    "## 9- Convertir la variable \"Pregnancies\" en entier"
   ]
  },
  {
   "cell_type": "code",
   "execution_count": 11,
   "metadata": {},
   "outputs": [],
   "source": [
    "raw_data_con = raw_data.copy()\n",
    "raw_data_con[\"Pregnancies\"] = raw_data_con[\"Pregnancies\"].astype('Int64')\n"
   ]
  },
  {
   "cell_type": "markdown",
   "metadata": {},
   "source": [
    "## 10- Vérifier que la conversion a bien été faite"
   ]
  },
  {
   "cell_type": "code",
   "execution_count": 33,
   "metadata": {},
   "outputs": [
    {
     "name": "stdout",
     "output_type": "stream",
     "text": [
      "<class 'pandas.core.frame.DataFrame'>\n",
      "RangeIndex: 768 entries, 0 to 767\n",
      "Data columns (total 9 columns):\n",
      " #   Column                    Non-Null Count  Dtype  \n",
      "---  ------                    --------------  -----  \n",
      " 0   Pregnancies               741 non-null    Int64  \n",
      " 1   Glucose                   768 non-null    int64  \n",
      " 2   BloodPressure             748 non-null    float64\n",
      " 3   SkinThickness             768 non-null    int64  \n",
      " 4   Insulin                   747 non-null    float64\n",
      " 5   BMI                       768 non-null    float64\n",
      " 6   DiabetesPedigreeFunction  581 non-null    float64\n",
      " 7   Age                       768 non-null    int64  \n",
      " 8   Outcome                   768 non-null    int64  \n",
      "dtypes: Int64(1), float64(4), int64(4)\n",
      "memory usage: 54.9 KB\n"
     ]
    },
    {
     "data": {
      "text/plain": [
       "Int64Dtype()"
      ]
     },
     "execution_count": 33,
     "metadata": {},
     "output_type": "execute_result"
    }
   ],
   "source": [
    "raw_data_con.info()\n",
    "# ou\n",
    "raw_data_con[\"Pregnancies\"].dtype"
   ]
  },
  {
   "cell_type": "markdown",
   "metadata": {},
   "source": [
    "## 11- imputer la variables Pregnancies par la médiane "
   ]
  },
  {
   "cell_type": "code",
   "execution_count": 34,
   "metadata": {},
   "outputs": [],
   "source": [
    "raw_data_con_imp = raw_data_con.copy()\n",
    "raw_data_con_imp[\"Pregnancies\"] = raw_data_con_imp[\"Pregnancies\"].fillna(raw_data_con_imp[\"Pregnancies\"].median())"
   ]
  },
  {
   "cell_type": "markdown",
   "metadata": {},
   "source": [
    "## 12- Vérifier que l'imputation a bien été faite"
   ]
  },
  {
   "cell_type": "code",
   "execution_count": 38,
   "metadata": {},
   "outputs": [
    {
     "data": {
      "text/plain": [
       "0"
      ]
     },
     "execution_count": 38,
     "metadata": {},
     "output_type": "execute_result"
    }
   ],
   "source": [
    "raw_data_con_imp[\"Pregnancies\"].isnull().sum()"
   ]
  },
  {
   "cell_type": "markdown",
   "metadata": {},
   "source": [
    "## 13- Comment la moyenne et la médiane de la variable Pregnancies ont été modifiées après l'imputation"
   ]
  },
  {
   "cell_type": "code",
   "execution_count": 36,
   "metadata": {},
   "outputs": [
    {
     "name": "stdout",
     "output_type": "stream",
     "text": [
      "moyenne avant imputation : 3.8421052631578947 moyenne après imputation : 3.8125\n",
      "mediane avant imputation : 3.0 mediane après imputation : 3.0\n"
     ]
    }
   ],
   "source": [
    "print(\"moyenne avant imputation :\", raw_data_con[\"Pregnancies\"].mean(), \"moyenne après imputation :\", raw_data_con_imp[\"Pregnancies\"].mean())\n",
    "print(\"mediane avant imputation :\", raw_data_con[\"Pregnancies\"].median(), \"mediane après imputation :\", raw_data_con_imp[\"Pregnancies\"].median())"
   ]
  },
  {
   "cell_type": "markdown",
   "metadata": {},
   "source": [
    "## 14- Imputer toutes les autres valeurs manquantes par la stratégie de votre choix et explique"
   ]
  },
  {
   "cell_type": "markdown",
   "metadata": {},
   "source": [
    "### Manuellement"
   ]
  },
  {
   "cell_type": "code",
   "execution_count": 37,
   "metadata": {},
   "outputs": [],
   "source": [
    "raw_data_con_imp_man = raw_data_con_imp.copy()\n",
    "raw_data_con_imp_man[\"Glucose\"] = raw_data[\"Glucose\"].fillna(raw_data[\"Glucose\"].median())\n",
    "raw_data_con_imp_man[\"Insulin\"] = raw_data[\"Insulin\"].fillna(raw_data[\"Insulin\"].mean())\n",
    "raw_data_con_imp_man[\"DiabetesPedigreeFunction\"] = raw_data[\"DiabetesPedigreeFunction\"].fillna(raw_data[\"DiabetesPedigreeFunction\"].mode())"
   ]
  },
  {
   "cell_type": "markdown",
   "metadata": {},
   "source": [
    "### Automatisé"
   ]
  },
  {
   "cell_type": "code",
   "execution_count": 39,
   "metadata": {},
   "outputs": [
    {
     "name": "stdout",
     "output_type": "stream",
     "text": [
      "     Glucose  Insulin  DiabetesPedigreeFunction\n",
      "0      148.0      0.0                     0.627\n",
      "1       85.0      0.0                     0.351\n",
      "2      183.0      0.0                     0.672\n",
      "3       89.0     94.0                     0.167\n",
      "4      137.0    168.0                     2.288\n",
      "..       ...      ...                       ...\n",
      "763    101.0    180.0                     0.171\n",
      "764    122.0      0.0                     0.340\n",
      "765    121.0    112.0                     0.245\n",
      "766    126.0      0.0                     0.349\n",
      "767     93.0      0.0                     0.315\n",
      "\n",
      "[768 rows x 3 columns]\n",
      "<class 'pandas.core.frame.DataFrame'>\n",
      "RangeIndex: 768 entries, 0 to 767\n",
      "Data columns (total 3 columns):\n",
      " #   Column                    Non-Null Count  Dtype  \n",
      "---  ------                    --------------  -----  \n",
      " 0   Glucose                   768 non-null    float64\n",
      " 1   Insulin                   768 non-null    float64\n",
      " 2   DiabetesPedigreeFunction  768 non-null    float64\n",
      "dtypes: float64(3)\n",
      "memory usage: 18.1 KB\n",
      "None\n"
     ]
    },
    {
     "name": "stderr",
     "output_type": "stream",
     "text": [
      "/home/lewis/ESGI_ML_5AL1_2025/ESGI_ML_5AL1_2025/.cours-ml/lib/python3.11/site-packages/sklearn/base.py:493: UserWarning: X does not have valid feature names, but SimpleImputer was fitted with feature names\n",
      "  warnings.warn(\n"
     ]
    },
    {
     "data": {
      "application/vnd.microsoft.datawrangler.viewer.v0+json": {
       "columns": [
        {
         "name": "index",
         "rawType": "object",
         "type": "string"
        },
        {
         "name": "Glucose",
         "rawType": "float64",
         "type": "float"
        },
        {
         "name": "Insulin",
         "rawType": "float64",
         "type": "float"
        },
        {
         "name": "DiabetesPedigreeFunction",
         "rawType": "float64",
         "type": "float"
        }
       ],
       "conversionMethod": "pd.DataFrame",
       "ref": "4d3dc2a0-6c0f-4421-a942-3d06b08cf8ee",
       "rows": [
        [
         "count",
         "768.0",
         "768.0",
         "768.0"
        ],
        [
         "mean",
         "120.89453125",
         "79.75234270414994",
         "0.47609122203098103"
        ],
        [
         "std",
         "31.97261819513622",
         "113.40336094231107",
         "0.2955558045314277"
        ],
        [
         "min",
         "0.0",
         "0.0",
         "0.078"
        ],
        [
         "25%",
         "99.0",
         "0.0",
         "0.2665"
        ],
        [
         "50%",
         "117.0",
         "42.5",
         "0.47609122203098103"
        ],
        [
         "75%",
         "140.25",
         "125.25",
         "0.536"
        ],
        [
         "max",
         "199.0",
         "846.0",
         "2.42"
        ]
       ],
       "shape": {
        "columns": 3,
        "rows": 8
       }
      },
      "text/html": [
       "<div>\n",
       "<style scoped>\n",
       "    .dataframe tbody tr th:only-of-type {\n",
       "        vertical-align: middle;\n",
       "    }\n",
       "\n",
       "    .dataframe tbody tr th {\n",
       "        vertical-align: top;\n",
       "    }\n",
       "\n",
       "    .dataframe thead th {\n",
       "        text-align: right;\n",
       "    }\n",
       "</style>\n",
       "<table border=\"1\" class=\"dataframe\">\n",
       "  <thead>\n",
       "    <tr style=\"text-align: right;\">\n",
       "      <th></th>\n",
       "      <th>Glucose</th>\n",
       "      <th>Insulin</th>\n",
       "      <th>DiabetesPedigreeFunction</th>\n",
       "    </tr>\n",
       "  </thead>\n",
       "  <tbody>\n",
       "    <tr>\n",
       "      <th>count</th>\n",
       "      <td>768.000000</td>\n",
       "      <td>768.000000</td>\n",
       "      <td>768.000000</td>\n",
       "    </tr>\n",
       "    <tr>\n",
       "      <th>mean</th>\n",
       "      <td>120.894531</td>\n",
       "      <td>79.752343</td>\n",
       "      <td>0.476091</td>\n",
       "    </tr>\n",
       "    <tr>\n",
       "      <th>std</th>\n",
       "      <td>31.972618</td>\n",
       "      <td>113.403361</td>\n",
       "      <td>0.295556</td>\n",
       "    </tr>\n",
       "    <tr>\n",
       "      <th>min</th>\n",
       "      <td>0.000000</td>\n",
       "      <td>0.000000</td>\n",
       "      <td>0.078000</td>\n",
       "    </tr>\n",
       "    <tr>\n",
       "      <th>25%</th>\n",
       "      <td>99.000000</td>\n",
       "      <td>0.000000</td>\n",
       "      <td>0.266500</td>\n",
       "    </tr>\n",
       "    <tr>\n",
       "      <th>50%</th>\n",
       "      <td>117.000000</td>\n",
       "      <td>42.500000</td>\n",
       "      <td>0.476091</td>\n",
       "    </tr>\n",
       "    <tr>\n",
       "      <th>75%</th>\n",
       "      <td>140.250000</td>\n",
       "      <td>125.250000</td>\n",
       "      <td>0.536000</td>\n",
       "    </tr>\n",
       "    <tr>\n",
       "      <th>max</th>\n",
       "      <td>199.000000</td>\n",
       "      <td>846.000000</td>\n",
       "      <td>2.420000</td>\n",
       "    </tr>\n",
       "  </tbody>\n",
       "</table>\n",
       "</div>"
      ],
      "text/plain": [
       "          Glucose     Insulin  DiabetesPedigreeFunction\n",
       "count  768.000000  768.000000                768.000000\n",
       "mean   120.894531   79.752343                  0.476091\n",
       "std     31.972618  113.403361                  0.295556\n",
       "min      0.000000    0.000000                  0.078000\n",
       "25%     99.000000    0.000000                  0.266500\n",
       "50%    117.000000   42.500000                  0.476091\n",
       "75%    140.250000  125.250000                  0.536000\n",
       "max    199.000000  846.000000                  2.420000"
      ]
     },
     "execution_count": 39,
     "metadata": {},
     "output_type": "execute_result"
    }
   ],
   "source": [
    "from sklearn.impute import SimpleImputer\n",
    "\n",
    "imputer = SimpleImputer(missing_values=np.nan, strategy='mean').fit(raw_data_con_imp[['Glucose', 'Insulin', 'DiabetesPedigreeFunction' ]])\n",
    "\n",
    "# mean, most_frequent, median\n",
    "\n",
    "data_impute = imputer.transform(raw_data_con_imp[['Glucose', 'Insulin', 'DiabetesPedigreeFunction' ]].values)\n",
    "\n",
    "data_impute_auto = pd.DataFrame(data_impute, columns = ['Glucose', 'Insulin', 'DiabetesPedigreeFunction' ])\n",
    "\n",
    "print(data_impute_auto)\n",
    "print(data_impute_auto.info())\n",
    "\n",
    "data_impute_auto.describe()\n"
   ]
  },
  {
   "cell_type": "code",
   "execution_count": 40,
   "metadata": {},
   "outputs": [
    {
     "name": "stdout",
     "output_type": "stream",
     "text": [
      "<class 'pandas.core.frame.DataFrame'>\n",
      "RangeIndex: 768 entries, 0 to 767\n",
      "Data columns (total 9 columns):\n",
      " #   Column                    Non-Null Count  Dtype  \n",
      "---  ------                    --------------  -----  \n",
      " 0   Pregnancies               768 non-null    Int64  \n",
      " 1   BloodPressure             748 non-null    float64\n",
      " 2   SkinThickness             768 non-null    int64  \n",
      " 3   BMI                       768 non-null    float64\n",
      " 4   Age                       768 non-null    int64  \n",
      " 5   Outcome                   768 non-null    int64  \n",
      " 6   Glucose                   768 non-null    float64\n",
      " 7   Insulin                   768 non-null    float64\n",
      " 8   DiabetesPedigreeFunction  768 non-null    float64\n",
      "dtypes: Int64(1), float64(5), int64(3)\n",
      "memory usage: 54.9 KB\n"
     ]
    }
   ],
   "source": [
    "data_nettoye = pd.concat([raw_data_con_imp[['Pregnancies', 'BloodPressure', 'SkinThickness',\n",
    "       'BMI', 'Age', 'Outcome']], data_impute_auto], axis=1, join=\"outer\") \n",
    "data_nettoye.info()"
   ]
  },
  {
   "cell_type": "markdown",
   "metadata": {},
   "source": [
    "## 15 Sélectionner toutes les variables sauf outcome "
   ]
  },
  {
   "cell_type": "code",
   "execution_count": 43,
   "metadata": {},
   "outputs": [],
   "source": [
    "data_nettoye1 = data_nettoye[['Pregnancies', 'BloodPressure', 'SkinThickness', 'BMI', 'Age', 'Glucose', 'Insulin', 'DiabetesPedigreeFunction']]"
   ]
  },
  {
   "cell_type": "markdown",
   "metadata": {},
   "source": [
    "## 16 travailler uniquement les personnes ayant eu au moins une grossesse et la mettre dans une nouvelle table de données nommée donnees_propres"
   ]
  },
  {
   "cell_type": "code",
   "execution_count": 44,
   "metadata": {},
   "outputs": [],
   "source": [
    "donnees_propres = data_nettoye1[data_nettoye1[\"Pregnancies\"] > 0]"
   ]
  },
  {
   "cell_type": "markdown",
   "metadata": {},
   "source": [
    "## 17 calculer et afficher la table de correlation de la table donnees_propre"
   ]
  },
  {
   "cell_type": "code",
   "execution_count": 45,
   "metadata": {},
   "outputs": [
    {
     "data": {
      "application/vnd.microsoft.datawrangler.viewer.v0+json": {
       "columns": [
        {
         "name": "index",
         "rawType": "object",
         "type": "string"
        },
        {
         "name": "Pregnancies",
         "rawType": "float64",
         "type": "float"
        },
        {
         "name": "BloodPressure",
         "rawType": "float64",
         "type": "float"
        },
        {
         "name": "SkinThickness",
         "rawType": "float64",
         "type": "float"
        },
        {
         "name": "BMI",
         "rawType": "float64",
         "type": "float"
        },
        {
         "name": "Age",
         "rawType": "float64",
         "type": "float"
        },
        {
         "name": "Glucose",
         "rawType": "float64",
         "type": "float"
        },
        {
         "name": "Insulin",
         "rawType": "float64",
         "type": "float"
        },
        {
         "name": "DiabetesPedigreeFunction",
         "rawType": "float64",
         "type": "float"
        }
       ],
       "conversionMethod": "pd.DataFrame",
       "ref": "bc33d870-2d97-4f87-9175-5df93e517628",
       "rows": [
        [
         "Pregnancies",
         "1.0",
         "0.1595036681916307",
         "-0.07985895605462368",
         "0.08125201153113447",
         "0.5441835455054461",
         "0.15915450510589485",
         "-0.09640766926145337",
         "0.0008618850534458416"
        ],
        [
         "BloodPressure",
         "0.1595036681916307",
         "1.0",
         "0.16463118987285996",
         "0.34827294911057965",
         "0.27468960647499385",
         "0.1715111237681838",
         "0.07112327631335581",
         "0.056869990340331876"
        ],
        [
         "SkinThickness",
         "-0.07985895605462368",
         "0.16463118987285996",
         "1.0",
         "0.37254427548212443",
         "-0.08809793473822014",
         "0.02674222867184816",
         "0.42723898157863",
         "0.17161937968633814"
        ],
        [
         "BMI",
         "0.08125201153113447",
         "0.34827294911057965",
         "0.37254427548212443",
         "1.0",
         "0.06503364416716294",
         "0.19642504291152463",
         "0.182841426839862",
         "0.10494372261931552"
        ],
        [
         "Age",
         "0.5441835455054461",
         "0.27468960647499385",
         "-0.08809793473822014",
         "0.06503364416716294",
         "1.0",
         "0.3029825517979144",
         "-0.038356954890180116",
         "0.015658329705070646"
        ],
        [
         "Glucose",
         "0.15915450510589485",
         "0.1715111237681838",
         "0.02674222867184816",
         "0.19642504291152463",
         "0.3029825517979144",
         "1.0",
         "0.3167720500179779",
         "0.09406688574572655"
        ],
        [
         "Insulin",
         "-0.09640766926145337",
         "0.07112327631335581",
         "0.42723898157863",
         "0.182841426839862",
         "-0.038356954890180116",
         "0.3167720500179779",
         "1.0",
         "0.2032208324157487"
        ],
        [
         "DiabetesPedigreeFunction",
         "0.0008618850534458416",
         "0.056869990340331876",
         "0.17161937968633814",
         "0.10494372261931552",
         "0.015658329705070646",
         "0.09406688574572655",
         "0.2032208324157487",
         "1.0"
        ]
       ],
       "shape": {
        "columns": 8,
        "rows": 8
       }
      },
      "text/html": [
       "<div>\n",
       "<style scoped>\n",
       "    .dataframe tbody tr th:only-of-type {\n",
       "        vertical-align: middle;\n",
       "    }\n",
       "\n",
       "    .dataframe tbody tr th {\n",
       "        vertical-align: top;\n",
       "    }\n",
       "\n",
       "    .dataframe thead th {\n",
       "        text-align: right;\n",
       "    }\n",
       "</style>\n",
       "<table border=\"1\" class=\"dataframe\">\n",
       "  <thead>\n",
       "    <tr style=\"text-align: right;\">\n",
       "      <th></th>\n",
       "      <th>Pregnancies</th>\n",
       "      <th>BloodPressure</th>\n",
       "      <th>SkinThickness</th>\n",
       "      <th>BMI</th>\n",
       "      <th>Age</th>\n",
       "      <th>Glucose</th>\n",
       "      <th>Insulin</th>\n",
       "      <th>DiabetesPedigreeFunction</th>\n",
       "    </tr>\n",
       "  </thead>\n",
       "  <tbody>\n",
       "    <tr>\n",
       "      <th>Pregnancies</th>\n",
       "      <td>1.000000</td>\n",
       "      <td>0.159504</td>\n",
       "      <td>-0.079859</td>\n",
       "      <td>0.081252</td>\n",
       "      <td>0.544184</td>\n",
       "      <td>0.159155</td>\n",
       "      <td>-0.096408</td>\n",
       "      <td>0.000862</td>\n",
       "    </tr>\n",
       "    <tr>\n",
       "      <th>BloodPressure</th>\n",
       "      <td>0.159504</td>\n",
       "      <td>1.000000</td>\n",
       "      <td>0.164631</td>\n",
       "      <td>0.348273</td>\n",
       "      <td>0.274690</td>\n",
       "      <td>0.171511</td>\n",
       "      <td>0.071123</td>\n",
       "      <td>0.056870</td>\n",
       "    </tr>\n",
       "    <tr>\n",
       "      <th>SkinThickness</th>\n",
       "      <td>-0.079859</td>\n",
       "      <td>0.164631</td>\n",
       "      <td>1.000000</td>\n",
       "      <td>0.372544</td>\n",
       "      <td>-0.088098</td>\n",
       "      <td>0.026742</td>\n",
       "      <td>0.427239</td>\n",
       "      <td>0.171619</td>\n",
       "    </tr>\n",
       "    <tr>\n",
       "      <th>BMI</th>\n",
       "      <td>0.081252</td>\n",
       "      <td>0.348273</td>\n",
       "      <td>0.372544</td>\n",
       "      <td>1.000000</td>\n",
       "      <td>0.065034</td>\n",
       "      <td>0.196425</td>\n",
       "      <td>0.182841</td>\n",
       "      <td>0.104944</td>\n",
       "    </tr>\n",
       "    <tr>\n",
       "      <th>Age</th>\n",
       "      <td>0.544184</td>\n",
       "      <td>0.274690</td>\n",
       "      <td>-0.088098</td>\n",
       "      <td>0.065034</td>\n",
       "      <td>1.000000</td>\n",
       "      <td>0.302983</td>\n",
       "      <td>-0.038357</td>\n",
       "      <td>0.015658</td>\n",
       "    </tr>\n",
       "    <tr>\n",
       "      <th>Glucose</th>\n",
       "      <td>0.159155</td>\n",
       "      <td>0.171511</td>\n",
       "      <td>0.026742</td>\n",
       "      <td>0.196425</td>\n",
       "      <td>0.302983</td>\n",
       "      <td>1.000000</td>\n",
       "      <td>0.316772</td>\n",
       "      <td>0.094067</td>\n",
       "    </tr>\n",
       "    <tr>\n",
       "      <th>Insulin</th>\n",
       "      <td>-0.096408</td>\n",
       "      <td>0.071123</td>\n",
       "      <td>0.427239</td>\n",
       "      <td>0.182841</td>\n",
       "      <td>-0.038357</td>\n",
       "      <td>0.316772</td>\n",
       "      <td>1.000000</td>\n",
       "      <td>0.203221</td>\n",
       "    </tr>\n",
       "    <tr>\n",
       "      <th>DiabetesPedigreeFunction</th>\n",
       "      <td>0.000862</td>\n",
       "      <td>0.056870</td>\n",
       "      <td>0.171619</td>\n",
       "      <td>0.104944</td>\n",
       "      <td>0.015658</td>\n",
       "      <td>0.094067</td>\n",
       "      <td>0.203221</td>\n",
       "      <td>1.000000</td>\n",
       "    </tr>\n",
       "  </tbody>\n",
       "</table>\n",
       "</div>"
      ],
      "text/plain": [
       "                          Pregnancies  BloodPressure  SkinThickness       BMI  \\\n",
       "Pregnancies                  1.000000       0.159504      -0.079859  0.081252   \n",
       "BloodPressure                0.159504       1.000000       0.164631  0.348273   \n",
       "SkinThickness               -0.079859       0.164631       1.000000  0.372544   \n",
       "BMI                          0.081252       0.348273       0.372544  1.000000   \n",
       "Age                          0.544184       0.274690      -0.088098  0.065034   \n",
       "Glucose                      0.159155       0.171511       0.026742  0.196425   \n",
       "Insulin                     -0.096408       0.071123       0.427239  0.182841   \n",
       "DiabetesPedigreeFunction     0.000862       0.056870       0.171619  0.104944   \n",
       "\n",
       "                               Age   Glucose   Insulin  \\\n",
       "Pregnancies               0.544184  0.159155 -0.096408   \n",
       "BloodPressure             0.274690  0.171511  0.071123   \n",
       "SkinThickness            -0.088098  0.026742  0.427239   \n",
       "BMI                       0.065034  0.196425  0.182841   \n",
       "Age                       1.000000  0.302983 -0.038357   \n",
       "Glucose                   0.302983  1.000000  0.316772   \n",
       "Insulin                  -0.038357  0.316772  1.000000   \n",
       "DiabetesPedigreeFunction  0.015658  0.094067  0.203221   \n",
       "\n",
       "                          DiabetesPedigreeFunction  \n",
       "Pregnancies                               0.000862  \n",
       "BloodPressure                             0.056870  \n",
       "SkinThickness                             0.171619  \n",
       "BMI                                       0.104944  \n",
       "Age                                       0.015658  \n",
       "Glucose                                   0.094067  \n",
       "Insulin                                   0.203221  \n",
       "DiabetesPedigreeFunction                  1.000000  "
      ]
     },
     "execution_count": 45,
     "metadata": {},
     "output_type": "execute_result"
    }
   ],
   "source": [
    "# calcul de la table de corrélation\n",
    "\n",
    "table_corr = donnees_propres.corr()\n",
    "\n",
    "table_corr"
   ]
  },
  {
   "cell_type": "markdown",
   "metadata": {},
   "source": [
    "## 18 afficher le graphe de la table de correspondance"
   ]
  },
  {
   "cell_type": "code",
   "execution_count": 46,
   "metadata": {},
   "outputs": [
    {
     "data": {
      "image/png": "[encoded data removed]",
      "text/plain": [
       "<Figure size 2000x2000 with 2 Axes>"
      ]
     },
     "metadata": {},
     "output_type": "display_data"
    }
   ],
   "source": [
    "# graphique des correlations\n",
    "plt.figure(figsize=(20, 20))\n",
    "\n",
    "plt.title(\"Table de corrélation des 10 premières variables\", fontsize=30)\n",
    "\n",
    "sns.set(style=\"darkgrid\", font_scale=2)\n",
    "plt.xlabel(\"\",fontsize=20)\n",
    "plt.ylabel(\"\",fontsize=20)\n",
    "\n",
    "sns.heatmap(table_corr, \n",
    "            cmap='viridis',\n",
    "            cbar=True,\n",
    "            #vmax=1.0, vmin=-1.0,\n",
    "            linewidths=0.3,\n",
    "            annot=True,\n",
    "            #annot_kws={\"size\": 8}, square=True\n",
    "           );"
   ]
  },
  {
   "cell_type": "markdown",
   "metadata": {},
   "source": [
    "## 19 afficher les statistiques descriptives des variables numériques"
   ]
  },
  {
   "cell_type": "code",
   "execution_count": 47,
   "metadata": {},
   "outputs": [
    {
     "data": {
      "application/vnd.microsoft.datawrangler.viewer.v0+json": {
       "columns": [
        {
         "name": "index",
         "rawType": "object",
         "type": "string"
        },
        {
         "name": "Pregnancies",
         "rawType": "Float64",
         "type": "float"
        },
        {
         "name": "BloodPressure",
         "rawType": "float64",
         "type": "float"
        },
        {
         "name": "SkinThickness",
         "rawType": "float64",
         "type": "float"
        },
        {
         "name": "BMI",
         "rawType": "float64",
         "type": "float"
        },
        {
         "name": "Age",
         "rawType": "float64",
         "type": "float"
        },
        {
         "name": "Glucose",
         "rawType": "float64",
         "type": "float"
        },
        {
         "name": "Insulin",
         "rawType": "float64",
         "type": "float"
        },
        {
         "name": "DiabetesPedigreeFunction",
         "rawType": "float64",
         "type": "float"
        }
       ],
       "conversionMethod": "pd.DataFrame",
       "ref": "fc166027-c55c-430e-a2f1-753c6381ab03",
       "rows": [
        [
         "count",
         "661.0",
         "643.0",
         "661.0",
         "661.0",
         "661.0",
         "661.0",
         "661.0",
         "661.0"
        ],
        [
         "mean",
         "4.42965204236006",
         "69.75272161741835",
         "20.26928895612708",
         "31.682148260211804",
         "34.149773071104384",
         "120.5552193645991",
         "79.71376580451914",
         "0.47463300533016"
        ],
        [
         "std",
         "3.160834858064267",
         "18.122965359520567",
         "15.771381185351222",
         "7.452155408099757",
         "11.798701293835373",
         "32.30018375248399",
         "112.90427114526798",
         "0.2824690629682063"
        ],
        [
         "min",
         "1.0",
         "0.0",
         "0.0",
         "0.0",
         "21.0",
         "0.0",
         "0.0",
         "0.085"
        ],
        [
         "25%",
         "2.0",
         "62.0",
         "0.0",
         "27.1",
         "25.0",
         "99.0",
         "0.0",
         "0.268"
        ],
        [
         "50%",
         "3.0",
         "72.0",
         "23.0",
         "31.6",
         "30.0",
         "116.0",
         "44.0",
         "0.47609122203098103"
        ],
        [
         "75%",
         "7.0",
         "80.0",
         "32.0",
         "35.9",
         "41.0",
         "141.0",
         "126.0",
         "0.537"
        ],
        [
         "max",
         "15.0",
         "122.0",
         "99.0",
         "67.1",
         "81.0",
         "199.0",
         "846.0",
         "2.329"
        ]
       ],
       "shape": {
        "columns": 8,
        "rows": 8
       }
      },
      "text/html": [
       "<div>\n",
       "<style scoped>\n",
       "    .dataframe tbody tr th:only-of-type {\n",
       "        vertical-align: middle;\n",
       "    }\n",
       "\n",
       "    .dataframe tbody tr th {\n",
       "        vertical-align: top;\n",
       "    }\n",
       "\n",
       "    .dataframe thead th {\n",
       "        text-align: right;\n",
       "    }\n",
       "</style>\n",
       "<table border=\"1\" class=\"dataframe\">\n",
       "  <thead>\n",
       "    <tr style=\"text-align: right;\">\n",
       "      <th></th>\n",
       "      <th>Pregnancies</th>\n",
       "      <th>BloodPressure</th>\n",
       "      <th>SkinThickness</th>\n",
       "      <th>BMI</th>\n",
       "      <th>Age</th>\n",
       "      <th>Glucose</th>\n",
       "      <th>Insulin</th>\n",
       "      <th>DiabetesPedigreeFunction</th>\n",
       "    </tr>\n",
       "  </thead>\n",
       "  <tbody>\n",
       "    <tr>\n",
       "      <th>count</th>\n",
       "      <td>661.0</td>\n",
       "      <td>643.000000</td>\n",
       "      <td>661.000000</td>\n",
       "      <td>661.000000</td>\n",
       "      <td>661.000000</td>\n",
       "      <td>661.000000</td>\n",
       "      <td>661.000000</td>\n",
       "      <td>661.000000</td>\n",
       "    </tr>\n",
       "    <tr>\n",
       "      <th>mean</th>\n",
       "      <td>4.429652</td>\n",
       "      <td>69.752722</td>\n",
       "      <td>20.269289</td>\n",
       "      <td>31.682148</td>\n",
       "      <td>34.149773</td>\n",
       "      <td>120.555219</td>\n",
       "      <td>79.713766</td>\n",
       "      <td>0.474633</td>\n",
       "    </tr>\n",
       "    <tr>\n",
       "      <th>std</th>\n",
       "      <td>3.160835</td>\n",
       "      <td>18.122965</td>\n",
       "      <td>15.771381</td>\n",
       "      <td>7.452155</td>\n",
       "      <td>11.798701</td>\n",
       "      <td>32.300184</td>\n",
       "      <td>112.904271</td>\n",
       "      <td>0.282469</td>\n",
       "    </tr>\n",
       "    <tr>\n",
       "      <th>min</th>\n",
       "      <td>1.0</td>\n",
       "      <td>0.000000</td>\n",
       "      <td>0.000000</td>\n",
       "      <td>0.000000</td>\n",
       "      <td>21.000000</td>\n",
       "      <td>0.000000</td>\n",
       "      <td>0.000000</td>\n",
       "      <td>0.085000</td>\n",
       "    </tr>\n",
       "    <tr>\n",
       "      <th>25%</th>\n",
       "      <td>2.0</td>\n",
       "      <td>62.000000</td>\n",
       "      <td>0.000000</td>\n",
       "      <td>27.100000</td>\n",
       "      <td>25.000000</td>\n",
       "      <td>99.000000</td>\n",
       "      <td>0.000000</td>\n",
       "      <td>0.268000</td>\n",
       "    </tr>\n",
       "    <tr>\n",
       "      <th>50%</th>\n",
       "      <td>3.0</td>\n",
       "      <td>72.000000</td>\n",
       "      <td>23.000000</td>\n",
       "      <td>31.600000</td>\n",
       "      <td>30.000000</td>\n",
       "      <td>116.000000</td>\n",
       "      <td>44.000000</td>\n",
       "      <td>0.476091</td>\n",
       "    </tr>\n",
       "    <tr>\n",
       "      <th>75%</th>\n",
       "      <td>7.0</td>\n",
       "      <td>80.000000</td>\n",
       "      <td>32.000000</td>\n",
       "      <td>35.900000</td>\n",
       "      <td>41.000000</td>\n",
       "      <td>141.000000</td>\n",
       "      <td>126.000000</td>\n",
       "      <td>0.537000</td>\n",
       "    </tr>\n",
       "    <tr>\n",
       "      <th>max</th>\n",
       "      <td>15.0</td>\n",
       "      <td>122.000000</td>\n",
       "      <td>99.000000</td>\n",
       "      <td>67.100000</td>\n",
       "      <td>81.000000</td>\n",
       "      <td>199.000000</td>\n",
       "      <td>846.000000</td>\n",
       "      <td>2.329000</td>\n",
       "    </tr>\n",
       "  </tbody>\n",
       "</table>\n",
       "</div>"
      ],
      "text/plain": [
       "       Pregnancies  BloodPressure  SkinThickness         BMI         Age  \\\n",
       "count        661.0     643.000000     661.000000  661.000000  661.000000   \n",
       "mean      4.429652      69.752722      20.269289   31.682148   34.149773   \n",
       "std       3.160835      18.122965      15.771381    7.452155   11.798701   \n",
       "min            1.0       0.000000       0.000000    0.000000   21.000000   \n",
       "25%            2.0      62.000000       0.000000   27.100000   25.000000   \n",
       "50%            3.0      72.000000      23.000000   31.600000   30.000000   \n",
       "75%            7.0      80.000000      32.000000   35.900000   41.000000   \n",
       "max           15.0     122.000000      99.000000   67.100000   81.000000   \n",
       "\n",
       "          Glucose     Insulin  DiabetesPedigreeFunction  \n",
       "count  661.000000  661.000000                661.000000  \n",
       "mean   120.555219   79.713766                  0.474633  \n",
       "std     32.300184  112.904271                  0.282469  \n",
       "min      0.000000    0.000000                  0.085000  \n",
       "25%     99.000000    0.000000                  0.268000  \n",
       "50%    116.000000   44.000000                  0.476091  \n",
       "75%    141.000000  126.000000                  0.537000  \n",
       "max    199.000000  846.000000                  2.329000  "
      ]
     },
     "execution_count": 47,
     "metadata": {},
     "output_type": "execute_result"
    }
   ],
   "source": [
    "donnees_propres.describe()"
   ]
  },
  {
   "cell_type": "markdown",
   "metadata": {},
   "source": [
    "## 20- Recoder la variable Age de la façon suivante en age_rec\n",
    "\n",
    "    - si age < 18 alors \"mineurs\"\n",
    "    - si age compris entre 18 et 25 alors \"juniors\"\n",
    "    - si age comrpis entre 25 et 50 alors \"jeunes\"\n",
    "    - si age > 50 alors \"senior\"\n"
   ]
  },
  {
   "cell_type": "code",
   "execution_count": 24,
   "metadata": {},
   "outputs": [
    {
     "name": "stderr",
     "output_type": "stream",
     "text": [
      "/tmp/ipykernel_1445/1241949649.py:4: SettingWithCopyWarning: \n",
      "A value is trying to be set on a copy of a slice from a DataFrame.\n",
      "Try using .loc[row_indexer,col_indexer] = value instead\n",
      "\n",
      "See the caveats in the documentation: https://pandas.pydata.org/pandas-docs/stable/user_guide/indexing.html#returning-a-view-versus-a-copy\n",
      "  donnees_propres['age_rec'] = pd.cut(donnees_propres['Age'], bins, labels=names)\n"
     ]
    }
   ],
   "source": [
    "bins = [0, 18, 25, 50, np.inf]\n",
    "names = ['mineurs', 'juniors', 'jeunes', 'seniors']\n",
    "\n",
    "donnees_propres['age_rec'] = pd.cut(donnees_propres['Age'], bins, labels=names)\n",
    "\n"
   ]
  },
  {
   "cell_type": "markdown",
   "metadata": {},
   "source": [
    "## 21- Afficher le décompte de \"age_rec\""
   ]
  },
  {
   "cell_type": "code",
   "execution_count": 25,
   "metadata": {},
   "outputs": [
    {
     "data": {
      "text/plain": [
       "age_rec\n",
       "jeunes     386\n",
       "juniors    200\n",
       "seniors     75\n",
       "mineurs      0\n",
       "Name: count, dtype: int64"
      ]
     },
     "execution_count": 25,
     "metadata": {},
     "output_type": "execute_result"
    }
   ],
   "source": [
    "donnees_propres[\"age_rec\"].value_counts()"
   ]
  },
  {
   "cell_type": "code",
   "execution_count": 26,
   "metadata": {},
   "outputs": [
    {
     "data": {
      "application/vnd.microsoft.datawrangler.viewer.v0+json": {
       "columns": [
        {
         "name": "index",
         "rawType": "int64",
         "type": "integer"
        },
        {
         "name": "Pregnancies",
         "rawType": "Int64",
         "type": "integer"
        },
        {
         "name": "BloodPressure",
         "rawType": "float64",
         "type": "float"
        },
        {
         "name": "SkinThickness",
         "rawType": "int64",
         "type": "integer"
        },
        {
         "name": "BMI",
         "rawType": "float64",
         "type": "float"
        },
        {
         "name": "Age",
         "rawType": "int64",
         "type": "integer"
        },
        {
         "name": "Glucose",
         "rawType": "float64",
         "type": "float"
        },
        {
         "name": "Insulin",
         "rawType": "float64",
         "type": "float"
        },
        {
         "name": "DiabetesPedigreeFunction",
         "rawType": "float64",
         "type": "float"
        },
        {
         "name": "age_rec",
         "rawType": "category",
         "type": "unknown"
        }
       ],
       "conversionMethod": "pd.DataFrame",
       "ref": "2b320df2-3e9c-4a69-b97e-b1c4f56cc583",
       "rows": [
        [
         "236",
         "7",
         "84.0",
         "21",
         "35.9",
         "51",
         "181.0",
         "192.0",
         "0.586",
         "seniors"
        ],
        [
         "14",
         "5",
         null,
         "19",
         "25.8",
         "51",
         "166.0",
         "175.0",
         "0.587",
         "seniors"
        ],
        [
         "24",
         "11",
         "94.0",
         "33",
         "36.6",
         "51",
         "143.0",
         "146.0",
         "0.47609122203098103",
         "seniors"
        ],
        [
         "517",
         "7",
         "86.0",
         "0",
         "37.6",
         "51",
         "125.0",
         "0.0",
         "0.304",
         "seniors"
        ],
        [
         "458",
         "10",
         "84.0",
         "48",
         "37.6",
         "51",
         "148.0",
         "237.0",
         "1.001",
         "seniors"
        ],
        [
         "658",
         "11",
         "106.0",
         "0",
         "39.0",
         "51",
         "127.0",
         "0.0",
         "0.19",
         "seniors"
        ],
        [
         "259",
         "11",
         "76.0",
         "28",
         "33.3",
         "51",
         "155.0",
         "150.0",
         "1.353",
         "seniors"
        ],
        [
         "285",
         "7",
         "74.0",
         "26",
         "26.0",
         "51",
         "136.0",
         "135.0",
         "0.647",
         "seniors"
        ],
        [
         "274",
         "13",
         "70.0",
         "0",
         "34.2",
         "52",
         "106.0",
         "0.0",
         "0.251",
         "seniors"
        ],
        [
         "584",
         "8",
         "76.0",
         "24",
         "28.7",
         "52",
         "124.0",
         "600.0",
         "0.687",
         "seniors"
        ],
        [
         "588",
         "3",
         "86.0",
         "27",
         "33.3",
         "52",
         "176.0",
         "156.0",
         "1.154",
         "seniors"
        ],
        [
         "207",
         "5",
         "104.0",
         "0",
         "37.7",
         "52",
         "162.0",
         "0.0",
         "0.47609122203098103",
         "seniors"
        ],
        [
         "719",
         "5",
         "76.0",
         "27",
         "35.6",
         "52",
         "97.0",
         "0.0",
         "0.378",
         "seniors"
        ],
        [
         "284",
         "2",
         "80.0",
         "0",
         "27.0",
         "52",
         "108.0",
         "0.0",
         "0.259",
         "seniors"
        ],
        [
         "702",
         "1",
         "88.0",
         "29",
         "35.0",
         "52",
         "168.0",
         "0.0",
         "0.905",
         "seniors"
        ],
        [
         "8",
         "2",
         null,
         "45",
         "30.5",
         "53",
         "197.0",
         "543.0",
         "0.158",
         "seniors"
        ],
        [
         "546",
         "5",
         "76.0",
         "27",
         "43.6",
         "53",
         "187.0",
         "207.0",
         "1.034",
         "seniors"
        ],
        [
         "516",
         "9",
         "88.0",
         "34",
         "30.3",
         "53",
         "145.0",
         "165.0",
         "0.771",
         "seniors"
        ],
        [
         "734",
         "2",
         "75.0",
         "0",
         "23.3",
         "53",
         "105.0",
         "0.0",
         "0.56",
         "seniors"
        ],
        [
         "676",
         "9",
         "86.0",
         "0",
         "24.8",
         "53",
         "156.0",
         "0.0",
         "0.23",
         "seniors"
        ],
        [
         "67",
         "2",
         "92.0",
         "0",
         "42.7",
         "54",
         "109.0",
         "0.0",
         "0.47609122203098103",
         "seniors"
        ],
        [
         "603",
         "7",
         "78.0",
         "29",
         "35.2",
         "54",
         "150.0",
         "126.0",
         "0.692",
         "seniors"
        ],
        [
         "43",
         "9",
         "110.0",
         "24",
         "45.4",
         "54",
         "171.0",
         "240.0",
         "0.47609122203098103",
         "seniors"
        ],
        [
         "560",
         "6",
         "76.0",
         "0",
         "33.8",
         "54",
         "125.0",
         "0.0",
         "0.121",
         "seniors"
        ],
        [
         "9",
         "8",
         null,
         "0",
         "0.0",
         "54",
         "125.0",
         "0.0",
         "0.232",
         "seniors"
        ],
        [
         "660",
         "10",
         "84.0",
         "0",
         "27.7",
         "54",
         "162.0",
         "0.0",
         "0.182",
         "seniors"
        ],
        [
         "498",
         "7",
         "70.0",
         "33",
         "25.1",
         "55",
         "195.0",
         "145.0",
         "0.163",
         "seniors"
        ],
        [
         "401",
         "6",
         "61.0",
         "0",
         "24.2",
         "55",
         "137.0",
         "0.0",
         "0.151",
         "seniors"
        ],
        [
         "204",
         "6",
         "72.0",
         "32",
         "37.7",
         "55",
         "103.0",
         "190.0",
         "0.47609122203098103",
         "seniors"
        ],
        [
         "140",
         "3",
         "78.0",
         "0",
         "21.1",
         "55",
         "128.0",
         "0.0",
         "0.47609122203098103",
         "seniors"
        ],
        [
         "717",
         "10",
         "72.0",
         "18",
         "23.1",
         "56",
         "94.0",
         "0.0",
         "0.595",
         "seniors"
        ],
        [
         "542",
         "10",
         "85.0",
         "32",
         "34.9",
         "56",
         "90.0",
         "0.0",
         "0.825",
         "seniors"
        ],
        [
         "39",
         "4",
         "72.0",
         "47",
         "37.1",
         "56",
         "111.0",
         "207.0",
         "0.47609122203098103",
         "seniors"
        ],
        [
         "278",
         "5",
         "74.0",
         "0",
         "24.9",
         "57",
         "114.0",
         "0.0",
         "0.744",
         "seniors"
        ],
        [
         "344",
         "8",
         "72.0",
         "0",
         "36.8",
         "57",
         "95.0",
         "0.0",
         "0.485",
         "seniors"
        ],
        [
         "28",
         "13",
         "82.0",
         "19",
         "22.2",
         "57",
         "145.0",
         "110.0",
         "0.47609122203098103",
         "seniors"
        ],
        [
         "12",
         "10",
         null,
         "0",
         "27.1",
         "57",
         "139.0",
         "0.0",
         "1.441",
         "seniors"
        ],
        [
         "206",
         "8",
         "76.0",
         "29",
         "37.5",
         "57",
         "196.0",
         "280.0",
         "0.47609122203098103",
         "seniors"
        ],
        [
         "512",
         "9",
         "68.0",
         "0",
         "24.2",
         "58",
         "91.0",
         "0.0",
         "0.2",
         "seniors"
        ],
        [
         "557",
         "8",
         "76.0",
         "0",
         "27.8",
         "58",
         "110.0",
         "0.0",
         "0.237",
         "seniors"
        ],
        [
         "375",
         "12",
         "82.0",
         "43",
         "39.2",
         "58",
         "140.0",
         "325.0",
         "0.528",
         "seniors"
        ],
        [
         "388",
         "5",
         "82.0",
         "26",
         "32.0",
         "58",
         "144.0",
         "285.0",
         "0.452",
         "seniors"
        ],
        [
         "53",
         "8",
         "90.0",
         "34",
         "33.7",
         "58",
         "176.0",
         "300.0",
         "0.47609122203098103",
         "seniors"
        ],
        [
         "299",
         "8",
         "72.0",
         "0",
         "23.6",
         "58",
         "112.0",
         "0.0",
         "0.84",
         "seniors"
        ],
        [
         "13",
         "1",
         null,
         "23",
         "30.1",
         "59",
         "189.0",
         "846.0",
         "0.398",
         "seniors"
        ],
        [
         "319",
         "6",
         "78.0",
         "0",
         "23.5",
         "59",
         "194.0",
         "0.0",
         "0.129",
         "seniors"
        ],
        [
         "30",
         "5",
         "75.0",
         "26",
         "36.0",
         "60",
         "109.0",
         "0.0",
         "0.47609122203098103",
         "seniors"
        ],
        [
         "93",
         "4",
         "72.0",
         "0",
         "23.8",
         "60",
         "134.0",
         "0.0",
         "0.47609122203098103",
         "seniors"
        ],
        [
         "186",
         "8",
         "68.0",
         "36",
         "30.1",
         "60",
         "181.0",
         "79.75234270414994",
         "0.47609122203098103",
         "seniors"
        ],
        [
         "212",
         "7",
         "95.0",
         "31",
         "34.2",
         "60",
         "179.0",
         "0.0",
         "0.164",
         "seniors"
        ]
       ],
       "shape": {
        "columns": 9,
        "rows": 75
       }
      },
      "text/html": [
       "<div>\n",
       "<style scoped>\n",
       "    .dataframe tbody tr th:only-of-type {\n",
       "        vertical-align: middle;\n",
       "    }\n",
       "\n",
       "    .dataframe tbody tr th {\n",
       "        vertical-align: top;\n",
       "    }\n",
       "\n",
       "    .dataframe thead th {\n",
       "        text-align: right;\n",
       "    }\n",
       "</style>\n",
       "<table border=\"1\" class=\"dataframe\">\n",
       "  <thead>\n",
       "    <tr style=\"text-align: right;\">\n",
       "      <th></th>\n",
       "      <th>Pregnancies</th>\n",
       "      <th>BloodPressure</th>\n",
       "      <th>SkinThickness</th>\n",
       "      <th>BMI</th>\n",
       "      <th>Age</th>\n",
       "      <th>Glucose</th>\n",
       "      <th>Insulin</th>\n",
       "      <th>DiabetesPedigreeFunction</th>\n",
       "      <th>age_rec</th>\n",
       "    </tr>\n",
       "  </thead>\n",
       "  <tbody>\n",
       "    <tr>\n",
       "      <th>236</th>\n",
       "      <td>7</td>\n",
       "      <td>84.0</td>\n",
       "      <td>21</td>\n",
       "      <td>35.9</td>\n",
       "      <td>51</td>\n",
       "      <td>181.0</td>\n",
       "      <td>192.0</td>\n",
       "      <td>0.586000</td>\n",
       "      <td>seniors</td>\n",
       "    </tr>\n",
       "    <tr>\n",
       "      <th>14</th>\n",
       "      <td>5</td>\n",
       "      <td>NaN</td>\n",
       "      <td>19</td>\n",
       "      <td>25.8</td>\n",
       "      <td>51</td>\n",
       "      <td>166.0</td>\n",
       "      <td>175.0</td>\n",
       "      <td>0.587000</td>\n",
       "      <td>seniors</td>\n",
       "    </tr>\n",
       "    <tr>\n",
       "      <th>24</th>\n",
       "      <td>11</td>\n",
       "      <td>94.0</td>\n",
       "      <td>33</td>\n",
       "      <td>36.6</td>\n",
       "      <td>51</td>\n",
       "      <td>143.0</td>\n",
       "      <td>146.0</td>\n",
       "      <td>0.476091</td>\n",
       "      <td>seniors</td>\n",
       "    </tr>\n",
       "    <tr>\n",
       "      <th>517</th>\n",
       "      <td>7</td>\n",
       "      <td>86.0</td>\n",
       "      <td>0</td>\n",
       "      <td>37.6</td>\n",
       "      <td>51</td>\n",
       "      <td>125.0</td>\n",
       "      <td>0.0</td>\n",
       "      <td>0.304000</td>\n",
       "      <td>seniors</td>\n",
       "    </tr>\n",
       "    <tr>\n",
       "      <th>458</th>\n",
       "      <td>10</td>\n",
       "      <td>84.0</td>\n",
       "      <td>48</td>\n",
       "      <td>37.6</td>\n",
       "      <td>51</td>\n",
       "      <td>148.0</td>\n",
       "      <td>237.0</td>\n",
       "      <td>1.001000</td>\n",
       "      <td>seniors</td>\n",
       "    </tr>\n",
       "    <tr>\n",
       "      <th>...</th>\n",
       "      <td>...</td>\n",
       "      <td>...</td>\n",
       "      <td>...</td>\n",
       "      <td>...</td>\n",
       "      <td>...</td>\n",
       "      <td>...</td>\n",
       "      <td>...</td>\n",
       "      <td>...</td>\n",
       "      <td>...</td>\n",
       "    </tr>\n",
       "    <tr>\n",
       "      <th>123</th>\n",
       "      <td>5</td>\n",
       "      <td>80.0</td>\n",
       "      <td>0</td>\n",
       "      <td>26.8</td>\n",
       "      <td>69</td>\n",
       "      <td>132.0</td>\n",
       "      <td>0.0</td>\n",
       "      <td>0.476091</td>\n",
       "      <td>seniors</td>\n",
       "    </tr>\n",
       "    <tr>\n",
       "      <th>684</th>\n",
       "      <td>5</td>\n",
       "      <td>82.0</td>\n",
       "      <td>0</td>\n",
       "      <td>0.0</td>\n",
       "      <td>69</td>\n",
       "      <td>136.0</td>\n",
       "      <td>0.0</td>\n",
       "      <td>0.640000</td>\n",
       "      <td>seniors</td>\n",
       "    </tr>\n",
       "    <tr>\n",
       "      <th>666</th>\n",
       "      <td>4</td>\n",
       "      <td>82.0</td>\n",
       "      <td>18</td>\n",
       "      <td>32.5</td>\n",
       "      <td>70</td>\n",
       "      <td>145.0</td>\n",
       "      <td>0.0</td>\n",
       "      <td>0.235000</td>\n",
       "      <td>seniors</td>\n",
       "    </tr>\n",
       "    <tr>\n",
       "      <th>453</th>\n",
       "      <td>2</td>\n",
       "      <td>0.0</td>\n",
       "      <td>0</td>\n",
       "      <td>19.6</td>\n",
       "      <td>72</td>\n",
       "      <td>119.0</td>\n",
       "      <td>0.0</td>\n",
       "      <td>0.832000</td>\n",
       "      <td>seniors</td>\n",
       "    </tr>\n",
       "    <tr>\n",
       "      <th>459</th>\n",
       "      <td>9</td>\n",
       "      <td>74.0</td>\n",
       "      <td>33</td>\n",
       "      <td>25.9</td>\n",
       "      <td>81</td>\n",
       "      <td>134.0</td>\n",
       "      <td>60.0</td>\n",
       "      <td>0.460000</td>\n",
       "      <td>seniors</td>\n",
       "    </tr>\n",
       "  </tbody>\n",
       "</table>\n",
       "<p>75 rows × 9 columns</p>\n",
       "</div>"
      ],
      "text/plain": [
       "     Pregnancies  BloodPressure  SkinThickness   BMI  Age  Glucose  Insulin  \\\n",
       "236            7           84.0             21  35.9   51    181.0    192.0   \n",
       "14             5            NaN             19  25.8   51    166.0    175.0   \n",
       "24            11           94.0             33  36.6   51    143.0    146.0   \n",
       "517            7           86.0              0  37.6   51    125.0      0.0   \n",
       "458           10           84.0             48  37.6   51    148.0    237.0   \n",
       "..           ...            ...            ...   ...  ...      ...      ...   \n",
       "123            5           80.0              0  26.8   69    132.0      0.0   \n",
       "684            5           82.0              0   0.0   69    136.0      0.0   \n",
       "666            4           82.0             18  32.5   70    145.0      0.0   \n",
       "453            2            0.0              0  19.6   72    119.0      0.0   \n",
       "459            9           74.0             33  25.9   81    134.0     60.0   \n",
       "\n",
       "     DiabetesPedigreeFunction  age_rec  \n",
       "236                  0.586000  seniors  \n",
       "14                   0.587000  seniors  \n",
       "24                   0.476091  seniors  \n",
       "517                  0.304000  seniors  \n",
       "458                  1.001000  seniors  \n",
       "..                        ...      ...  \n",
       "123                  0.476091  seniors  \n",
       "684                  0.640000  seniors  \n",
       "666                  0.235000  seniors  \n",
       "453                  0.832000  seniors  \n",
       "459                  0.460000  seniors  \n",
       "\n",
       "[75 rows x 9 columns]"
      ]
     },
     "execution_count": 26,
     "metadata": {},
     "output_type": "execute_result"
    }
   ],
   "source": [
    "donnees_propres[donnees_propres[\"age_rec\"] == \"seniors\"].sort_values(\"Age\", ascending=True)\n"
   ]
  }
 ],
 "metadata": {
  "kernelspec": {
   "display_name": ".venv",
   "language": "python",
   "name": "python3"
  },
  "language_info": {
   "codemirror_mode": {
    "name": "ipython",
    "version": 3
   },
   "file_extension": ".py",
   "mimetype": "text/x-python",
   "name": "python",
   "nbconvert_exporter": "python",
   "pygments_lexer": "ipython3",
   "version": "3.11.0"
  }
 },
 "nbformat": 4,
 "nbformat_minor": 4
}
