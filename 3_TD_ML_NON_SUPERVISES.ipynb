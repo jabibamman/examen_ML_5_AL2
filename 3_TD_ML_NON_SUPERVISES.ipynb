{
 "cells": [
  {
   "cell_type": "markdown",
   "metadata": {
    "colab_type": "text",
    "id": "view-in-github"
   },
   "source": [
    "<a href=\"https://colab.research.google.com/github/MachineLearnia/Python-Machine-Learning/blob/master/24%20-%20Sklearn%20%3A%20Apprentissage%20Non-supervis%C3%A9.ipynb\" target=\"_parent\"><img src=\"https://colab.research.google.com/assets/colab-badge.svg\" alt=\"Open In Colab\"/></a>"
   ]
  },
  {
   "cell_type": "code",
   "execution_count": 1,
   "metadata": {
    "ExecuteTime": {
     "end_time": "2025-06-25T13:52:43.564788Z",
     "start_time": "2025-06-25T13:52:43.462361Z"
    },
    "colab": {},
    "colab_type": "code",
    "id": "6w1Nit4_Fk5L"
   },
   "outputs": [],
   "source": [
    "import numpy as np\n",
    "import matplotlib.pyplot as plt\n",
    "from sklearn.datasets import make_blobs\n",
    "from sklearn import metrics\n",
    "import pandas as pd\n",
    "import seaborn as sns\n",
    "from scipy.stats import f_oneway, kruskal, chi2_contingency"
   ]
  },
  {
   "cell_type": "code",
   "execution_count": 29,
   "metadata": {},
   "outputs": [
    {
     "data": {
      "text/html": [
       "<div>\n",
       "<style scoped>\n",
       "    .dataframe tbody tr th:only-of-type {\n",
       "        vertical-align: middle;\n",
       "    }\n",
       "\n",
       "    .dataframe tbody tr th {\n",
       "        vertical-align: top;\n",
       "    }\n",
       "\n",
       "    .dataframe thead th {\n",
       "        text-align: right;\n",
       "    }\n",
       "</style>\n",
       "<table border=\"1\" class=\"dataframe\">\n",
       "  <thead>\n",
       "    <tr style=\"text-align: right;\">\n",
       "      <th></th>\n",
       "      <th>id</th>\n",
       "      <th>longitude</th>\n",
       "      <th>latitude</th>\n",
       "      <th>housing_median_age</th>\n",
       "      <th>total_rooms</th>\n",
       "      <th>total_bedrooms</th>\n",
       "      <th>population</th>\n",
       "      <th>households</th>\n",
       "      <th>median_income</th>\n",
       "      <th>median_house_value</th>\n",
       "      <th>ocean_proximity</th>\n",
       "      <th>owner_sex</th>\n",
       "      <th>house_standing</th>\n",
       "      <th>house_ecological_rate</th>\n",
       "    </tr>\n",
       "  </thead>\n",
       "  <tbody>\n",
       "    <tr>\n",
       "      <th>0</th>\n",
       "      <td>28346</td>\n",
       "      <td>-122,23</td>\n",
       "      <td>37,88</td>\n",
       "      <td>41</td>\n",
       "      <td>880</td>\n",
       "      <td>129.0</td>\n",
       "      <td>322</td>\n",
       "      <td>126</td>\n",
       "      <td>8,3252</td>\n",
       "      <td>452600</td>\n",
       "      <td>NEAR BAY</td>\n",
       "      <td>M</td>\n",
       "      <td>high</td>\n",
       "      <td>bad</td>\n",
       "    </tr>\n",
       "    <tr>\n",
       "      <th>1</th>\n",
       "      <td>28347</td>\n",
       "      <td>-122,22</td>\n",
       "      <td>37,86</td>\n",
       "      <td>21</td>\n",
       "      <td>7099</td>\n",
       "      <td>1106.0</td>\n",
       "      <td>2401</td>\n",
       "      <td>1138</td>\n",
       "      <td>8,3014</td>\n",
       "      <td>358500</td>\n",
       "      <td>NEAR BAY</td>\n",
       "      <td>M</td>\n",
       "      <td>low</td>\n",
       "      <td>good</td>\n",
       "    </tr>\n",
       "    <tr>\n",
       "      <th>2</th>\n",
       "      <td>28348</td>\n",
       "      <td>-122,24</td>\n",
       "      <td>37,85</td>\n",
       "      <td>52</td>\n",
       "      <td>1467</td>\n",
       "      <td>190.0</td>\n",
       "      <td>496</td>\n",
       "      <td>177</td>\n",
       "      <td>7,2574</td>\n",
       "      <td>352100</td>\n",
       "      <td>NEAR BAY</td>\n",
       "      <td>F</td>\n",
       "      <td>low</td>\n",
       "      <td>bad</td>\n",
       "    </tr>\n",
       "    <tr>\n",
       "      <th>3</th>\n",
       "      <td>28349</td>\n",
       "      <td>-122,25</td>\n",
       "      <td>37,85</td>\n",
       "      <td>52</td>\n",
       "      <td>1274</td>\n",
       "      <td>235.0</td>\n",
       "      <td>558</td>\n",
       "      <td>219</td>\n",
       "      <td>5,6431</td>\n",
       "      <td>341300</td>\n",
       "      <td>NEAR BAY</td>\n",
       "      <td>F</td>\n",
       "      <td>middle</td>\n",
       "      <td>bad</td>\n",
       "    </tr>\n",
       "    <tr>\n",
       "      <th>4</th>\n",
       "      <td>28350</td>\n",
       "      <td>-122,25</td>\n",
       "      <td>37,85</td>\n",
       "      <td>52</td>\n",
       "      <td>1627</td>\n",
       "      <td>280.0</td>\n",
       "      <td>565</td>\n",
       "      <td>259</td>\n",
       "      <td>3,8462</td>\n",
       "      <td>342200</td>\n",
       "      <td>NEAR BAY</td>\n",
       "      <td>M</td>\n",
       "      <td>low</td>\n",
       "      <td>bad</td>\n",
       "    </tr>\n",
       "  </tbody>\n",
       "</table>\n",
       "</div>"
      ],
      "text/plain": [
       "      id longitude latitude  housing_median_age  total_rooms  total_bedrooms  \\\n",
       "0  28346   -122,23    37,88                  41          880           129.0   \n",
       "1  28347   -122,22    37,86                  21         7099          1106.0   \n",
       "2  28348   -122,24    37,85                  52         1467           190.0   \n",
       "3  28349   -122,25    37,85                  52         1274           235.0   \n",
       "4  28350   -122,25    37,85                  52         1627           280.0   \n",
       "\n",
       "   population  households median_income  median_house_value ocean_proximity  \\\n",
       "0         322         126        8,3252              452600        NEAR BAY   \n",
       "1        2401        1138        8,3014              358500        NEAR BAY   \n",
       "2         496         177        7,2574              352100        NEAR BAY   \n",
       "3         558         219        5,6431              341300        NEAR BAY   \n",
       "4         565         259        3,8462              342200        NEAR BAY   \n",
       "\n",
       "  owner_sex house_standing house_ecological_rate  \n",
       "0         M           high                   bad  \n",
       "1         M            low                  good  \n",
       "2         F            low                   bad  \n",
       "3         F         middle                   bad  \n",
       "4         M            low                   bad  "
      ]
     },
     "execution_count": 29,
     "metadata": {},
     "output_type": "execute_result"
    }
   ],
   "source": [
    "raw_data = pd.read_csv(\"input/housing.csv\", sep=\"\\t\")\n",
    "raw_data.head()"
   ]
  },
  {
   "cell_type": "code",
   "execution_count": 30,
   "metadata": {},
   "outputs": [
    {
     "data": {
      "text/plain": [
       "(20640, 14)"
      ]
     },
     "execution_count": 30,
     "metadata": {},
     "output_type": "execute_result"
    }
   ],
   "source": [
    "raw_data.shape"
   ]
  },
  {
   "cell_type": "code",
   "execution_count": 31,
   "metadata": {},
   "outputs": [
    {
     "name": "stdout",
     "output_type": "stream",
     "text": [
      "<class 'pandas.core.frame.DataFrame'>\n",
      "RangeIndex: 20640 entries, 0 to 20639\n",
      "Data columns (total 14 columns):\n",
      " #   Column                 Non-Null Count  Dtype  \n",
      "---  ------                 --------------  -----  \n",
      " 0   id                     20640 non-null  int64  \n",
      " 1   longitude              20640 non-null  object \n",
      " 2   latitude               20640 non-null  object \n",
      " 3   housing_median_age     20640 non-null  int64  \n",
      " 4   total_rooms            20640 non-null  int64  \n",
      " 5   total_bedrooms         20433 non-null  float64\n",
      " 6   population             20640 non-null  int64  \n",
      " 7   households             20640 non-null  int64  \n",
      " 8   median_income          20640 non-null  object \n",
      " 9   median_house_value     20640 non-null  int64  \n",
      " 10  ocean_proximity        20640 non-null  object \n",
      " 11  owner_sex              20640 non-null  object \n",
      " 12  house_standing         20640 non-null  object \n",
      " 13  house_ecological_rate  20640 non-null  object \n",
      "dtypes: float64(1), int64(6), object(7)\n",
      "memory usage: 2.2+ MB\n"
     ]
    }
   ],
   "source": [
    "raw_data.info()"
   ]
  },
  {
   "cell_type": "code",
   "execution_count": 32,
   "metadata": {},
   "outputs": [
    {
     "name": "stdout",
     "output_type": "stream",
     "text": [
      "Index(['longitude', 'latitude', 'median_income', 'ocean_proximity',\n",
      "       'owner_sex', 'house_standing', 'house_ecological_rate'],\n",
      "      dtype='object')\n"
     ]
    }
   ],
   "source": [
    "stringcols = raw_data.select_dtypes(include=\"object\").columns\n",
    "print(stringcols)"
   ]
  },
  {
   "cell_type": "code",
   "execution_count": 33,
   "metadata": {},
   "outputs": [
    {
     "name": "stdout",
     "output_type": "stream",
     "text": [
      "<class 'pandas.core.frame.DataFrame'>\n",
      "RangeIndex: 20640 entries, 0 to 20639\n",
      "Data columns (total 14 columns):\n",
      " #   Column                 Non-Null Count  Dtype  \n",
      "---  ------                 --------------  -----  \n",
      " 0   id                     20640 non-null  int64  \n",
      " 1   longitude              20640 non-null  string \n",
      " 2   latitude               20640 non-null  string \n",
      " 3   housing_median_age     20640 non-null  int64  \n",
      " 4   total_rooms            20640 non-null  int64  \n",
      " 5   total_bedrooms         20433 non-null  float64\n",
      " 6   population             20640 non-null  int64  \n",
      " 7   households             20640 non-null  int64  \n",
      " 8   median_income          20640 non-null  string \n",
      " 9   median_house_value     20640 non-null  int64  \n",
      " 10  ocean_proximity        20640 non-null  string \n",
      " 11  owner_sex              20640 non-null  string \n",
      " 12  house_standing         20640 non-null  string \n",
      " 13  house_ecological_rate  20640 non-null  string \n",
      "dtypes: float64(1), int64(6), string(7)\n",
      "memory usage: 2.2 MB\n"
     ]
    }
   ],
   "source": [
    "raw_data_conv = raw_data.copy()\n",
    "raw_data_conv[stringcols] = raw_data_conv[stringcols].astype(str)\n",
    "raw_data_conv[stringcols] = raw_data_conv[stringcols].astype('string')\n",
    "raw_data_conv[stringcols] = raw_data_conv[stringcols].replace({pd.NA: np.nan})\n",
    "raw_data_conv.info()"
   ]
  },
  {
   "cell_type": "code",
   "execution_count": 34,
   "metadata": {},
   "outputs": [
    {
     "name": "stdout",
     "output_type": "stream",
     "text": [
      "total_bedrooms           207\n",
      "id                         0\n",
      "longitude                  0\n",
      "latitude                   0\n",
      "housing_median_age         0\n",
      "total_rooms                0\n",
      "population                 0\n",
      "households                 0\n",
      "median_income              0\n",
      "median_house_value         0\n",
      "ocean_proximity            0\n",
      "owner_sex                  0\n",
      "house_standing             0\n",
      "house_ecological_rate      0\n",
      "dtype: int64\n"
     ]
    },
    {
     "data": {
      "text/plain": [
       "total_bedrooms           0.010029\n",
       "id                       0.000000\n",
       "longitude                0.000000\n",
       "latitude                 0.000000\n",
       "housing_median_age       0.000000\n",
       "total_rooms              0.000000\n",
       "population               0.000000\n",
       "households               0.000000\n",
       "median_income            0.000000\n",
       "median_house_value       0.000000\n",
       "ocean_proximity          0.000000\n",
       "owner_sex                0.000000\n",
       "house_standing           0.000000\n",
       "house_ecological_rate    0.000000\n",
       "dtype: float64"
      ]
     },
     "execution_count": 34,
     "metadata": {},
     "output_type": "execute_result"
    }
   ],
   "source": [
    "# nombre de valeurs manquantes\n",
    "print(raw_data_conv.isnull().sum().sort_values(ascending=False))\n",
    "# Proportion de valeurs manquantes\n",
    "raw_data_conv.isnull().mean().sort_values(ascending=False)"
   ]
  },
  {
   "cell_type": "code",
   "execution_count": 37,
   "metadata": {},
   "outputs": [
    {
     "data": {
      "text/plain": [
       "count    20640.000000\n",
       "mean       536.838857\n",
       "std        419.391878\n",
       "min          1.000000\n",
       "25%        297.000000\n",
       "50%        435.000000\n",
       "75%        643.250000\n",
       "max       6445.000000\n",
       "Name: total_bedrooms, dtype: float64"
      ]
     },
     "execution_count": 37,
     "metadata": {},
     "output_type": "execute_result"
    }
   ],
   "source": [
    "data_median =  raw_data_conv[\"total_bedrooms\"].fillna(raw_data_conv[\"total_bedrooms\"].median())\n",
    "data_median.describe()"
   ]
  },
  {
   "cell_type": "markdown",
   "metadata": {
    "colab_type": "text",
    "id": "JJHL6LQpG6np"
   },
   "source": [
    "# 24/30 Apprentissage Non-Supervisé"
   ]
  },
  {
   "cell_type": "code",
   "execution_count": 2,
   "metadata": {
    "ExecuteTime": {
     "end_time": "2025-06-25T13:52:43.586374Z",
     "start_time": "2025-06-25T13:52:43.577901Z"
    }
   },
   "outputs": [],
   "source": [
    "def compare_clusters_full_with_total(df, cluster_col,\n",
    "                                      numeric_vars=None,\n",
    "                                        cat_vars=None,\n",
    "                                          test_type=\"anova\"):\n",
    "    df_copy = df.copy()\n",
    "    numeric_results = []\n",
    "    categorical_results = []\n",
    "\n",
    "    # Convertir cluster_col en chaînes\n",
    "    df_copy[cluster_col] = df_copy[cluster_col].astype(str)\n",
    "    unique_clusters = df_copy[cluster_col].unique().tolist()\n",
    "\n",
    "    # Palette couleurs\n",
    "    palette = sns.color_palette(\"Set2\", n_colors=len(unique_clusters))\n",
    "    palette_dict = {str(c): palette[i] for i, c in enumerate(unique_clusters)}\n",
    "    palette_dict[\"Total\"] = \"blue\"\n",
    "\n",
    "    if numeric_vars:\n",
    "        print(\"\\n=== Analyse des variables numériques ===\\n\")\n",
    "        for var in numeric_vars:\n",
    "            # Ajout ligne \"Total\"\n",
    "            total_df = df_copy[[var]].copy()\n",
    "            total_df[cluster_col] = \"Total\"\n",
    "            df_with_total = pd.concat([df_copy[[cluster_col, var]], total_df], axis=0)\n",
    "\n",
    "            plt.figure(figsize=(10, 5))\n",
    "            sns.boxplot(data=df_with_total, x=cluster_col, y=var, hue=cluster_col, palette=palette_dict, legend=False)\n",
    "\n",
    "            # sns.boxplot(data=df_with_total, x=cluster_col, y=var, palette=palette_dict)\n",
    "            plt.title(f'Distribution de {var} par cluster (incluant Total)')\n",
    "            plt.tight_layout()\n",
    "            plt.show()\n",
    "\n",
    "            # Statistiques descriptives AVEC total\n",
    "            print(f\"\\n Statistiques pour '{var}' :\")\n",
    "            desc = df_with_total.groupby(cluster_col)[var].describe()\n",
    "            print(desc)\n",
    "\n",
    "            # Test statistique sur vrais clusters\n",
    "            cluster_only = df_copy[df_copy[cluster_col] != \"Total\"]\n",
    "            grouped_data = [group[var].dropna() for name, group in cluster_only.groupby(cluster_col)]\n",
    "            if test_type == \"anova\":\n",
    "                stat, p = f_oneway(*grouped_data)\n",
    "                test_name = \"ANOVA\"\n",
    "            else:\n",
    "                stat, p = kruskal(*grouped_data)\n",
    "                test_name = \"Kruskal-Wallis\"\n",
    "\n",
    "            numeric_results.append({\n",
    "                \"variable\": var,\n",
    "                \"test\": test_name,\n",
    "                \"stat\": stat,\n",
    "                \"p_value\": p\n",
    "            })\n",
    "\n",
    "    if cat_vars:\n",
    "        print(\"\\n=== Analyse des variables catégorielles ===\\n\")\n",
    "        for var in cat_vars:\n",
    "            # Ajout ligne \"Total\"\n",
    "            total_row = pd.DataFrame({cluster_col: [\"Total\"], var: [None]})\n",
    "            df_cat = pd.concat([df_copy[[cluster_col, var]], total_row], axis=0)\n",
    "\n",
    "            # Tableau croisé AVEC total\n",
    "            contingency_table = pd.crosstab(df_copy[cluster_col], df_copy[var], dropna=False)\n",
    "            print(f\"\\n Tableau croisé pour '{var}' (sans Total dans test) :\")\n",
    "            print(contingency_table)\n",
    "\n",
    "            # Heatmap\n",
    "            plt.figure(figsize=(10, 4))\n",
    "            sns.heatmap(contingency_table, annot=True, fmt='d', cmap='Blues')\n",
    "            plt.title(f'Tableau croisé: {var} vs {cluster_col}')\n",
    "            plt.tight_layout()\n",
    "            plt.show()\n",
    "\n",
    "            # Test du chi² sur vrais clusters uniquement\n",
    "            cat_only = df_copy[df_copy[cluster_col] != \"Total\"]\n",
    "            contingency = pd.crosstab(cat_only[cluster_col], cat_only[var], dropna=False)\n",
    "            chi2, p, dof, expected = chi2_contingency(contingency)\n",
    "\n",
    "            categorical_results.append({\n",
    "                \"variable\": var,\n",
    "                \"test\": \"Chi2\",\n",
    "                \"stat\": chi2,\n",
    "                \"p_value\": p\n",
    "            })\n",
    "\n",
    "    if numeric_results:\n",
    "        print(\"\\n Résumé des tests numériques :\")\n",
    "        display(pd.DataFrame(numeric_results).sort_values(\"p_value\"))\n",
    "\n",
    "    if categorical_results:\n",
    "        print(\"\\n Résumé des tests catégoriels :\")\n",
    "        display(pd.DataFrame(categorical_results).sort_values(\"p_value\"))\n",
    "\n",
    "    return pd.DataFrame(numeric_results), pd.DataFrame(categorical_results)\n"
   ]
  },
  {
   "cell_type": "markdown",
   "metadata": {
    "colab_type": "text",
    "id": "AbMWrDTWHOMD"
   },
   "source": [
    "# Data Prep"
   ]
  },
  {
   "cell_type": "code",
   "execution_count": 3,
   "metadata": {
    "ExecuteTime": {
     "end_time": "2025-06-25T13:52:43.813537Z",
     "start_time": "2025-06-25T13:52:43.677224Z"
    },
    "colab": {
     "base_uri": "https://localhost:8080/",
     "height": 282
    },
    "colab_type": "code",
    "id": "ykSChVc_G5_k",
    "outputId": "84bb8979-0662-45f3-d51d-03f36940b1dc"
   },
   "outputs": [
    {
     "data": {
      "text/plain": [
       "<matplotlib.collections.PathCollection at 0x7e4d7bb0fb60>"
      ]
     },
     "execution_count": 3,
     "metadata": {},
     "output_type": "execute_result"
    },
    {
     "data": {
      "image/png": "[encoded data removed]",
      "text/plain": [
       "<Figure size 640x480 with 1 Axes>"
      ]
     },
     "metadata": {},
     "output_type": "display_data"
    }
   ],
   "source": [
    "# Génération de données \n",
    "X, y = make_blobs(n_samples=100, centers=3, cluster_std=0.4, random_state=0)\n",
    "plt.scatter(X[:,0], X[:,1])"
   ]
  },
  {
   "cell_type": "markdown",
   "metadata": {},
   "source": [
    "# Modélisation"
   ]
  },
  {
   "cell_type": "markdown",
   "metadata": {},
   "source": [
    "## 1. K-Means Clustering"
   ]
  },
  {
   "cell_type": "code",
   "execution_count": 4,
   "metadata": {
    "ExecuteTime": {
     "end_time": "2025-06-25T13:52:44.011707Z",
     "start_time": "2025-06-25T13:52:43.839170Z"
    }
   },
   "outputs": [],
   "source": [
    "from sklearn.cluster import KMeans"
   ]
  },
  {
   "cell_type": "code",
   "execution_count": 5,
   "metadata": {
    "ExecuteTime": {
     "end_time": "2025-06-25T13:52:44.059444Z",
     "start_time": "2025-06-25T13:52:44.027985Z"
    }
   },
   "outputs": [
    {
     "data": {
      "text/html": [
       "<style>#sk-container-id-1 {\n",
       "  /* Definition of color scheme common for light and dark mode */\n",
       "  --sklearn-color-text: black;\n",
       "  --sklearn-color-line: gray;\n",
       "  /* Definition of color scheme for unfitted estimators */\n",
       "  --sklearn-color-unfitted-level-0: #fff5e6;\n",
       "  --sklearn-color-unfitted-level-1: #f6e4d2;\n",
       "  --sklearn-color-unfitted-level-2: #ffe0b3;\n",
       "  --sklearn-color-unfitted-level-3: chocolate;\n",
       "  /* Definition of color scheme for fitted estimators */\n",
       "  --sklearn-color-fitted-level-0: #f0f8ff;\n",
       "  --sklearn-color-fitted-level-1: #d4ebff;\n",
       "  --sklearn-color-fitted-level-2: #b3dbfd;\n",
       "  --sklearn-color-fitted-level-3: cornflowerblue;\n",
       "\n",
       "  /* Specific color for light theme */\n",
       "  --sklearn-color-text-on-default-background: var(--sg-text-color, var(--theme-code-foreground, var(--jp-content-font-color1, black)));\n",
       "  --sklearn-color-background: var(--sg-background-color, var(--theme-background, var(--jp-layout-color0, white)));\n",
       "  --sklearn-color-border-box: var(--sg-text-color, var(--theme-code-foreground, var(--jp-content-font-color1, black)));\n",
       "  --sklearn-color-icon: #696969;\n",
       "\n",
       "  @media (prefers-color-scheme: dark) {\n",
       "    /* Redefinition of color scheme for dark theme */\n",
       "    --sklearn-color-text-on-default-background: var(--sg-text-color, var(--theme-code-foreground, var(--jp-content-font-color1, white)));\n",
       "    --sklearn-color-background: var(--sg-background-color, var(--theme-background, var(--jp-layout-color0, #111)));\n",
       "    --sklearn-color-border-box: var(--sg-text-color, var(--theme-code-foreground, var(--jp-content-font-color1, white)));\n",
       "    --sklearn-color-icon: #878787;\n",
       "  }\n",
       "}\n",
       "\n",
       "#sk-container-id-1 {\n",
       "  color: var(--sklearn-color-text);\n",
       "}\n",
       "\n",
       "#sk-container-id-1 pre {\n",
       "  padding: 0;\n",
       "}\n",
       "\n",
       "#sk-container-id-1 input.sk-hidden--visually {\n",
       "  border: 0;\n",
       "  clip: rect(1px 1px 1px 1px);\n",
       "  clip: rect(1px, 1px, 1px, 1px);\n",
       "  height: 1px;\n",
       "  margin: -1px;\n",
       "  overflow: hidden;\n",
       "  padding: 0;\n",
       "  position: absolute;\n",
       "  width: 1px;\n",
       "}\n",
       "\n",
       "#sk-container-id-1 div.sk-dashed-wrapped {\n",
       "  border: 1px dashed var(--sklearn-color-line);\n",
       "  margin: 0 0.4em 0.5em 0.4em;\n",
       "  box-sizing: border-box;\n",
       "  padding-bottom: 0.4em;\n",
       "  background-color: var(--sklearn-color-background);\n",
       "}\n",
       "\n",
       "#sk-container-id-1 div.sk-container {\n",
       "  /* jupyter's `normalize.less` sets `[hidden] { display: none; }`\n",
       "     but bootstrap.min.css set `[hidden] { display: none !important; }`\n",
       "     so we also need the `!important` here to be able to override the\n",
       "     default hidden behavior on the sphinx rendered scikit-learn.org.\n",
       "     See: https://github.com/scikit-learn/scikit-learn/issues/21755 */\n",
       "  display: inline-block !important;\n",
       "  position: relative;\n",
       "}\n",
       "\n",
       "#sk-container-id-1 div.sk-text-repr-fallback {\n",
       "  display: none;\n",
       "}\n",
       "\n",
       "div.sk-parallel-item,\n",
       "div.sk-serial,\n",
       "div.sk-item {\n",
       "  /* draw centered vertical line to link estimators */\n",
       "  background-image: linear-gradient(var(--sklearn-color-text-on-default-background), var(--sklearn-color-text-on-default-background));\n",
       "  background-size: 2px 100%;\n",
       "  background-repeat: no-repeat;\n",
       "  background-position: center center;\n",
       "}\n",
       "\n",
       "/* Parallel-specific style estimator block */\n",
       "\n",
       "#sk-container-id-1 div.sk-parallel-item::after {\n",
       "  content: \"\";\n",
       "  width: 100%;\n",
       "  border-bottom: 2px solid var(--sklearn-color-text-on-default-background);\n",
       "  flex-grow: 1;\n",
       "}\n",
       "\n",
       "#sk-container-id-1 div.sk-parallel {\n",
       "  display: flex;\n",
       "  align-items: stretch;\n",
       "  justify-content: center;\n",
       "  background-color: var(--sklearn-color-background);\n",
       "  position: relative;\n",
       "}\n",
       "\n",
       "#sk-container-id-1 div.sk-parallel-item {\n",
       "  display: flex;\n",
       "  flex-direction: column;\n",
       "}\n",
       "\n",
       "#sk-container-id-1 div.sk-parallel-item:first-child::after {\n",
       "  align-self: flex-end;\n",
       "  width: 50%;\n",
       "}\n",
       "\n",
       "#sk-container-id-1 div.sk-parallel-item:last-child::after {\n",
       "  align-self: flex-start;\n",
       "  width: 50%;\n",
       "}\n",
       "\n",
       "#sk-container-id-1 div.sk-parallel-item:only-child::after {\n",
       "  width: 0;\n",
       "}\n",
       "\n",
       "/* Serial-specific style estimator block */\n",
       "\n",
       "#sk-container-id-1 div.sk-serial {\n",
       "  display: flex;\n",
       "  flex-direction: column;\n",
       "  align-items: center;\n",
       "  background-color: var(--sklearn-color-background);\n",
       "  padding-right: 1em;\n",
       "  padding-left: 1em;\n",
       "}\n",
       "\n",
       "\n",
       "/* Toggleable style: style used for estimator/Pipeline/ColumnTransformer box that is\n",
       "clickable and can be expanded/collapsed.\n",
       "- Pipeline and ColumnTransformer use this feature and define the default style\n",
       "- Estimators will overwrite some part of the style using the `sk-estimator` class\n",
       "*/\n",
       "\n",
       "/* Pipeline and ColumnTransformer style (default) */\n",
       "\n",
       "#sk-container-id-1 div.sk-toggleable {\n",
       "  /* Default theme specific background. It is overwritten whether we have a\n",
       "  specific estimator or a Pipeline/ColumnTransformer */\n",
       "  background-color: var(--sklearn-color-background);\n",
       "}\n",
       "\n",
       "/* Toggleable label */\n",
       "#sk-container-id-1 label.sk-toggleable__label {\n",
       "  cursor: pointer;\n",
       "  display: block;\n",
       "  width: 100%;\n",
       "  margin-bottom: 0;\n",
       "  padding: 0.5em;\n",
       "  box-sizing: border-box;\n",
       "  text-align: center;\n",
       "}\n",
       "\n",
       "#sk-container-id-1 label.sk-toggleable__label-arrow:before {\n",
       "  /* Arrow on the left of the label */\n",
       "  content: \"▸\";\n",
       "  float: left;\n",
       "  margin-right: 0.25em;\n",
       "  color: var(--sklearn-color-icon);\n",
       "}\n",
       "\n",
       "#sk-container-id-1 label.sk-toggleable__label-arrow:hover:before {\n",
       "  color: var(--sklearn-color-text);\n",
       "}\n",
       "\n",
       "/* Toggleable content - dropdown */\n",
       "\n",
       "#sk-container-id-1 div.sk-toggleable__content {\n",
       "  max-height: 0;\n",
       "  max-width: 0;\n",
       "  overflow: hidden;\n",
       "  text-align: left;\n",
       "  /* unfitted */\n",
       "  background-color: var(--sklearn-color-unfitted-level-0);\n",
       "}\n",
       "\n",
       "#sk-container-id-1 div.sk-toggleable__content.fitted {\n",
       "  /* fitted */\n",
       "  background-color: var(--sklearn-color-fitted-level-0);\n",
       "}\n",
       "\n",
       "#sk-container-id-1 div.sk-toggleable__content pre {\n",
       "  margin: 0.2em;\n",
       "  border-radius: 0.25em;\n",
       "  color: var(--sklearn-color-text);\n",
       "  /* unfitted */\n",
       "  background-color: var(--sklearn-color-unfitted-level-0);\n",
       "}\n",
       "\n",
       "#sk-container-id-1 div.sk-toggleable__content.fitted pre {\n",
       "  /* unfitted */\n",
       "  background-color: var(--sklearn-color-fitted-level-0);\n",
       "}\n",
       "\n",
       "#sk-container-id-1 input.sk-toggleable__control:checked~div.sk-toggleable__content {\n",
       "  /* Expand drop-down */\n",
       "  max-height: 200px;\n",
       "  max-width: 100%;\n",
       "  overflow: auto;\n",
       "}\n",
       "\n",
       "#sk-container-id-1 input.sk-toggleable__control:checked~label.sk-toggleable__label-arrow:before {\n",
       "  content: \"▾\";\n",
       "}\n",
       "\n",
       "/* Pipeline/ColumnTransformer-specific style */\n",
       "\n",
       "#sk-container-id-1 div.sk-label input.sk-toggleable__control:checked~label.sk-toggleable__label {\n",
       "  color: var(--sklearn-color-text);\n",
       "  background-color: var(--sklearn-color-unfitted-level-2);\n",
       "}\n",
       "\n",
       "#sk-container-id-1 div.sk-label.fitted input.sk-toggleable__control:checked~label.sk-toggleable__label {\n",
       "  background-color: var(--sklearn-color-fitted-level-2);\n",
       "}\n",
       "\n",
       "/* Estimator-specific style */\n",
       "\n",
       "/* Colorize estimator box */\n",
       "#sk-container-id-1 div.sk-estimator input.sk-toggleable__control:checked~label.sk-toggleable__label {\n",
       "  /* unfitted */\n",
       "  background-color: var(--sklearn-color-unfitted-level-2);\n",
       "}\n",
       "\n",
       "#sk-container-id-1 div.sk-estimator.fitted input.sk-toggleable__control:checked~label.sk-toggleable__label {\n",
       "  /* fitted */\n",
       "  background-color: var(--sklearn-color-fitted-level-2);\n",
       "}\n",
       "\n",
       "#sk-container-id-1 div.sk-label label.sk-toggleable__label,\n",
       "#sk-container-id-1 div.sk-label label {\n",
       "  /* The background is the default theme color */\n",
       "  color: var(--sklearn-color-text-on-default-background);\n",
       "}\n",
       "\n",
       "/* On hover, darken the color of the background */\n",
       "#sk-container-id-1 div.sk-label:hover label.sk-toggleable__label {\n",
       "  color: var(--sklearn-color-text);\n",
       "  background-color: var(--sklearn-color-unfitted-level-2);\n",
       "}\n",
       "\n",
       "/* Label box, darken color on hover, fitted */\n",
       "#sk-container-id-1 div.sk-label.fitted:hover label.sk-toggleable__label.fitted {\n",
       "  color: var(--sklearn-color-text);\n",
       "  background-color: var(--sklearn-color-fitted-level-2);\n",
       "}\n",
       "\n",
       "/* Estimator label */\n",
       "\n",
       "#sk-container-id-1 div.sk-label label {\n",
       "  font-family: monospace;\n",
       "  font-weight: bold;\n",
       "  display: inline-block;\n",
       "  line-height: 1.2em;\n",
       "}\n",
       "\n",
       "#sk-container-id-1 div.sk-label-container {\n",
       "  text-align: center;\n",
       "}\n",
       "\n",
       "/* Estimator-specific */\n",
       "#sk-container-id-1 div.sk-estimator {\n",
       "  font-family: monospace;\n",
       "  border: 1px dotted var(--sklearn-color-border-box);\n",
       "  border-radius: 0.25em;\n",
       "  box-sizing: border-box;\n",
       "  margin-bottom: 0.5em;\n",
       "  /* unfitted */\n",
       "  background-color: var(--sklearn-color-unfitted-level-0);\n",
       "}\n",
       "\n",
       "#sk-container-id-1 div.sk-estimator.fitted {\n",
       "  /* fitted */\n",
       "  background-color: var(--sklearn-color-fitted-level-0);\n",
       "}\n",
       "\n",
       "/* on hover */\n",
       "#sk-container-id-1 div.sk-estimator:hover {\n",
       "  /* unfitted */\n",
       "  background-color: var(--sklearn-color-unfitted-level-2);\n",
       "}\n",
       "\n",
       "#sk-container-id-1 div.sk-estimator.fitted:hover {\n",
       "  /* fitted */\n",
       "  background-color: var(--sklearn-color-fitted-level-2);\n",
       "}\n",
       "\n",
       "/* Specification for estimator info (e.g. \"i\" and \"?\") */\n",
       "\n",
       "/* Common style for \"i\" and \"?\" */\n",
       "\n",
       ".sk-estimator-doc-link,\n",
       "a:link.sk-estimator-doc-link,\n",
       "a:visited.sk-estimator-doc-link {\n",
       "  float: right;\n",
       "  font-size: smaller;\n",
       "  line-height: 1em;\n",
       "  font-family: monospace;\n",
       "  background-color: var(--sklearn-color-background);\n",
       "  border-radius: 1em;\n",
       "  height: 1em;\n",
       "  width: 1em;\n",
       "  text-decoration: none !important;\n",
       "  margin-left: 1ex;\n",
       "  /* unfitted */\n",
       "  border: var(--sklearn-color-unfitted-level-1) 1pt solid;\n",
       "  color: var(--sklearn-color-unfitted-level-1);\n",
       "}\n",
       "\n",
       ".sk-estimator-doc-link.fitted,\n",
       "a:link.sk-estimator-doc-link.fitted,\n",
       "a:visited.sk-estimator-doc-link.fitted {\n",
       "  /* fitted */\n",
       "  border: var(--sklearn-color-fitted-level-1) 1pt solid;\n",
       "  color: var(--sklearn-color-fitted-level-1);\n",
       "}\n",
       "\n",
       "/* On hover */\n",
       "div.sk-estimator:hover .sk-estimator-doc-link:hover,\n",
       ".sk-estimator-doc-link:hover,\n",
       "div.sk-label-container:hover .sk-estimator-doc-link:hover,\n",
       ".sk-estimator-doc-link:hover {\n",
       "  /* unfitted */\n",
       "  background-color: var(--sklearn-color-unfitted-level-3);\n",
       "  color: var(--sklearn-color-background);\n",
       "  text-decoration: none;\n",
       "}\n",
       "\n",
       "div.sk-estimator.fitted:hover .sk-estimator-doc-link.fitted:hover,\n",
       ".sk-estimator-doc-link.fitted:hover,\n",
       "div.sk-label-container:hover .sk-estimator-doc-link.fitted:hover,\n",
       ".sk-estimator-doc-link.fitted:hover {\n",
       "  /* fitted */\n",
       "  background-color: var(--sklearn-color-fitted-level-3);\n",
       "  color: var(--sklearn-color-background);\n",
       "  text-decoration: none;\n",
       "}\n",
       "\n",
       "/* Span, style for the box shown on hovering the info icon */\n",
       ".sk-estimator-doc-link span {\n",
       "  display: none;\n",
       "  z-index: 9999;\n",
       "  position: relative;\n",
       "  font-weight: normal;\n",
       "  right: .2ex;\n",
       "  padding: .5ex;\n",
       "  margin: .5ex;\n",
       "  width: min-content;\n",
       "  min-width: 20ex;\n",
       "  max-width: 50ex;\n",
       "  color: var(--sklearn-color-text);\n",
       "  box-shadow: 2pt 2pt 4pt #999;\n",
       "  /* unfitted */\n",
       "  background: var(--sklearn-color-unfitted-level-0);\n",
       "  border: .5pt solid var(--sklearn-color-unfitted-level-3);\n",
       "}\n",
       "\n",
       ".sk-estimator-doc-link.fitted span {\n",
       "  /* fitted */\n",
       "  background: var(--sklearn-color-fitted-level-0);\n",
       "  border: var(--sklearn-color-fitted-level-3);\n",
       "}\n",
       "\n",
       ".sk-estimator-doc-link:hover span {\n",
       "  display: block;\n",
       "}\n",
       "\n",
       "/* \"?\"-specific style due to the `<a>` HTML tag */\n",
       "\n",
       "#sk-container-id-1 a.estimator_doc_link {\n",
       "  float: right;\n",
       "  font-size: 1rem;\n",
       "  line-height: 1em;\n",
       "  font-family: monospace;\n",
       "  background-color: var(--sklearn-color-background);\n",
       "  border-radius: 1rem;\n",
       "  height: 1rem;\n",
       "  width: 1rem;\n",
       "  text-decoration: none;\n",
       "  /* unfitted */\n",
       "  color: var(--sklearn-color-unfitted-level-1);\n",
       "  border: var(--sklearn-color-unfitted-level-1) 1pt solid;\n",
       "}\n",
       "\n",
       "#sk-container-id-1 a.estimator_doc_link.fitted {\n",
       "  /* fitted */\n",
       "  border: var(--sklearn-color-fitted-level-1) 1pt solid;\n",
       "  color: var(--sklearn-color-fitted-level-1);\n",
       "}\n",
       "\n",
       "/* On hover */\n",
       "#sk-container-id-1 a.estimator_doc_link:hover {\n",
       "  /* unfitted */\n",
       "  background-color: var(--sklearn-color-unfitted-level-3);\n",
       "  color: var(--sklearn-color-background);\n",
       "  text-decoration: none;\n",
       "}\n",
       "\n",
       "#sk-container-id-1 a.estimator_doc_link.fitted:hover {\n",
       "  /* fitted */\n",
       "  background-color: var(--sklearn-color-fitted-level-3);\n",
       "}\n",
       "</style><div id=\"sk-container-id-1\" class=\"sk-top-container\"><div class=\"sk-text-repr-fallback\"><pre>KMeans(n_clusters=4)</pre><b>In a Jupyter environment, please rerun this cell to show the HTML representation or trust the notebook. <br />On GitHub, the HTML representation is unable to render, please try loading this page with nbviewer.org.</b></div><div class=\"sk-container\" hidden><div class=\"sk-item\"><div class=\"sk-estimator fitted sk-toggleable\"><input class=\"sk-toggleable__control sk-hidden--visually\" id=\"sk-estimator-id-1\" type=\"checkbox\" checked><label for=\"sk-estimator-id-1\" class=\"sk-toggleable__label fitted sk-toggleable__label-arrow fitted\">&nbsp;&nbsp;KMeans<a class=\"sk-estimator-doc-link fitted\" rel=\"noreferrer\" target=\"_blank\" href=\"https://scikit-learn.org/1.4/modules/generated/sklearn.cluster.KMeans.html\">?<span>Documentation for KMeans</span></a><span class=\"sk-estimator-doc-link fitted\">i<span>Fitted</span></span></label><div class=\"sk-toggleable__content fitted\"><pre>KMeans(n_clusters=4)</pre></div> </div></div></div></div>"
      ],
      "text/plain": [
       "KMeans(n_clusters=4)"
      ]
     },
     "execution_count": 5,
     "metadata": {},
     "output_type": "execute_result"
    }
   ],
   "source": [
    "# création du modèle\n",
    "model_kmeans = KMeans(n_clusters=4)\n",
    "model_kmeans.fit(X)"
   ]
  },
  {
   "cell_type": "markdown",
   "metadata": {},
   "source": [
    "### Catégorisation"
   ]
  },
  {
   "cell_type": "code",
   "execution_count": 6,
   "metadata": {
    "ExecuteTime": {
     "end_time": "2025-06-25T13:52:44.105398Z",
     "start_time": "2025-06-25T13:52:44.093754Z"
    }
   },
   "outputs": [
    {
     "data": {
      "text/plain": [
       "clusters\n",
       "2    34\n",
       "0    33\n",
       "3    19\n",
       "1    14\n",
       "Name: count, dtype: int64"
      ]
     },
     "execution_count": 6,
     "metadata": {},
     "output_type": "execute_result"
    }
   ],
   "source": [
    "X_km = X.copy()\n",
    "X_km = pd.DataFrame(X_km)\n",
    "clustering_labels_km = model_kmeans.fit_predict(X)\n",
    "X_km['clusters'] = clustering_labels_km\n",
    "X_km['clusters'].value_counts()"
   ]
  },
  {
   "cell_type": "code",
   "execution_count": 7,
   "metadata": {
    "ExecuteTime": {
     "end_time": "2025-06-25T13:52:44.195936Z",
     "start_time": "2025-06-25T13:52:44.189810Z"
    }
   },
   "outputs": [
    {
     "data": {
      "text/html": [
       "<div>\n",
       "<style scoped>\n",
       "    .dataframe tbody tr th:only-of-type {\n",
       "        vertical-align: middle;\n",
       "    }\n",
       "\n",
       "    .dataframe tbody tr th {\n",
       "        vertical-align: top;\n",
       "    }\n",
       "\n",
       "    .dataframe thead th {\n",
       "        text-align: right;\n",
       "    }\n",
       "</style>\n",
       "<table border=\"1\" class=\"dataframe\">\n",
       "  <thead>\n",
       "    <tr style=\"text-align: right;\">\n",
       "      <th></th>\n",
       "      <th>0</th>\n",
       "      <th>1</th>\n",
       "      <th>clusters</th>\n",
       "    </tr>\n",
       "  </thead>\n",
       "  <tbody>\n",
       "    <tr>\n",
       "      <th>0</th>\n",
       "      <td>2.285904</td>\n",
       "      <td>0.814344</td>\n",
       "      <td>0</td>\n",
       "    </tr>\n",
       "    <tr>\n",
       "      <th>1</th>\n",
       "      <td>0.618083</td>\n",
       "      <td>4.458548</td>\n",
       "      <td>2</td>\n",
       "    </tr>\n",
       "    <tr>\n",
       "      <th>2</th>\n",
       "      <td>2.434168</td>\n",
       "      <td>0.835660</td>\n",
       "      <td>0</td>\n",
       "    </tr>\n",
       "    <tr>\n",
       "      <th>3</th>\n",
       "      <td>0.330711</td>\n",
       "      <td>4.218691</td>\n",
       "      <td>2</td>\n",
       "    </tr>\n",
       "    <tr>\n",
       "      <th>4</th>\n",
       "      <td>0.556849</td>\n",
       "      <td>3.735780</td>\n",
       "      <td>2</td>\n",
       "    </tr>\n",
       "    <tr>\n",
       "      <th>...</th>\n",
       "      <td>...</td>\n",
       "      <td>...</td>\n",
       "      <td>...</td>\n",
       "    </tr>\n",
       "    <tr>\n",
       "      <th>95</th>\n",
       "      <td>-1.051692</td>\n",
       "      <td>3.044659</td>\n",
       "      <td>1</td>\n",
       "    </tr>\n",
       "    <tr>\n",
       "      <th>96</th>\n",
       "      <td>1.101497</td>\n",
       "      <td>3.962149</td>\n",
       "      <td>2</td>\n",
       "    </tr>\n",
       "    <tr>\n",
       "      <th>97</th>\n",
       "      <td>1.322045</td>\n",
       "      <td>4.006921</td>\n",
       "      <td>2</td>\n",
       "    </tr>\n",
       "    <tr>\n",
       "      <th>98</th>\n",
       "      <td>-1.276811</td>\n",
       "      <td>2.277059</td>\n",
       "      <td>3</td>\n",
       "    </tr>\n",
       "    <tr>\n",
       "      <th>99</th>\n",
       "      <td>-2.017078</td>\n",
       "      <td>3.255627</td>\n",
       "      <td>1</td>\n",
       "    </tr>\n",
       "  </tbody>\n",
       "</table>\n",
       "<p>100 rows × 3 columns</p>\n",
       "</div>"
      ],
      "text/plain": [
       "           0         1  clusters\n",
       "0   2.285904  0.814344         0\n",
       "1   0.618083  4.458548         2\n",
       "2   2.434168  0.835660         0\n",
       "3   0.330711  4.218691         2\n",
       "4   0.556849  3.735780         2\n",
       "..       ...       ...       ...\n",
       "95 -1.051692  3.044659         1\n",
       "96  1.101497  3.962149         2\n",
       "97  1.322045  4.006921         2\n",
       "98 -1.276811  2.277059         3\n",
       "99 -2.017078  3.255627         1\n",
       "\n",
       "[100 rows x 3 columns]"
      ]
     },
     "execution_count": 7,
     "metadata": {},
     "output_type": "execute_result"
    }
   ],
   "source": [
    "X_km.head(100)"
   ]
  },
  {
   "cell_type": "markdown",
   "metadata": {},
   "source": [
    "### Visualisation des clusters"
   ]
  },
  {
   "cell_type": "code",
   "execution_count": 8,
   "metadata": {
    "ExecuteTime": {
     "end_time": "2025-06-25T13:52:44.299840Z",
     "start_time": "2025-06-25T13:52:44.297248Z"
    }
   },
   "outputs": [
    {
     "data": {
      "text/plain": [
       "4"
      ]
     },
     "execution_count": 8,
     "metadata": {},
     "output_type": "execute_result"
    }
   ],
   "source": [
    "# connaitre le nombre de cluster\n",
    "model_kmeans.n_clusters"
   ]
  },
  {
   "cell_type": "code",
   "execution_count": 9,
   "metadata": {
    "ExecuteTime": {
     "end_time": "2025-06-25T13:52:44.640887Z",
     "start_time": "2025-06-25T13:52:44.507133Z"
    }
   },
   "outputs": [
    {
     "data": {
      "text/plain": [
       "<matplotlib.collections.PathCollection at 0x7e4d7bb7b860>"
      ]
     },
     "execution_count": 9,
     "metadata": {},
     "output_type": "execute_result"
    },
    {
     "data": {
      "image/png": "[encoded data removed]",
      "text/plain": [
       "<Figure size 640x480 with 1 Axes>"
      ]
     },
     "metadata": {},
     "output_type": "display_data"
    }
   ],
   "source": [
    "# Visualisation des clusters\n",
    "plt.scatter(X[:,0], X[:,1], c = clustering_labels_km)\n",
    "plt.scatter(model_kmeans.cluster_centers_[:,0], model_kmeans.cluster_centers_[:,1], c='r')"
   ]
  },
  {
   "cell_type": "markdown",
   "metadata": {},
   "source": [
    "### Evaluation KMEANS"
   ]
  },
  {
   "cell_type": "code",
   "execution_count": 10,
   "metadata": {
    "ExecuteTime": {
     "end_time": "2025-06-25T13:52:44.735484Z",
     "start_time": "2025-06-25T13:52:44.730366Z"
    }
   },
   "outputs": [
    {
     "data": {
      "text/plain": [
       "0.7658884799239106"
      ]
     },
     "execution_count": 10,
     "metadata": {},
     "output_type": "execute_result"
    }
   ],
   "source": [
    "metrics.silhouette_score(X_km, X_km['clusters'])"
   ]
  },
  {
   "cell_type": "markdown",
   "metadata": {
    "colab_type": "text",
    "id": "cALI-5h2Hc7v"
   },
   "source": [
    "#### Elbow Method"
   ]
  },
  {
   "cell_type": "code",
   "execution_count": 11,
   "metadata": {
    "ExecuteTime": {
     "end_time": "2025-06-25T13:52:44.890505Z",
     "start_time": "2025-06-25T13:52:44.858776Z"
    }
   },
   "outputs": [],
   "source": [
    "# Recherche du k optimal par la méthode du coude\n",
    "inertia = []\n",
    "K_range = range(1, 20)\n",
    "for k in K_range:\n",
    "    model = KMeans(n_clusters=k).fit(X)\n",
    "    inertia.append(model.inertia_)"
   ]
  },
  {
   "cell_type": "code",
   "execution_count": 12,
   "metadata": {
    "ExecuteTime": {
     "end_time": "2025-06-25T13:52:45.065126Z",
     "start_time": "2025-06-25T13:52:44.930364Z"
    },
    "colab": {
     "base_uri": "https://localhost:8080/",
     "height": 296
    },
    "colab_type": "code",
    "id": "MIBd3MvvHNFi",
    "outputId": "71be8a80-8ad0-4922-eab0-207a08699fa2"
   },
   "outputs": [
    {
     "data": {
      "text/plain": [
       "Text(0, 0.5, 'Inertia')"
      ]
     },
     "execution_count": 12,
     "metadata": {},
     "output_type": "execute_result"
    },
    {
     "data": {
      "image/png": "[encoded data removed]",
      "text/plain": [
       "<Figure size 640x480 with 1 Axes>"
      ]
     },
     "metadata": {},
     "output_type": "display_data"
    }
   ],
   "source": [
    "# Visualisation du coude\n",
    "plt.plot(K_range, inertia)\n",
    "plt.xlabel('nombre de clusters')\n",
    "plt.ylabel('Inertia')"
   ]
  },
  {
   "cell_type": "markdown",
   "metadata": {},
   "source": [
    "### Qualification"
   ]
  },
  {
   "cell_type": "code",
   "execution_count": 13,
   "metadata": {
    "ExecuteTime": {
     "end_time": "2025-06-25T13:52:45.480096Z",
     "start_time": "2025-06-25T13:52:45.078295Z"
    }
   },
   "outputs": [
    {
     "name": "stdout",
     "output_type": "stream",
     "text": [
      "\n",
      "=== Analyse des variables numériques ===\n",
      "\n"
     ]
    },
    {
     "data": {
      "image/png": "[encoded data removed]",
      "text/plain": [
       "<Figure size 1000x500 with 1 Axes>"
      ]
     },
     "metadata": {},
     "output_type": "display_data"
    },
    {
     "name": "stdout",
     "output_type": "stream",
     "text": [
      "\n",
      " Statistiques pour '0' :\n",
      "          count      mean       std       min       25%       50%       75%  \\\n",
      "clusters                                                                      \n",
      "0          33.0  2.088891  0.365617  1.547074  1.785534  2.106032  2.285904   \n",
      "1          14.0 -1.379348  0.466101 -2.017078 -1.798576 -1.339211 -1.102064   \n",
      "2          34.0  0.927027  0.425040 -0.044926  0.628620  0.949990  1.239384   \n",
      "3          19.0 -1.676129  0.322381 -2.123407 -1.947824 -1.709117 -1.430105   \n",
      "Total     100.0  0.492950  1.569478 -2.123407 -1.192676  0.949990  1.789383   \n",
      "\n",
      "               max  \n",
      "clusters            \n",
      "0         2.824444  \n",
      "1        -0.573646  \n",
      "2         1.884172  \n",
      "3        -1.076250  \n",
      "Total     2.824444  \n"
     ]
    },
    {
     "data": {
      "image/png": "[encoded data removed]",
      "text/plain": [
       "<Figure size 1000x500 with 1 Axes>"
      ]
     },
     "metadata": {},
     "output_type": "display_data"
    },
    {
     "name": "stdout",
     "output_type": "stream",
     "text": [
      "\n",
      " Statistiques pour '1' :\n",
      "          count      mean       std       min       25%       50%       75%  \\\n",
      "clusters                                                                      \n",
      "0          33.0  1.079304  0.400292  0.283166  0.825694  1.168237  1.319444   \n",
      "1          14.0  3.287793  0.218826  2.952903  3.173918  3.251456  3.430542   \n",
      "2          34.0  4.273854  0.365625  3.511469  4.132187  4.283905  4.465657   \n",
      "3          19.0  2.623674  0.289593  2.028521  2.409273  2.652491  2.835697   \n",
      "Total     100.0  2.768070  1.374566  0.283166  1.369842  2.945826  4.132187   \n",
      "\n",
      "               max  \n",
      "clusters            \n",
      "0         1.675112  \n",
      "1         3.689695  \n",
      "2         5.084097  \n",
      "3         3.093639  \n",
      "Total     5.084097  \n",
      "\n",
      " Résumé des tests numériques :\n"
     ]
    },
    {
     "data": {
      "text/html": [
       "<div>\n",
       "<style scoped>\n",
       "    .dataframe tbody tr th:only-of-type {\n",
       "        vertical-align: middle;\n",
       "    }\n",
       "\n",
       "    .dataframe tbody tr th {\n",
       "        vertical-align: top;\n",
       "    }\n",
       "\n",
       "    .dataframe thead th {\n",
       "        text-align: right;\n",
       "    }\n",
       "</style>\n",
       "<table border=\"1\" class=\"dataframe\">\n",
       "  <thead>\n",
       "    <tr style=\"text-align: right;\">\n",
       "      <th></th>\n",
       "      <th>variable</th>\n",
       "      <th>test</th>\n",
       "      <th>stat</th>\n",
       "      <th>p_value</th>\n",
       "    </tr>\n",
       "  </thead>\n",
       "  <tbody>\n",
       "    <tr>\n",
       "      <th>0</th>\n",
       "      <td>0</td>\n",
       "      <td>ANOVA</td>\n",
       "      <td>490.527666</td>\n",
       "      <td>4.581041e-58</td>\n",
       "    </tr>\n",
       "    <tr>\n",
       "      <th>1</th>\n",
       "      <td>1</td>\n",
       "      <td>ANOVA</td>\n",
       "      <td>480.869064</td>\n",
       "      <td>1.121081e-57</td>\n",
       "    </tr>\n",
       "  </tbody>\n",
       "</table>\n",
       "</div>"
      ],
      "text/plain": [
       "   variable   test        stat       p_value\n",
       "0         0  ANOVA  490.527666  4.581041e-58\n",
       "1         1  ANOVA  480.869064  1.121081e-57"
      ]
     },
     "metadata": {},
     "output_type": "display_data"
    }
   ],
   "source": [
    "numeric_vars = [0, 1]\n",
    "# cat_vars = ['sexe', 'statut_marital']\n",
    "\n",
    "numeric_summary, cat_summary = compare_clusters_full_with_total(\n",
    "    df = X_km,\n",
    "    cluster_col='clusters',\n",
    "    numeric_vars=numeric_vars,\n",
    "    # cat_vars=cat_vars,\n",
    "    test_type='anova'\n",
    ")"
   ]
  },
  {
   "cell_type": "markdown",
   "metadata": {
    "colab_type": "text",
    "id": "T-yhxJraHiLU"
   },
   "source": [
    "## 2. Detection d'anomalies avec Isolation Forest"
   ]
  },
  {
   "cell_type": "code",
   "execution_count": 14,
   "metadata": {
    "ExecuteTime": {
     "end_time": "2025-06-25T13:52:45.556038Z",
     "start_time": "2025-06-25T13:52:45.523626Z"
    },
    "colab": {},
    "colab_type": "code",
    "id": "Ydb36Yv3Hocs"
   },
   "outputs": [],
   "source": [
    "from sklearn.ensemble import IsolationForest"
   ]
  },
  {
   "cell_type": "code",
   "execution_count": 15,
   "metadata": {
    "ExecuteTime": {
     "end_time": "2025-06-25T13:52:45.857020Z",
     "start_time": "2025-06-25T13:52:45.674821Z"
    },
    "colab": {
     "base_uri": "https://localhost:8080/",
     "height": 282
    },
    "colab_type": "code",
    "id": "irVqoD85HX-e",
    "outputId": "c83165e1-742b-4f00-b6b5-17a202a786d9"
   },
   "outputs": [
    {
     "data": {
      "text/plain": [
       "<matplotlib.collections.PathCollection at 0x7e4d72eaf6b0>"
      ]
     },
     "execution_count": 15,
     "metadata": {},
     "output_type": "execute_result"
    },
    {
     "data": {
      "image/png": "[encoded data removed]",
      "text/plain": [
       "<Figure size 640x480 with 1 Axes>"
      ]
     },
     "metadata": {},
     "output_type": "display_data"
    }
   ],
   "source": [
    "# Générer les données\n",
    "X, y = make_blobs(n_samples=50, centers=1, cluster_std=0.1, random_state=0)\n",
    "X[-1,:] = np.array([2.25, 5])\n",
    "\n",
    "plt.scatter(X[:,0], X[:, 1])"
   ]
  },
  {
   "cell_type": "code",
   "execution_count": 16,
   "metadata": {
    "ExecuteTime": {
     "end_time": "2025-06-25T13:52:45.965649Z",
     "start_time": "2025-06-25T13:52:45.874629Z"
    },
    "colab": {
     "base_uri": "https://localhost:8080/",
     "height": 282
    },
    "colab_type": "code",
    "id": "_lXr47YMHpjE",
    "outputId": "2b49bd16-6e94-4cd4-934d-847e03d04da4"
   },
   "outputs": [],
   "source": [
    "# Création du modèle d'isolation Forest\n",
    "\n",
    "model_isofo = IsolationForest(contamination=0.5)\n",
    "\n",
    "anomalies = model_isofo.fit(X)"
   ]
  },
  {
   "cell_type": "code",
   "execution_count": 17,
   "metadata": {
    "ExecuteTime": {
     "end_time": "2025-06-25T13:52:45.986118Z",
     "start_time": "2025-06-25T13:52:45.980148Z"
    }
   },
   "outputs": [
    {
     "data": {
      "text/plain": [
       "array([ 1,  1,  1, -1,  1, -1, -1,  1,  1, -1, -1, -1,  1, -1,  1,  1, -1,\n",
       "       -1,  1,  1,  1, -1,  1,  1, -1,  1, -1,  1,  1, -1, -1,  1,  1,  1,\n",
       "       -1, -1, -1,  1, -1, -1, -1,  1, -1, -1,  1, -1, -1,  1,  1, -1])"
      ]
     },
     "execution_count": 17,
     "metadata": {},
     "output_type": "execute_result"
    }
   ],
   "source": [
    "# Clusters des anomalies\n",
    "clusters_ano = anomalies.predict(X)\n",
    "\n",
    "clusters_ano"
   ]
  },
  {
   "cell_type": "markdown",
   "metadata": {},
   "source": [
    "### Categorisation"
   ]
  },
  {
   "cell_type": "code",
   "execution_count": 18,
   "metadata": {
    "ExecuteTime": {
     "end_time": "2025-06-25T13:52:46.053806Z",
     "start_time": "2025-06-25T13:52:46.046910Z"
    }
   },
   "outputs": [
    {
     "data": {
      "text/plain": [
       "clusters\n",
       " 1    25\n",
       "-1    25\n",
       "Name: count, dtype: int64"
      ]
     },
     "execution_count": 18,
     "metadata": {},
     "output_type": "execute_result"
    }
   ],
   "source": [
    "X_ano = X.copy()\n",
    "X_ano = pd.DataFrame(X_ano)\n",
    "X_ano['clusters'] = clusters_ano\n",
    "X_ano['clusters'].value_counts()"
   ]
  },
  {
   "cell_type": "markdown",
   "metadata": {},
   "source": [
    "### Visualisation des clusters"
   ]
  },
  {
   "cell_type": "code",
   "execution_count": 19,
   "metadata": {
    "ExecuteTime": {
     "end_time": "2025-06-25T13:52:46.295965Z",
     "start_time": "2025-06-25T13:52:46.131490Z"
    }
   },
   "outputs": [
    {
     "data": {
      "text/plain": [
       "<matplotlib.collections.PathCollection at 0x7e4d78bc3b30>"
      ]
     },
     "execution_count": 19,
     "metadata": {},
     "output_type": "execute_result"
    },
    {
     "data": {
      "image/png": "[encoded data removed]",
      "text/plain": [
       "<Figure size 640x480 with 1 Axes>"
      ]
     },
     "metadata": {},
     "output_type": "display_data"
    }
   ],
   "source": [
    "# Visualisation des clusters des anomalies\n",
    "plt.scatter(X_ano[0], X_ano[1], c=clusters_ano)"
   ]
  },
  {
   "cell_type": "markdown",
   "metadata": {},
   "source": [
    "### Evaluation"
   ]
  },
  {
   "cell_type": "code",
   "execution_count": 20,
   "metadata": {
    "ExecuteTime": {
     "end_time": "2025-06-25T13:52:46.408099Z",
     "start_time": "2025-06-25T13:52:46.401891Z"
    }
   },
   "outputs": [
    {
     "data": {
      "text/plain": [
       "0.8917789925555465"
      ]
     },
     "execution_count": 20,
     "metadata": {},
     "output_type": "execute_result"
    }
   ],
   "source": [
    "metrics.silhouette_score(X_ano, X_ano['clusters'])"
   ]
  },
  {
   "cell_type": "markdown",
   "metadata": {},
   "source": [
    "### Qualification"
   ]
  },
  {
   "cell_type": "code",
   "execution_count": 21,
   "metadata": {
    "ExecuteTime": {
     "end_time": "2025-06-25T13:52:47.037451Z",
     "start_time": "2025-06-25T13:52:46.504754Z"
    }
   },
   "outputs": [
    {
     "name": "stdout",
     "output_type": "stream",
     "text": [
      "\n",
      "=== Analyse des variables numériques ===\n",
      "\n"
     ]
    },
    {
     "data": {
      "image/png": "[encoded data removed]",
      "text/plain": [
       "<Figure size 1000x500 with 1 Axes>"
      ]
     },
     "metadata": {},
     "output_type": "display_data"
    },
    {
     "name": "stdout",
     "output_type": "stream",
     "text": [
      "\n",
      " Statistiques pour '0' :\n",
      "          count      mean       std       min       25%       50%       75%  \\\n",
      "clusters                                                                      \n",
      "-1         25.0  1.026614  0.289129  0.720971  0.869195  0.977320  1.125095   \n",
      "1          25.0  0.978937  0.059575  0.885540  0.937537  0.982922  1.011907   \n",
      "Total      50.0  1.002776  0.207998  0.720971  0.898473  0.981884  1.060129   \n",
      "\n",
      "               max  \n",
      "clusters            \n",
      "-1        2.250000  \n",
      "1         1.094148  \n",
      "Total     2.250000  \n"
     ]
    },
    {
     "data": {
      "image/png": "[encoded data removed]",
      "text/plain": [
       "<Figure size 1000x500 with 1 Axes>"
      ]
     },
     "metadata": {},
     "output_type": "display_data"
    },
    {
     "name": "stdout",
     "output_type": "stream",
     "text": [
      "\n",
      " Statistiques pour '1' :\n",
      "          count      mean       std       min       25%       50%       75%  \\\n",
      "clusters                                                                      \n",
      "-1         25.0  4.346816  0.192581  4.105708  4.180305  4.369149  4.449215   \n",
      "1          25.0  4.300843  0.046865  4.218378  4.267513  4.308982  4.341604   \n",
      "Total      50.0  4.323829  0.140642  4.105708  4.249422  4.312679  4.379763   \n",
      "\n",
      "               max  \n",
      "clusters            \n",
      "-1        5.000000  \n",
      "1         4.401451  \n",
      "Total     5.000000  \n",
      "\n",
      " Résumé des tests numériques :\n"
     ]
    },
    {
     "data": {
      "text/html": [
       "<div>\n",
       "<style scoped>\n",
       "    .dataframe tbody tr th:only-of-type {\n",
       "        vertical-align: middle;\n",
       "    }\n",
       "\n",
       "    .dataframe tbody tr th {\n",
       "        vertical-align: top;\n",
       "    }\n",
       "\n",
       "    .dataframe thead th {\n",
       "        text-align: right;\n",
       "    }\n",
       "</style>\n",
       "<table border=\"1\" class=\"dataframe\">\n",
       "  <thead>\n",
       "    <tr style=\"text-align: right;\">\n",
       "      <th></th>\n",
       "      <th>variable</th>\n",
       "      <th>test</th>\n",
       "      <th>stat</th>\n",
       "      <th>p_value</th>\n",
       "    </tr>\n",
       "  </thead>\n",
       "  <tbody>\n",
       "    <tr>\n",
       "      <th>1</th>\n",
       "      <td>1</td>\n",
       "      <td>ANOVA</td>\n",
       "      <td>1.345009</td>\n",
       "      <td>0.251889</td>\n",
       "    </tr>\n",
       "    <tr>\n",
       "      <th>0</th>\n",
       "      <td>0</td>\n",
       "      <td>ANOVA</td>\n",
       "      <td>0.652090</td>\n",
       "      <td>0.423350</td>\n",
       "    </tr>\n",
       "  </tbody>\n",
       "</table>\n",
       "</div>"
      ],
      "text/plain": [
       "   variable   test      stat   p_value\n",
       "1         1  ANOVA  1.345009  0.251889\n",
       "0         0  ANOVA  0.652090  0.423350"
      ]
     },
     "metadata": {},
     "output_type": "display_data"
    }
   ],
   "source": [
    "numeric_vars = [0, 1]\n",
    "# cat_vars = ['sexe', 'statut_marital']\n",
    "\n",
    "numeric_summary, cat_summary = compare_clusters_full_with_total(\n",
    "    df = X_ano,\n",
    "    cluster_col='clusters',\n",
    "    numeric_vars=numeric_vars,\n",
    "    # cat_vars=cat_vars,\n",
    "    test_type='anova'\n",
    ")"
   ]
  },
  {
   "cell_type": "markdown",
   "metadata": {
    "colab": {},
    "colab_type": "code",
    "id": "jCvustw9NsNT"
   },
   "source": [
    "## 3. DBSCAN"
   ]
  },
  {
   "cell_type": "code",
   "execution_count": 22,
   "metadata": {
    "ExecuteTime": {
     "end_time": "2025-06-25T13:52:47.072550Z",
     "start_time": "2025-06-25T13:52:47.069948Z"
    }
   },
   "outputs": [],
   "source": [
    "from sklearn.cluster import DBSCAN"
   ]
  },
  {
   "cell_type": "code",
   "execution_count": 23,
   "metadata": {
    "ExecuteTime": {
     "end_time": "2025-06-25T13:52:47.298609Z",
     "start_time": "2025-06-25T13:52:47.289722Z"
    }
   },
   "outputs": [],
   "source": [
    "db_model = DBSCAN(eps=0.5, min_samples=4)\n",
    "\n",
    "# modelisation\n",
    "\n",
    "clustering = db_model.fit(X)\n",
    "\n",
    "clustering_labels = db_model.fit_predict(X)"
   ]
  },
  {
   "cell_type": "markdown",
   "metadata": {},
   "source": [
    "### Catégorisation"
   ]
  },
  {
   "cell_type": "code",
   "execution_count": 24,
   "metadata": {
    "ExecuteTime": {
     "end_time": "2025-06-25T13:52:47.389362Z",
     "start_time": "2025-06-25T13:52:47.379420Z"
    }
   },
   "outputs": [
    {
     "data": {
      "text/plain": [
       "clusters\n",
       " 0    49\n",
       "-1     1\n",
       "Name: count, dtype: int64"
      ]
     },
     "execution_count": 24,
     "metadata": {},
     "output_type": "execute_result"
    }
   ],
   "source": [
    "\n",
    "X_db = X.copy()\n",
    "X_db = pd.DataFrame(X_db)\n",
    "X_db['clusters'] = clustering_labels\n",
    "#clusters_db = pd.DataFrame({'clusters':clustering.labels_})\n",
    "X_db['clusters'].value_counts()"
   ]
  },
  {
   "cell_type": "markdown",
   "metadata": {},
   "source": [
    "### Visualisation des clusters"
   ]
  },
  {
   "cell_type": "code",
   "execution_count": 25,
   "metadata": {
    "ExecuteTime": {
     "end_time": "2025-06-25T13:52:47.730398Z",
     "start_time": "2025-06-25T13:52:47.532259Z"
    }
   },
   "outputs": [
    {
     "data": {
      "text/plain": [
       "<matplotlib.collections.PathCollection at 0x7e4d72a21340>"
      ]
     },
     "execution_count": 25,
     "metadata": {},
     "output_type": "execute_result"
    },
    {
     "data": {
      "image/png": "[encoded data removed]",
      "text/plain": [
       "<Figure size 640x480 with 1 Axes>"
      ]
     },
     "metadata": {},
     "output_type": "display_data"
    }
   ],
   "source": [
    "plt.scatter(X_db[0], X_db[1], c=clustering.labels_ )"
   ]
  },
  {
   "cell_type": "markdown",
   "metadata": {},
   "source": [
    "### Evaluation"
   ]
  },
  {
   "cell_type": "code",
   "execution_count": 26,
   "metadata": {
    "ExecuteTime": {
     "end_time": "2025-06-25T13:52:47.833911Z",
     "start_time": "2025-06-25T13:52:47.828140Z"
    }
   },
   "outputs": [
    {
     "data": {
      "text/plain": [
       "0.8769059144774929"
      ]
     },
     "execution_count": 26,
     "metadata": {},
     "output_type": "execute_result"
    }
   ],
   "source": [
    "metrics.silhouette_score(X_db, X_db['clusters'])"
   ]
  },
  {
   "cell_type": "markdown",
   "metadata": {},
   "source": [
    "### Qualification"
   ]
  },
  {
   "cell_type": "code",
   "execution_count": 27,
   "metadata": {
    "ExecuteTime": {
     "end_time": "2025-06-25T13:52:48.349701Z",
     "start_time": "2025-06-25T13:52:47.925095Z"
    }
   },
   "outputs": [
    {
     "name": "stdout",
     "output_type": "stream",
     "text": [
      "\n",
      "=== Analyse des variables numériques ===\n",
      "\n"
     ]
    },
    {
     "data": {
      "image/png": "[encoded data removed]",
      "text/plain": [
       "<Figure size 1000x500 with 1 Axes>"
      ]
     },
     "metadata": {},
     "output_type": "display_data"
    },
    {
     "name": "stdout",
     "output_type": "stream",
     "text": [
      "\n",
      " Statistiques pour '0' :\n",
      "          count      mean       std       min       25%       50%       75%  \\\n",
      "clusters                                                                      \n",
      "-1          1.0  2.250000       NaN  2.250000  2.250000  2.250000  2.250000   \n",
      "0          49.0  0.977322  0.105334  0.720971  0.894955  0.980846  1.052374   \n",
      "Total      50.0  1.002776  0.207998  0.720971  0.898473  0.981884  1.060129   \n",
      "\n",
      "               max  \n",
      "clusters            \n",
      "-1        2.250000  \n",
      "0         1.203246  \n",
      "Total     2.250000  \n"
     ]
    },
    {
     "data": {
      "image/png": "[encoded data removed]",
      "text/plain": [
       "<Figure size 1000x500 with 1 Axes>"
      ]
     },
     "metadata": {},
     "output_type": "display_data"
    },
    {
     "name": "stdout",
     "output_type": "stream",
     "text": [
      "\n",
      " Statistiques pour '1' :\n",
      "          count      mean       std       min       25%       50%       75%  \\\n",
      "clusters                                                                      \n",
      "-1          1.0  5.000000       NaN  5.000000  5.000000  5.000000  5.000000   \n",
      "0          49.0  4.310030  0.102336  4.105708  4.245902  4.309404  4.374445   \n",
      "Total      50.0  4.323829  0.140642  4.105708  4.249422  4.312679  4.379763   \n",
      "\n",
      "               max  \n",
      "clusters            \n",
      "-1        5.000000  \n",
      "0         4.527877  \n",
      "Total     5.000000  \n",
      "\n",
      " Résumé des tests numériques :\n"
     ]
    },
    {
     "data": {
      "text/html": [
       "<div>\n",
       "<style scoped>\n",
       "    .dataframe tbody tr th:only-of-type {\n",
       "        vertical-align: middle;\n",
       "    }\n",
       "\n",
       "    .dataframe tbody tr th {\n",
       "        vertical-align: top;\n",
       "    }\n",
       "\n",
       "    .dataframe thead th {\n",
       "        text-align: right;\n",
       "    }\n",
       "</style>\n",
       "<table border=\"1\" class=\"dataframe\">\n",
       "  <thead>\n",
       "    <tr style=\"text-align: right;\">\n",
       "      <th></th>\n",
       "      <th>variable</th>\n",
       "      <th>test</th>\n",
       "      <th>stat</th>\n",
       "      <th>p_value</th>\n",
       "    </tr>\n",
       "  </thead>\n",
       "  <tbody>\n",
       "    <tr>\n",
       "      <th>0</th>\n",
       "      <td>0</td>\n",
       "      <td>ANOVA</td>\n",
       "      <td>143.061825</td>\n",
       "      <td>5.255684e-16</td>\n",
       "    </tr>\n",
       "    <tr>\n",
       "      <th>1</th>\n",
       "      <td>1</td>\n",
       "      <td>ANOVA</td>\n",
       "      <td>44.548044</td>\n",
       "      <td>2.322113e-08</td>\n",
       "    </tr>\n",
       "  </tbody>\n",
       "</table>\n",
       "</div>"
      ],
      "text/plain": [
       "   variable   test        stat       p_value\n",
       "0         0  ANOVA  143.061825  5.255684e-16\n",
       "1         1  ANOVA   44.548044  2.322113e-08"
      ]
     },
     "metadata": {},
     "output_type": "display_data"
    }
   ],
   "source": [
    "numeric_vars = [0, 1]\n",
    "# cat_vars = ['sexe', 'statut_marital']\n",
    "\n",
    "numeric_summary, cat_summary = compare_clusters_full_with_total(\n",
    "    df = X_db,\n",
    "    cluster_col='clusters',\n",
    "    numeric_vars=numeric_vars,\n",
    "    # cat_vars=cat_vars,\n",
    "    test_type='anova'\n",
    ")"
   ]
  }
 ],
 "metadata": {
  "colab": {
   "authorship_tag": "ABX9TyMkFPGWyDnOkG15HtfAhlFS",
   "include_colab_link": true,
   "name": "Untitled7.ipynb",
   "provenance": []
  },
  "kernelspec": {
   "display_name": "Python 3 (ipykernel)",
   "language": "python",
   "name": "python3"
  },
  "language_info": {
   "codemirror_mode": {
    "name": "ipython",
    "version": 3
   },
   "file_extension": ".py",
   "mimetype": "text/x-python",
   "name": "python",
   "nbconvert_exporter": "python",
   "pygments_lexer": "ipython3",
   "version": "3.12.3"
  }
 },
 "nbformat": 4,
 "nbformat_minor": 4
}
