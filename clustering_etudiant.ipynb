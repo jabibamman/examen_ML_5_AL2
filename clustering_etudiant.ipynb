{
 "cells": [
  {
   "cell_type": "markdown",
   "metadata": {},
   "source": [
    "# Clustering des étudiants"
   ]
  },
  {
   "cell_type": "markdown",
   "metadata": {},
   "source": [
    "# Préparation des données"
   ]
  },
  {
   "cell_type": "code",
   "execution_count": 1,
   "metadata": {
    "ExecuteTime": {
     "end_time": "2025-06-26T12:28:59.507131Z",
     "start_time": "2025-06-26T12:28:57.346344Z"
    }
   },
   "outputs": [],
   "source": [
    "import numpy as np\n",
    "import matplotlib.pyplot as plt\n",
    "import seaborn as sns\n",
    "import pandas as pd\n",
    "#pd.set_option('max_columns', None)"
   ]
  },
  {
   "cell_type": "markdown",
   "metadata": {},
   "source": [
    "## Charger la donnée"
   ]
  },
  {
   "cell_type": "code",
   "execution_count": 2,
   "metadata": {
    "ExecuteTime": {
     "end_time": "2025-06-26T12:29:00.218488Z",
     "start_time": "2025-06-26T12:28:59.608350Z"
    }
   },
   "outputs": [],
   "source": [
    "raw_data = pd.read_csv(\"non_sup/ML_5AL_students_dataset.csv\", sep=\",\")"
   ]
  },
  {
   "cell_type": "code",
   "execution_count": 3,
   "metadata": {},
   "outputs": [
    {
     "data": {
      "text/html": [
       "<div>\n",
       "<style scoped>\n",
       "    .dataframe tbody tr th:only-of-type {\n",
       "        vertical-align: middle;\n",
       "    }\n",
       "\n",
       "    .dataframe tbody tr th {\n",
       "        vertical-align: top;\n",
       "    }\n",
       "\n",
       "    .dataframe thead th {\n",
       "        text-align: right;\n",
       "    }\n",
       "</style>\n",
       "<table border=\"1\" class=\"dataframe\">\n",
       "  <thead>\n",
       "    <tr style=\"text-align: right;\">\n",
       "      <th></th>\n",
       "      <th>Student_ID</th>\n",
       "      <th>Age</th>\n",
       "      <th>Gender</th>\n",
       "      <th>Student_Income</th>\n",
       "      <th>Parent_Income</th>\n",
       "      <th>Residence</th>\n",
       "      <th>Region</th>\n",
       "      <th>Academic_Year</th>\n",
       "      <th>Average_Grade</th>\n",
       "      <th>Status</th>\n",
       "      <th>Grade_Math</th>\n",
       "      <th>Grade_Programming</th>\n",
       "      <th>Grade_Algorithms</th>\n",
       "      <th>Grade_Databases</th>\n",
       "      <th>Grade_Software_Engineering</th>\n",
       "      <th>Notes</th>\n",
       "      <th>Extra_Column</th>\n",
       "    </tr>\n",
       "  </thead>\n",
       "  <tbody>\n",
       "    <tr>\n",
       "      <th>0</th>\n",
       "      <td>1</td>\n",
       "      <td>24.0</td>\n",
       "      <td>male</td>\n",
       "      <td>744.0</td>\n",
       "      <td>3089.0</td>\n",
       "      <td>Urban</td>\n",
       "      <td>Hauts-de-france</td>\n",
       "      <td>2006</td>\n",
       "      <td>14.02</td>\n",
       "      <td>Success</td>\n",
       "      <td>17.0</td>\n",
       "      <td>14.6</td>\n",
       "      <td>12.5</td>\n",
       "      <td>12.5</td>\n",
       "      <td>13.5</td>\n",
       "      <td>bon</td>\n",
       "      <td>TO_REMOVE</td>\n",
       "    </tr>\n",
       "    <tr>\n",
       "      <th>1</th>\n",
       "      <td>2</td>\n",
       "      <td>21.0</td>\n",
       "      <td>F</td>\n",
       "      <td>612.0</td>\n",
       "      <td>3141.0</td>\n",
       "      <td>Suburban</td>\n",
       "      <td>nouvelle-aquitaine</td>\n",
       "      <td>2022</td>\n",
       "      <td>10.78</td>\n",
       "      <td>Success</td>\n",
       "      <td>12.2</td>\n",
       "      <td>9.3</td>\n",
       "      <td>10.8</td>\n",
       "      <td>13.2</td>\n",
       "      <td>8.4</td>\n",
       "      <td>NaN</td>\n",
       "      <td>TO_REMOVE</td>\n",
       "    </tr>\n",
       "    <tr>\n",
       "      <th>2</th>\n",
       "      <td>3</td>\n",
       "      <td>28.0</td>\n",
       "      <td>Male</td>\n",
       "      <td>1069.0</td>\n",
       "      <td>1595.0</td>\n",
       "      <td>Suburban</td>\n",
       "      <td>GrandEst</td>\n",
       "      <td>2023</td>\n",
       "      <td>13.06</td>\n",
       "      <td>Success</td>\n",
       "      <td>11.1</td>\n",
       "      <td>16.7</td>\n",
       "      <td>13.1</td>\n",
       "      <td>13.4</td>\n",
       "      <td>11.0</td>\n",
       "      <td>moyen</td>\n",
       "      <td>TO_REMOVE</td>\n",
       "    </tr>\n",
       "    <tr>\n",
       "      <th>3</th>\n",
       "      <td>4</td>\n",
       "      <td>25.0</td>\n",
       "      <td>Other</td>\n",
       "      <td>352.0</td>\n",
       "      <td>3042.0</td>\n",
       "      <td>URBAN</td>\n",
       "      <td>Occitanie</td>\n",
       "      <td>2005</td>\n",
       "      <td>8.90</td>\n",
       "      <td>failure</td>\n",
       "      <td>6.3</td>\n",
       "      <td>13.3</td>\n",
       "      <td>3.4</td>\n",
       "      <td>10.6</td>\n",
       "      <td>10.9</td>\n",
       "      <td>moyen</td>\n",
       "      <td>TO_REMOVE</td>\n",
       "    </tr>\n",
       "    <tr>\n",
       "      <th>4</th>\n",
       "      <td>5</td>\n",
       "      <td>22.0</td>\n",
       "      <td>Male</td>\n",
       "      <td>575.0</td>\n",
       "      <td>1825.0</td>\n",
       "      <td>Urban</td>\n",
       "      <td>nouvelle-aquitaine</td>\n",
       "      <td>2010</td>\n",
       "      <td>11.66</td>\n",
       "      <td>Success</td>\n",
       "      <td>11.1</td>\n",
       "      <td>14.9</td>\n",
       "      <td>9.9</td>\n",
       "      <td>8.6</td>\n",
       "      <td>13.8</td>\n",
       "      <td>moyen</td>\n",
       "      <td>TO_REMOVE</td>\n",
       "    </tr>\n",
       "  </tbody>\n",
       "</table>\n",
       "</div>"
      ],
      "text/plain": [
       "   Student_ID   Age Gender  Student_Income  Parent_Income Residence  \\\n",
       "0           1  24.0   male           744.0         3089.0     Urban   \n",
       "1           2  21.0      F           612.0         3141.0  Suburban   \n",
       "2           3  28.0   Male          1069.0         1595.0  Suburban   \n",
       "3           4  25.0  Other           352.0         3042.0     URBAN   \n",
       "4           5  22.0   Male           575.0         1825.0     Urban   \n",
       "\n",
       "               Region  Academic_Year  Average_Grade   Status  Grade_Math  \\\n",
       "0     Hauts-de-france           2006          14.02  Success        17.0   \n",
       "1  nouvelle-aquitaine           2022          10.78  Success        12.2   \n",
       "2            GrandEst           2023          13.06  Success        11.1   \n",
       "3           Occitanie           2005           8.90  failure         6.3   \n",
       "4  nouvelle-aquitaine           2010          11.66  Success        11.1   \n",
       "\n",
       "   Grade_Programming  Grade_Algorithms  Grade_Databases  \\\n",
       "0               14.6              12.5             12.5   \n",
       "1                9.3              10.8             13.2   \n",
       "2               16.7              13.1             13.4   \n",
       "3               13.3               3.4             10.6   \n",
       "4               14.9               9.9              8.6   \n",
       "\n",
       "   Grade_Software_Engineering  Notes Extra_Column  \n",
       "0                        13.5    bon    TO_REMOVE  \n",
       "1                         8.4    NaN    TO_REMOVE  \n",
       "2                        11.0  moyen    TO_REMOVE  \n",
       "3                        10.9  moyen    TO_REMOVE  \n",
       "4                        13.8  moyen    TO_REMOVE  "
      ]
     },
     "execution_count": 3,
     "metadata": {},
     "output_type": "execute_result"
    }
   ],
   "source": [
    "raw_data.head()"
   ]
  },
  {
   "cell_type": "code",
   "execution_count": 10,
   "metadata": {},
   "outputs": [
    {
     "data": {
      "text/plain": [
       "(50500, 17)"
      ]
     },
     "execution_count": 10,
     "metadata": {},
     "output_type": "execute_result"
    }
   ],
   "source": [
    "raw_data.shape"
   ]
  },
  {
   "cell_type": "code",
   "execution_count": 5,
   "metadata": {},
   "outputs": [
    {
     "name": "stdout",
     "output_type": "stream",
     "text": [
      "<class 'pandas.core.frame.DataFrame'>\n",
      "RangeIndex: 50500 entries, 0 to 50499\n",
      "Data columns (total 17 columns):\n",
      " #   Column                      Non-Null Count  Dtype  \n",
      "---  ------                      --------------  -----  \n",
      " 0   Student_ID                  50500 non-null  int64  \n",
      " 1   Age                         47971 non-null  float64\n",
      " 2   Gender                      47977 non-null  object \n",
      " 3   Student_Income              50500 non-null  float64\n",
      " 4   Parent_Income               47976 non-null  float64\n",
      " 5   Residence                   50500 non-null  object \n",
      " 6   Region                      47975 non-null  object \n",
      " 7   Academic_Year               50500 non-null  int64  \n",
      " 8   Average_Grade               50500 non-null  float64\n",
      " 9   Status                      50500 non-null  object \n",
      " 10  Grade_Math                  47972 non-null  float64\n",
      " 11  Grade_Programming           50500 non-null  float64\n",
      " 12  Grade_Algorithms            50500 non-null  float64\n",
      " 13  Grade_Databases             50500 non-null  float64\n",
      " 14  Grade_Software_Engineering  50500 non-null  float64\n",
      " 15  Notes                       25262 non-null  object \n",
      " 16  Extra_Column                50500 non-null  object \n",
      "dtypes: float64(9), int64(2), object(6)\n",
      "memory usage: 6.5+ MB\n"
     ]
    }
   ],
   "source": [
    "raw_data.info()"
   ]
  },
  {
   "cell_type": "markdown",
   "metadata": {},
   "source": [
    "## Conversion des types de variables"
   ]
  },
  {
   "cell_type": "code",
   "execution_count": 11,
   "metadata": {},
   "outputs": [
    {
     "name": "stdout",
     "output_type": "stream",
     "text": [
      "Index(['Gender', 'Residence', 'Region', 'Status', 'Notes', 'Extra_Column'], dtype='object')\n"
     ]
    }
   ],
   "source": [
    "stringcols = raw_data.select_dtypes(include='object').columns\n",
    "print(stringcols)"
   ]
  },
  {
   "cell_type": "code",
   "execution_count": 12,
   "metadata": {},
   "outputs": [
    {
     "name": "stdout",
     "output_type": "stream",
     "text": [
      "<class 'pandas.core.frame.DataFrame'>\n",
      "RangeIndex: 50500 entries, 0 to 50499\n",
      "Data columns (total 17 columns):\n",
      " #   Column                      Non-Null Count  Dtype  \n",
      "---  ------                      --------------  -----  \n",
      " 0   Student_ID                  50500 non-null  int64  \n",
      " 1   Age                         47971 non-null  float64\n",
      " 2   Gender                      50500 non-null  string \n",
      " 3   Student_Income              50500 non-null  float64\n",
      " 4   Parent_Income               47976 non-null  float64\n",
      " 5   Residence                   50500 non-null  string \n",
      " 6   Region                      50500 non-null  string \n",
      " 7   Academic_Year               50500 non-null  int64  \n",
      " 8   Average_Grade               50500 non-null  float64\n",
      " 9   Status                      50500 non-null  string \n",
      " 10  Grade_Math                  47972 non-null  float64\n",
      " 11  Grade_Programming           50500 non-null  float64\n",
      " 12  Grade_Algorithms            50500 non-null  float64\n",
      " 13  Grade_Databases             50500 non-null  float64\n",
      " 14  Grade_Software_Engineering  50500 non-null  float64\n",
      " 15  Notes                       50500 non-null  string \n",
      " 16  Extra_Column                50500 non-null  string \n",
      "dtypes: float64(9), int64(2), string(6)\n",
      "memory usage: 6.5 MB\n"
     ]
    }
   ],
   "source": [
    "# Conversion des types objet en string\n",
    "\n",
    "raw_data_conv = raw_data.copy()\n",
    "raw_data_conv[stringcols] = raw_data_conv[stringcols].astype(str)\n",
    "raw_data_conv[stringcols] = raw_data_conv[stringcols].astype('string')\n",
    "raw_data_conv[stringcols] = raw_data_conv[stringcols].replace({pd.NA: np.nan})\n",
    "raw_data_conv.info()"
   ]
  },
  {
   "cell_type": "markdown",
   "metadata": {},
   "source": [
    "## Détecter les valeurs manquantes"
   ]
  },
  {
   "cell_type": "code",
   "execution_count": 16,
   "metadata": {},
   "outputs": [
    {
     "data": {
      "text/plain": [
       "Age                           2529\n",
       "Grade_Math                    2528\n",
       "Parent_Income                 2524\n",
       "Student_ID                       0\n",
       "Notes                            0\n",
       "Grade_Software_Engineering       0\n",
       "Grade_Databases                  0\n",
       "Grade_Algorithms                 0\n",
       "Grade_Programming                0\n",
       "Average_Grade                    0\n",
       "Status                           0\n",
       "Academic_Year                    0\n",
       "Region                           0\n",
       "Residence                        0\n",
       "Student_Income                   0\n",
       "Gender                           0\n",
       "Extra_Column                     0\n",
       "dtype: int64"
      ]
     },
     "execution_count": 16,
     "metadata": {},
     "output_type": "execute_result"
    }
   ],
   "source": [
    "# Nombre de valeurs manquantes\n",
    "raw_data_conv.isnull().sum().sort_values(ascending=False)"
   ]
  },
  {
   "cell_type": "code",
   "execution_count": 17,
   "metadata": {},
   "outputs": [
    {
     "data": {
      "text/plain": [
       "Age                           0.050079\n",
       "Grade_Math                    0.050059\n",
       "Parent_Income                 0.049980\n",
       "Student_ID                    0.000000\n",
       "Notes                         0.000000\n",
       "Grade_Software_Engineering    0.000000\n",
       "Grade_Databases               0.000000\n",
       "Grade_Algorithms              0.000000\n",
       "Grade_Programming             0.000000\n",
       "Average_Grade                 0.000000\n",
       "Status                        0.000000\n",
       "Academic_Year                 0.000000\n",
       "Region                        0.000000\n",
       "Residence                     0.000000\n",
       "Student_Income                0.000000\n",
       "Gender                        0.000000\n",
       "Extra_Column                  0.000000\n",
       "dtype: float64"
      ]
     },
     "execution_count": 17,
     "metadata": {},
     "output_type": "execute_result"
    }
   ],
   "source": [
    "# Proportion de valeurs manquantes\n",
    "raw_data_conv.isnull().mean().sort_values(ascending=False)"
   ]
  },
  {
   "cell_type": "markdown",
   "metadata": {},
   "source": [
    "### Il y a plus de 5% de valeurs nulles, donc on supprime ces lignes"
   ]
  },
  {
   "cell_type": "code",
   "execution_count": 22,
   "metadata": {},
   "outputs": [
    {
     "name": "stdout",
     "output_type": "stream",
     "text": [
      "Avant suppression : (50500, 17)\n",
      "Après suppression : (43279, 17)\n"
     ]
    }
   ],
   "source": [
    "raw_data_delete = raw_data_conv.dropna(axis=0) # axis 0 pour les lignes\n",
    "print(f\"Avant suppression : {raw_data_conv.shape}\")\n",
    "print(f\"Après suppression : {raw_data_delete.shape}\")"
   ]
  },
  {
   "cell_type": "code",
   "execution_count": 23,
   "metadata": {},
   "outputs": [
    {
     "name": "stdout",
     "output_type": "stream",
     "text": [
      "<class 'pandas.core.frame.DataFrame'>\n",
      "Index: 43279 entries, 0 to 50499\n",
      "Data columns (total 17 columns):\n",
      " #   Column                      Non-Null Count  Dtype  \n",
      "---  ------                      --------------  -----  \n",
      " 0   Student_ID                  43279 non-null  int64  \n",
      " 1   Age                         43279 non-null  float64\n",
      " 2   Gender                      43279 non-null  string \n",
      " 3   Student_Income              43279 non-null  float64\n",
      " 4   Parent_Income               43279 non-null  float64\n",
      " 5   Residence                   43279 non-null  string \n",
      " 6   Region                      43279 non-null  string \n",
      " 7   Academic_Year               43279 non-null  int64  \n",
      " 8   Average_Grade               43279 non-null  float64\n",
      " 9   Status                      43279 non-null  string \n",
      " 10  Grade_Math                  43279 non-null  float64\n",
      " 11  Grade_Programming           43279 non-null  float64\n",
      " 12  Grade_Algorithms            43279 non-null  float64\n",
      " 13  Grade_Databases             43279 non-null  float64\n",
      " 14  Grade_Software_Engineering  43279 non-null  float64\n",
      " 15  Notes                       43279 non-null  string \n",
      " 16  Extra_Column                43279 non-null  string \n",
      "dtypes: float64(9), int64(2), string(6)\n",
      "memory usage: 5.9 MB\n"
     ]
    }
   ],
   "source": [
    "raw_data_delete.info()"
   ]
  },
  {
   "cell_type": "markdown",
   "metadata": {},
   "source": [
    "## Sélection des variables"
   ]
  },
  {
   "cell_type": "code",
   "execution_count": 24,
   "metadata": {},
   "outputs": [
    {
     "data": {
      "text/html": [
       "<div>\n",
       "<style scoped>\n",
       "    .dataframe tbody tr th:only-of-type {\n",
       "        vertical-align: middle;\n",
       "    }\n",
       "\n",
       "    .dataframe tbody tr th {\n",
       "        vertical-align: top;\n",
       "    }\n",
       "\n",
       "    .dataframe thead th {\n",
       "        text-align: right;\n",
       "    }\n",
       "</style>\n",
       "<table border=\"1\" class=\"dataframe\">\n",
       "  <thead>\n",
       "    <tr style=\"text-align: right;\">\n",
       "      <th></th>\n",
       "      <th>Student_ID</th>\n",
       "      <th>Age</th>\n",
       "      <th>Gender</th>\n",
       "      <th>Student_Income</th>\n",
       "      <th>Parent_Income</th>\n",
       "      <th>Residence</th>\n",
       "      <th>Region</th>\n",
       "      <th>Academic_Year</th>\n",
       "      <th>Average_Grade</th>\n",
       "      <th>Status</th>\n",
       "      <th>Grade_Math</th>\n",
       "      <th>Grade_Programming</th>\n",
       "      <th>Grade_Algorithms</th>\n",
       "      <th>Grade_Databases</th>\n",
       "      <th>Grade_Software_Engineering</th>\n",
       "      <th>Notes</th>\n",
       "      <th>Extra_Column</th>\n",
       "    </tr>\n",
       "  </thead>\n",
       "  <tbody>\n",
       "    <tr>\n",
       "      <th>0</th>\n",
       "      <td>1</td>\n",
       "      <td>24.0</td>\n",
       "      <td>male</td>\n",
       "      <td>744.0</td>\n",
       "      <td>3089.0</td>\n",
       "      <td>Urban</td>\n",
       "      <td>Hauts-de-france</td>\n",
       "      <td>2006</td>\n",
       "      <td>14.02</td>\n",
       "      <td>Success</td>\n",
       "      <td>17.0</td>\n",
       "      <td>14.6</td>\n",
       "      <td>12.5</td>\n",
       "      <td>12.5</td>\n",
       "      <td>13.5</td>\n",
       "      <td>bon</td>\n",
       "      <td>TO_REMOVE</td>\n",
       "    </tr>\n",
       "    <tr>\n",
       "      <th>1</th>\n",
       "      <td>2</td>\n",
       "      <td>21.0</td>\n",
       "      <td>F</td>\n",
       "      <td>612.0</td>\n",
       "      <td>3141.0</td>\n",
       "      <td>Suburban</td>\n",
       "      <td>nouvelle-aquitaine</td>\n",
       "      <td>2022</td>\n",
       "      <td>10.78</td>\n",
       "      <td>Success</td>\n",
       "      <td>12.2</td>\n",
       "      <td>9.3</td>\n",
       "      <td>10.8</td>\n",
       "      <td>13.2</td>\n",
       "      <td>8.4</td>\n",
       "      <td>nan</td>\n",
       "      <td>TO_REMOVE</td>\n",
       "    </tr>\n",
       "    <tr>\n",
       "      <th>2</th>\n",
       "      <td>3</td>\n",
       "      <td>28.0</td>\n",
       "      <td>Male</td>\n",
       "      <td>1069.0</td>\n",
       "      <td>1595.0</td>\n",
       "      <td>Suburban</td>\n",
       "      <td>GrandEst</td>\n",
       "      <td>2023</td>\n",
       "      <td>13.06</td>\n",
       "      <td>Success</td>\n",
       "      <td>11.1</td>\n",
       "      <td>16.7</td>\n",
       "      <td>13.1</td>\n",
       "      <td>13.4</td>\n",
       "      <td>11.0</td>\n",
       "      <td>moyen</td>\n",
       "      <td>TO_REMOVE</td>\n",
       "    </tr>\n",
       "    <tr>\n",
       "      <th>3</th>\n",
       "      <td>4</td>\n",
       "      <td>25.0</td>\n",
       "      <td>Other</td>\n",
       "      <td>352.0</td>\n",
       "      <td>3042.0</td>\n",
       "      <td>URBAN</td>\n",
       "      <td>Occitanie</td>\n",
       "      <td>2005</td>\n",
       "      <td>8.90</td>\n",
       "      <td>failure</td>\n",
       "      <td>6.3</td>\n",
       "      <td>13.3</td>\n",
       "      <td>3.4</td>\n",
       "      <td>10.6</td>\n",
       "      <td>10.9</td>\n",
       "      <td>moyen</td>\n",
       "      <td>TO_REMOVE</td>\n",
       "    </tr>\n",
       "    <tr>\n",
       "      <th>4</th>\n",
       "      <td>5</td>\n",
       "      <td>22.0</td>\n",
       "      <td>Male</td>\n",
       "      <td>575.0</td>\n",
       "      <td>1825.0</td>\n",
       "      <td>Urban</td>\n",
       "      <td>nouvelle-aquitaine</td>\n",
       "      <td>2010</td>\n",
       "      <td>11.66</td>\n",
       "      <td>Success</td>\n",
       "      <td>11.1</td>\n",
       "      <td>14.9</td>\n",
       "      <td>9.9</td>\n",
       "      <td>8.6</td>\n",
       "      <td>13.8</td>\n",
       "      <td>moyen</td>\n",
       "      <td>TO_REMOVE</td>\n",
       "    </tr>\n",
       "  </tbody>\n",
       "</table>\n",
       "</div>"
      ],
      "text/plain": [
       "   Student_ID   Age Gender  Student_Income  Parent_Income Residence  \\\n",
       "0           1  24.0   male           744.0         3089.0     Urban   \n",
       "1           2  21.0      F           612.0         3141.0  Suburban   \n",
       "2           3  28.0   Male          1069.0         1595.0  Suburban   \n",
       "3           4  25.0  Other           352.0         3042.0     URBAN   \n",
       "4           5  22.0   Male           575.0         1825.0     Urban   \n",
       "\n",
       "               Region  Academic_Year  Average_Grade   Status  Grade_Math  \\\n",
       "0     Hauts-de-france           2006          14.02  Success        17.0   \n",
       "1  nouvelle-aquitaine           2022          10.78  Success        12.2   \n",
       "2            GrandEst           2023          13.06  Success        11.1   \n",
       "3           Occitanie           2005           8.90  failure         6.3   \n",
       "4  nouvelle-aquitaine           2010          11.66  Success        11.1   \n",
       "\n",
       "   Grade_Programming  Grade_Algorithms  Grade_Databases  \\\n",
       "0               14.6              12.5             12.5   \n",
       "1                9.3              10.8             13.2   \n",
       "2               16.7              13.1             13.4   \n",
       "3               13.3               3.4             10.6   \n",
       "4               14.9               9.9              8.6   \n",
       "\n",
       "   Grade_Software_Engineering  Notes Extra_Column  \n",
       "0                        13.5    bon    TO_REMOVE  \n",
       "1                         8.4    nan    TO_REMOVE  \n",
       "2                        11.0  moyen    TO_REMOVE  \n",
       "3                        10.9  moyen    TO_REMOVE  \n",
       "4                        13.8  moyen    TO_REMOVE  "
      ]
     },
     "execution_count": 24,
     "metadata": {},
     "output_type": "execute_result"
    }
   ],
   "source": [
    "raw_data_delete.head()"
   ]
  },
  {
   "cell_type": "code",
   "execution_count": 26,
   "metadata": {},
   "outputs": [
    {
     "data": {
      "text/html": [
       "<div>\n",
       "<style scoped>\n",
       "    .dataframe tbody tr th:only-of-type {\n",
       "        vertical-align: middle;\n",
       "    }\n",
       "\n",
       "    .dataframe tbody tr th {\n",
       "        vertical-align: top;\n",
       "    }\n",
       "\n",
       "    .dataframe thead th {\n",
       "        text-align: right;\n",
       "    }\n",
       "</style>\n",
       "<table border=\"1\" class=\"dataframe\">\n",
       "  <thead>\n",
       "    <tr style=\"text-align: right;\">\n",
       "      <th></th>\n",
       "      <th>Age</th>\n",
       "      <th>Student_Income</th>\n",
       "      <th>Parent_Income</th>\n",
       "      <th>Academic_Year</th>\n",
       "      <th>Average_Grade</th>\n",
       "      <th>Grade_Math</th>\n",
       "      <th>Grade_Programming</th>\n",
       "      <th>Grade_Algorithms</th>\n",
       "      <th>Grade_Databases</th>\n",
       "      <th>Grade_Software_Engineering</th>\n",
       "    </tr>\n",
       "  </thead>\n",
       "  <tbody>\n",
       "    <tr>\n",
       "      <th>0</th>\n",
       "      <td>24.0</td>\n",
       "      <td>744.0</td>\n",
       "      <td>3089.0</td>\n",
       "      <td>2006</td>\n",
       "      <td>14.02</td>\n",
       "      <td>17.0</td>\n",
       "      <td>14.6</td>\n",
       "      <td>12.5</td>\n",
       "      <td>12.5</td>\n",
       "      <td>13.5</td>\n",
       "    </tr>\n",
       "    <tr>\n",
       "      <th>1</th>\n",
       "      <td>21.0</td>\n",
       "      <td>612.0</td>\n",
       "      <td>3141.0</td>\n",
       "      <td>2022</td>\n",
       "      <td>10.78</td>\n",
       "      <td>12.2</td>\n",
       "      <td>9.3</td>\n",
       "      <td>10.8</td>\n",
       "      <td>13.2</td>\n",
       "      <td>8.4</td>\n",
       "    </tr>\n",
       "    <tr>\n",
       "      <th>2</th>\n",
       "      <td>28.0</td>\n",
       "      <td>1069.0</td>\n",
       "      <td>1595.0</td>\n",
       "      <td>2023</td>\n",
       "      <td>13.06</td>\n",
       "      <td>11.1</td>\n",
       "      <td>16.7</td>\n",
       "      <td>13.1</td>\n",
       "      <td>13.4</td>\n",
       "      <td>11.0</td>\n",
       "    </tr>\n",
       "    <tr>\n",
       "      <th>3</th>\n",
       "      <td>25.0</td>\n",
       "      <td>352.0</td>\n",
       "      <td>3042.0</td>\n",
       "      <td>2005</td>\n",
       "      <td>8.90</td>\n",
       "      <td>6.3</td>\n",
       "      <td>13.3</td>\n",
       "      <td>3.4</td>\n",
       "      <td>10.6</td>\n",
       "      <td>10.9</td>\n",
       "    </tr>\n",
       "    <tr>\n",
       "      <th>4</th>\n",
       "      <td>22.0</td>\n",
       "      <td>575.0</td>\n",
       "      <td>1825.0</td>\n",
       "      <td>2010</td>\n",
       "      <td>11.66</td>\n",
       "      <td>11.1</td>\n",
       "      <td>14.9</td>\n",
       "      <td>9.9</td>\n",
       "      <td>8.6</td>\n",
       "      <td>13.8</td>\n",
       "    </tr>\n",
       "  </tbody>\n",
       "</table>\n",
       "</div>"
      ],
      "text/plain": [
       "    Age  Student_Income  Parent_Income  Academic_Year  Average_Grade  \\\n",
       "0  24.0           744.0         3089.0           2006          14.02   \n",
       "1  21.0           612.0         3141.0           2022          10.78   \n",
       "2  28.0          1069.0         1595.0           2023          13.06   \n",
       "3  25.0           352.0         3042.0           2005           8.90   \n",
       "4  22.0           575.0         1825.0           2010          11.66   \n",
       "\n",
       "   Grade_Math  Grade_Programming  Grade_Algorithms  Grade_Databases  \\\n",
       "0        17.0               14.6              12.5             12.5   \n",
       "1        12.2                9.3              10.8             13.2   \n",
       "2        11.1               16.7              13.1             13.4   \n",
       "3         6.3               13.3               3.4             10.6   \n",
       "4        11.1               14.9               9.9              8.6   \n",
       "\n",
       "   Grade_Software_Engineering  \n",
       "0                        13.5  \n",
       "1                         8.4  \n",
       "2                        11.0  \n",
       "3                        10.9  \n",
       "4                        13.8  "
      ]
     },
     "execution_count": 26,
     "metadata": {},
     "output_type": "execute_result"
    }
   ],
   "source": [
    "features_quanti = [\n",
    "    'Age',\n",
    "    'Student_Income',\n",
    "    'Parent_Income',\n",
    "    'Academic_Year',\n",
    "    'Average_Grade',\n",
    "    'Grade_Math',\n",
    "    'Grade_Programming',\n",
    "    'Grade_Algorithms',\n",
    "    'Grade_Databases',\n",
    "    'Grade_Software_Engineering'\n",
    "]\n",
    "raw_data_delete[features_quanti].head()"
   ]
  },
  {
   "cell_type": "code",
   "execution_count": 27,
   "metadata": {},
   "outputs": [
    {
     "data": {
      "text/html": [
       "<div>\n",
       "<style scoped>\n",
       "    .dataframe tbody tr th:only-of-type {\n",
       "        vertical-align: middle;\n",
       "    }\n",
       "\n",
       "    .dataframe tbody tr th {\n",
       "        vertical-align: top;\n",
       "    }\n",
       "\n",
       "    .dataframe thead th {\n",
       "        text-align: right;\n",
       "    }\n",
       "</style>\n",
       "<table border=\"1\" class=\"dataframe\">\n",
       "  <thead>\n",
       "    <tr style=\"text-align: right;\">\n",
       "      <th></th>\n",
       "      <th>Gender</th>\n",
       "      <th>Residence</th>\n",
       "      <th>Region</th>\n",
       "      <th>Status</th>\n",
       "      <th>Notes</th>\n",
       "      <th>Extra_Column</th>\n",
       "    </tr>\n",
       "  </thead>\n",
       "  <tbody>\n",
       "    <tr>\n",
       "      <th>0</th>\n",
       "      <td>male</td>\n",
       "      <td>Urban</td>\n",
       "      <td>Hauts-de-france</td>\n",
       "      <td>Success</td>\n",
       "      <td>bon</td>\n",
       "      <td>TO_REMOVE</td>\n",
       "    </tr>\n",
       "    <tr>\n",
       "      <th>1</th>\n",
       "      <td>F</td>\n",
       "      <td>Suburban</td>\n",
       "      <td>nouvelle-aquitaine</td>\n",
       "      <td>Success</td>\n",
       "      <td>nan</td>\n",
       "      <td>TO_REMOVE</td>\n",
       "    </tr>\n",
       "    <tr>\n",
       "      <th>2</th>\n",
       "      <td>Male</td>\n",
       "      <td>Suburban</td>\n",
       "      <td>GrandEst</td>\n",
       "      <td>Success</td>\n",
       "      <td>moyen</td>\n",
       "      <td>TO_REMOVE</td>\n",
       "    </tr>\n",
       "    <tr>\n",
       "      <th>3</th>\n",
       "      <td>Other</td>\n",
       "      <td>URBAN</td>\n",
       "      <td>Occitanie</td>\n",
       "      <td>failure</td>\n",
       "      <td>moyen</td>\n",
       "      <td>TO_REMOVE</td>\n",
       "    </tr>\n",
       "    <tr>\n",
       "      <th>4</th>\n",
       "      <td>Male</td>\n",
       "      <td>Urban</td>\n",
       "      <td>nouvelle-aquitaine</td>\n",
       "      <td>Success</td>\n",
       "      <td>moyen</td>\n",
       "      <td>TO_REMOVE</td>\n",
       "    </tr>\n",
       "  </tbody>\n",
       "</table>\n",
       "</div>"
      ],
      "text/plain": [
       "  Gender Residence              Region   Status  Notes Extra_Column\n",
       "0   male     Urban     Hauts-de-france  Success    bon    TO_REMOVE\n",
       "1      F  Suburban  nouvelle-aquitaine  Success    nan    TO_REMOVE\n",
       "2   Male  Suburban            GrandEst  Success  moyen    TO_REMOVE\n",
       "3  Other     URBAN           Occitanie  failure  moyen    TO_REMOVE\n",
       "4   Male     Urban  nouvelle-aquitaine  Success  moyen    TO_REMOVE"
      ]
     },
     "execution_count": 27,
     "metadata": {},
     "output_type": "execute_result"
    }
   ],
   "source": [
    "features_quali = ['Gender', 'Residence', 'Region', 'Status', 'Notes', 'Extra_Column']\n",
    "raw_data_delete[features_quali].head()"
   ]
  },
  {
   "cell_type": "markdown",
   "metadata": {},
   "source": [
    "## 12- Vérifier que l'imputation a bien été faite"
   ]
  },
  {
   "cell_type": "code",
   "execution_count": null,
   "metadata": {},
   "outputs": [],
   "source": [
    "raw_data_con_imp[\"Pregnancies\"].isnull().sum()"
   ]
  },
  {
   "cell_type": "markdown",
   "metadata": {},
   "source": [
    "## 13- Comment la moyenne et la médiane de la variable Pregnancies ont été modifiées après l'imputation"
   ]
  },
  {
   "cell_type": "code",
   "execution_count": null,
   "metadata": {},
   "outputs": [],
   "source": [
    "print(\"moyenne avant imputation :\", raw_data_con[\"Pregnancies\"].mean(), \"moyenne après imputation :\", raw_data_con_imp[\"Pregnancies\"].mean())\n",
    "print(\"mediane avant imputation :\", raw_data_con[\"Pregnancies\"].median(), \"mediane après imputation :\", raw_data_con_imp[\"Pregnancies\"].median())"
   ]
  },
  {
   "cell_type": "markdown",
   "metadata": {},
   "source": [
    "## 14- Imputer toutes les autres valeurs manquantes par la stratégie de votre choix et explique"
   ]
  },
  {
   "cell_type": "markdown",
   "metadata": {},
   "source": [
    "### Manuellement"
   ]
  },
  {
   "cell_type": "code",
   "execution_count": null,
   "metadata": {},
   "outputs": [],
   "source": [
    "raw_data_con_imp_man = raw_data_con_imp.copy()\n",
    "raw_data_con_imp_man[\"Glucose\"] = raw_data[\"Glucose\"].fillna(raw_data[\"Glucose\"].median())\n",
    "raw_data_con_imp_man[\"Insulin\"] = raw_data[\"Insulin\"].fillna(raw_data[\"Insulin\"].mean())\n",
    "raw_data_con_imp_man[\"DiabetesPedigreeFunction\"] = raw_data[\"DiabetesPedigreeFunction\"].fillna(raw_data[\"DiabetesPedigreeFunction\"].mode())"
   ]
  },
  {
   "cell_type": "markdown",
   "metadata": {},
   "source": [
    "### Automatisé"
   ]
  },
  {
   "cell_type": "code",
   "execution_count": null,
   "metadata": {},
   "outputs": [],
   "source": [
    "from sklearn.impute import SimpleImputer\n",
    "\n",
    "imputer = SimpleImputer(missing_values=np.nan, strategy='mean').fit(raw_data_con_imp[['Glucose', 'Insulin', 'DiabetesPedigreeFunction' ]])\n",
    "\n",
    "# mean, most_frequent, median\n",
    "\n",
    "data_impute = imputer.transform(raw_data_con_imp[['Glucose', 'Insulin', 'DiabetesPedigreeFunction' ]].values)\n",
    "\n",
    "data_impute_auto = pd.DataFrame(data_impute, columns = ['Glucose', 'Insulin', 'DiabetesPedigreeFunction' ])\n",
    "\n",
    "print(data_impute_auto)\n",
    "print(data_impute_auto.info())\n",
    "\n",
    "data_impute_auto.describe()\n"
   ]
  },
  {
   "cell_type": "code",
   "execution_count": null,
   "metadata": {},
   "outputs": [],
   "source": [
    "data_nettoye = pd.concat([raw_data_con_imp[['Pregnancies', 'BloodPressure', 'SkinThickness',\n",
    "       'BMI', 'Age', 'Outcome']], data_impute_auto], axis=1, join=\"outer\") \n",
    "data_nettoye.info()"
   ]
  },
  {
   "cell_type": "markdown",
   "metadata": {},
   "source": [
    "## 15 Sélectionner toutes les variables sauf outcome "
   ]
  },
  {
   "cell_type": "code",
   "execution_count": null,
   "metadata": {},
   "outputs": [],
   "source": [
    "data_nettoye1 = data_nettoye[['Pregnancies', 'BloodPressure', 'SkinThickness', 'BMI', 'Age', 'Glucose', 'Insulin', 'DiabetesPedigreeFunction']]"
   ]
  },
  {
   "cell_type": "markdown",
   "metadata": {},
   "source": [
    "## 16 travailler uniquement les personnes ayant eu au moins une grossesse et la mettre dans une nouvelle table de données nommée donnees_propres"
   ]
  },
  {
   "cell_type": "code",
   "execution_count": null,
   "metadata": {},
   "outputs": [],
   "source": [
    "donnees_propres = data_nettoye1[data_nettoye1[\"Pregnancies\"] > 0]"
   ]
  },
  {
   "cell_type": "markdown",
   "metadata": {},
   "source": [
    "## 17 calculer et afficher la table de correlation de la table donnees_propre"
   ]
  },
  {
   "cell_type": "code",
   "execution_count": null,
   "metadata": {},
   "outputs": [],
   "source": [
    "# calcul de la table de corrélation\n",
    "\n",
    "table_corr = donnees_propres.corr()\n",
    "\n",
    "table_corr"
   ]
  },
  {
   "cell_type": "markdown",
   "metadata": {},
   "source": [
    "## 18 afficher le graphe de la table de correspondance"
   ]
  },
  {
   "cell_type": "code",
   "execution_count": null,
   "metadata": {},
   "outputs": [],
   "source": [
    "# graphique des correlations\n",
    "plt.figure(figsize=(20, 20))\n",
    "\n",
    "plt.title(\"Table de corrélation des 10 premières variables\", fontsize=30)\n",
    "\n",
    "sns.set(style=\"darkgrid\", font_scale=2)\n",
    "plt.xlabel(\"\",fontsize=20)\n",
    "plt.ylabel(\"\",fontsize=20)\n",
    "\n",
    "sns.heatmap(table_corr, \n",
    "            cmap='viridis',\n",
    "            cbar=True,\n",
    "            #vmax=1.0, vmin=-1.0,\n",
    "            linewidths=0.3,\n",
    "            annot=True,\n",
    "            #annot_kws={\"size\": 8}, square=True\n",
    "           );"
   ]
  },
  {
   "cell_type": "markdown",
   "metadata": {},
   "source": [
    "## 19 afficher les statistiques descriptives des variables numériques"
   ]
  },
  {
   "cell_type": "code",
   "execution_count": null,
   "metadata": {},
   "outputs": [],
   "source": [
    "donnees_propres.describe()"
   ]
  },
  {
   "cell_type": "markdown",
   "metadata": {},
   "source": [
    "## 20- Recoder la variable Age de la façon suivante en age_rec\n",
    "\n",
    "    - si age < 18 alors \"mineurs\"\n",
    "    - si age compris entre 18 et 25 alors \"juniors\"\n",
    "    - si age comrpis entre 25 et 50 alors \"jeunes\"\n",
    "    - si age > 50 alors \"senior\"\n"
   ]
  },
  {
   "cell_type": "code",
   "execution_count": null,
   "metadata": {},
   "outputs": [],
   "source": [
    "bins = [0, 18, 25, 50, np.inf]\n",
    "names = ['mineurs', 'juniors', 'jeunes', 'seniors']\n",
    "\n",
    "donnees_propres['age_rec'] = pd.cut(donnees_propres['Age'], bins, labels=names)\n",
    "\n"
   ]
  },
  {
   "cell_type": "markdown",
   "metadata": {},
   "source": [
    "## 21- Afficher le décompte de \"age_rec\""
   ]
  },
  {
   "cell_type": "code",
   "execution_count": null,
   "metadata": {},
   "outputs": [],
   "source": [
    "donnees_propres[\"age_rec\"].value_counts()"
   ]
  },
  {
   "cell_type": "code",
   "execution_count": null,
   "metadata": {},
   "outputs": [],
   "source": [
    "donnees_propres[donnees_propres[\"age_rec\"] == \"seniors\"].sort_values(\"Age\", ascending=True)\n"
   ]
  }
 ],
 "metadata": {
  "kernelspec": {
   "display_name": "Python 3 (ipykernel)",
   "language": "python",
   "name": "python3"
  },
  "language_info": {
   "codemirror_mode": {
    "name": "ipython",
    "version": 3
   },
   "file_extension": ".py",
   "mimetype": "text/x-python",
   "name": "python",
   "nbconvert_exporter": "python",
   "pygments_lexer": "ipython3",
   "version": "3.12.3"
  }
 },
 "nbformat": 4,
 "nbformat_minor": 4
}
