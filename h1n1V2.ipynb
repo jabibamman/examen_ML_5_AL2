{
 "cells": [
  {
   "cell_type": "markdown",
   "id": "1f45ba3865e8610f",
   "metadata": {},
   "source": [
    "# Projet Classification Vaccination"
   ]
  },
  {
   "cell_type": "markdown",
   "id": "c408529c35267971",
   "metadata": {},
   "source": [
    "## Introduction"
   ]
  },
  {
   "cell_type": "markdown",
   "id": "4866e454807928c0",
   "metadata": {},
   "source": [
    "Prédire la probabilité qu'une personne ait reçu ou non les vaccins contre la grippe H1N1 et la grippe saisonnière. Il y aura deux variables cibles (binaires : oui/non), ce qui correspond à un problème de classification supervisée."
   ]
  },
  {
   "cell_type": "markdown",
   "id": "3b1fc4f818f4e874",
   "metadata": {},
   "source": [
    "Tu dois prédire la probabilité qu'une personne ait reçu ou non les vaccins contre la grippe H1N1 et la grippe saisonnière. Tu auras deux variables cibles (binaires : oui/non), ce qui correspond à un problème de classification supervisée.\n",
    "\n",
    "## 1. Importation des bibliothèques et chargement des données"
   ]
  },
  {
   "cell_type": "code",
   "execution_count": 1,
   "id": "e2b1e1639d9dbca5",
   "metadata": {
    "ExecuteTime": {
     "end_time": "2025-06-26T14:12:27.132023Z",
     "start_time": "2025-06-26T14:12:27.123823Z"
    }
   },
   "outputs": [],
   "source": [
    "import pandas as pd\n",
    "import numpy as np\n",
    "from sklearn.model_selection import train_test_split\n",
    "from sklearn.impute import SimpleImputer\n",
    "from sklearn.preprocessing import StandardScaler, OneHotEncoder, LabelEncoder\n",
    "import seaborn as sns\n",
    "import matplotlib.pyplot as plt"
   ]
  },
  {
   "cell_type": "markdown",
   "id": "4c2e860a042d092c",
   "metadata": {},
   "source": [
    "## 2. Préparation complète des données"
   ]
  },
  {
   "cell_type": "code",
   "execution_count": 2,
   "id": "f6a3cd9614e313dd",
   "metadata": {
    "ExecuteTime": {
     "end_time": "2025-06-26T12:57:04.054663Z",
     "start_time": "2025-06-26T12:57:03.791999Z"
    }
   },
   "outputs": [],
   "source": [
    "X = pd.read_csv(\"sup/X.csv\")\n",
    "y = pd.read_csv(\"sup/y.csv\")"
   ]
  },
  {
   "cell_type": "markdown",
   "id": "8ccead8eb51bfbbf",
   "metadata": {},
   "source": [
    "### 2.1 Présentation des données (variables, dimensions, types)"
   ]
  },
  {
   "cell_type": "code",
   "execution_count": 3,
   "id": "5f60f2130e4efde8",
   "metadata": {
    "ExecuteTime": {
     "end_time": "2025-06-26T12:57:04.882151Z",
     "start_time": "2025-06-26T12:57:04.797856Z"
    }
   },
   "outputs": [
    {
     "name": "stdout",
     "output_type": "stream",
     "text": [
      "<class 'pandas.core.frame.DataFrame'>\n",
      "RangeIndex: 26707 entries, 0 to 26706\n",
      "Data columns (total 36 columns):\n",
      " #   Column                       Non-Null Count  Dtype  \n",
      "---  ------                       --------------  -----  \n",
      " 0   respondent_id                26707 non-null  int64  \n",
      " 1   h1n1_concern                 26615 non-null  float64\n",
      " 2   h1n1_knowledge               26591 non-null  float64\n",
      " 3   behavioral_antiviral_meds    26636 non-null  float64\n",
      " 4   behavioral_avoidance         26499 non-null  float64\n",
      " 5   behavioral_face_mask         26688 non-null  float64\n",
      " 6   behavioral_wash_hands        26665 non-null  float64\n",
      " 7   behavioral_large_gatherings  26620 non-null  float64\n",
      " 8   behavioral_outside_home      26625 non-null  float64\n",
      " 9   behavioral_touch_face        26579 non-null  float64\n",
      " 10  doctor_recc_h1n1             24547 non-null  float64\n",
      " 11  doctor_recc_seasonal         24547 non-null  float64\n",
      " 12  chronic_med_condition        25736 non-null  float64\n",
      " 13  child_under_6_months         25887 non-null  float64\n",
      " 14  health_worker                25903 non-null  float64\n",
      " 15  health_insurance             14433 non-null  float64\n",
      " 16  opinion_h1n1_vacc_effective  26316 non-null  float64\n",
      " 17  opinion_h1n1_risk            26319 non-null  float64\n",
      " 18  opinion_h1n1_sick_from_vacc  26312 non-null  float64\n",
      " 19  opinion_seas_vacc_effective  26245 non-null  float64\n",
      " 20  opinion_seas_risk            26193 non-null  float64\n",
      " 21  opinion_seas_sick_from_vacc  26170 non-null  float64\n",
      " 22  age_group                    26707 non-null  object \n",
      " 23  education                    25300 non-null  object \n",
      " 24  race                         26707 non-null  object \n",
      " 25  sex                          26707 non-null  object \n",
      " 26  income_poverty               22284 non-null  object \n",
      " 27  marital_status               25299 non-null  object \n",
      " 28  rent_or_own                  24665 non-null  object \n",
      " 29  employment_status            25244 non-null  object \n",
      " 30  hhs_geo_region               26707 non-null  object \n",
      " 31  census_msa                   26707 non-null  object \n",
      " 32  household_adults             26458 non-null  float64\n",
      " 33  household_children           26458 non-null  float64\n",
      " 34  employment_industry          13377 non-null  object \n",
      " 35  employment_occupation        13237 non-null  object \n",
      "dtypes: float64(23), int64(1), object(12)\n",
      "memory usage: 7.3+ MB\n",
      "Dimensions X : None\n",
      "<class 'pandas.core.frame.DataFrame'>\n",
      "RangeIndex: 26707 entries, 0 to 26706\n",
      "Data columns (total 3 columns):\n",
      " #   Column            Non-Null Count  Dtype\n",
      "---  ------            --------------  -----\n",
      " 0   respondent_id     26707 non-null  int64\n",
      " 1   h1n1_vaccine      26707 non-null  int64\n",
      " 2   seasonal_vaccine  26707 non-null  int64\n",
      "dtypes: int64(3)\n",
      "memory usage: 626.1 KB\n",
      "Dimensions y : None\n"
     ]
    }
   ],
   "source": [
    "print(\"Dimensions X :\", X.info())\n",
    "print(\"Dimensions y :\", y.info())"
   ]
  },
  {
   "cell_type": "markdown",
   "id": "76a146b82f3e8ca8",
   "metadata": {},
   "source": [
    "### 2.2 Detction des valeurs manquantes"
   ]
  },
  {
   "cell_type": "code",
   "execution_count": 4,
   "id": "1510b8dc49952a71",
   "metadata": {
    "ExecuteTime": {
     "end_time": "2025-06-26T13:19:03.087871Z",
     "start_time": "2025-06-26T13:19:03.042975Z"
    }
   },
   "outputs": [
    {
     "data": {
      "text/html": [
       "<div>\n",
       "<style scoped>\n",
       "    .dataframe tbody tr th:only-of-type {\n",
       "        vertical-align: middle;\n",
       "    }\n",
       "\n",
       "    .dataframe tbody tr th {\n",
       "        vertical-align: top;\n",
       "    }\n",
       "\n",
       "    .dataframe thead th {\n",
       "        text-align: right;\n",
       "    }\n",
       "</style>\n",
       "<table border=\"1\" class=\"dataframe\">\n",
       "  <thead>\n",
       "    <tr style=\"text-align: right;\">\n",
       "      <th></th>\n",
       "      <th>missing</th>\n",
       "      <th>pct_missing</th>\n",
       "    </tr>\n",
       "  </thead>\n",
       "  <tbody>\n",
       "    <tr>\n",
       "      <th>h1n1_concern</th>\n",
       "      <td>92</td>\n",
       "      <td>0.34</td>\n",
       "    </tr>\n",
       "    <tr>\n",
       "      <th>h1n1_knowledge</th>\n",
       "      <td>116</td>\n",
       "      <td>0.43</td>\n",
       "    </tr>\n",
       "    <tr>\n",
       "      <th>behavioral_antiviral_meds</th>\n",
       "      <td>71</td>\n",
       "      <td>0.27</td>\n",
       "    </tr>\n",
       "    <tr>\n",
       "      <th>behavioral_avoidance</th>\n",
       "      <td>208</td>\n",
       "      <td>0.78</td>\n",
       "    </tr>\n",
       "    <tr>\n",
       "      <th>behavioral_face_mask</th>\n",
       "      <td>19</td>\n",
       "      <td>0.07</td>\n",
       "    </tr>\n",
       "    <tr>\n",
       "      <th>behavioral_wash_hands</th>\n",
       "      <td>42</td>\n",
       "      <td>0.16</td>\n",
       "    </tr>\n",
       "    <tr>\n",
       "      <th>behavioral_large_gatherings</th>\n",
       "      <td>87</td>\n",
       "      <td>0.33</td>\n",
       "    </tr>\n",
       "    <tr>\n",
       "      <th>behavioral_outside_home</th>\n",
       "      <td>82</td>\n",
       "      <td>0.31</td>\n",
       "    </tr>\n",
       "    <tr>\n",
       "      <th>behavioral_touch_face</th>\n",
       "      <td>128</td>\n",
       "      <td>0.48</td>\n",
       "    </tr>\n",
       "    <tr>\n",
       "      <th>doctor_recc_h1n1</th>\n",
       "      <td>2160</td>\n",
       "      <td>8.09</td>\n",
       "    </tr>\n",
       "    <tr>\n",
       "      <th>doctor_recc_seasonal</th>\n",
       "      <td>2160</td>\n",
       "      <td>8.09</td>\n",
       "    </tr>\n",
       "    <tr>\n",
       "      <th>chronic_med_condition</th>\n",
       "      <td>971</td>\n",
       "      <td>3.64</td>\n",
       "    </tr>\n",
       "    <tr>\n",
       "      <th>child_under_6_months</th>\n",
       "      <td>820</td>\n",
       "      <td>3.07</td>\n",
       "    </tr>\n",
       "    <tr>\n",
       "      <th>health_worker</th>\n",
       "      <td>804</td>\n",
       "      <td>3.01</td>\n",
       "    </tr>\n",
       "    <tr>\n",
       "      <th>health_insurance</th>\n",
       "      <td>12274</td>\n",
       "      <td>45.96</td>\n",
       "    </tr>\n",
       "    <tr>\n",
       "      <th>opinion_h1n1_vacc_effective</th>\n",
       "      <td>391</td>\n",
       "      <td>1.46</td>\n",
       "    </tr>\n",
       "    <tr>\n",
       "      <th>opinion_h1n1_risk</th>\n",
       "      <td>388</td>\n",
       "      <td>1.45</td>\n",
       "    </tr>\n",
       "    <tr>\n",
       "      <th>opinion_h1n1_sick_from_vacc</th>\n",
       "      <td>395</td>\n",
       "      <td>1.48</td>\n",
       "    </tr>\n",
       "    <tr>\n",
       "      <th>opinion_seas_vacc_effective</th>\n",
       "      <td>462</td>\n",
       "      <td>1.73</td>\n",
       "    </tr>\n",
       "    <tr>\n",
       "      <th>opinion_seas_risk</th>\n",
       "      <td>514</td>\n",
       "      <td>1.92</td>\n",
       "    </tr>\n",
       "    <tr>\n",
       "      <th>opinion_seas_sick_from_vacc</th>\n",
       "      <td>537</td>\n",
       "      <td>2.01</td>\n",
       "    </tr>\n",
       "    <tr>\n",
       "      <th>education</th>\n",
       "      <td>1407</td>\n",
       "      <td>5.27</td>\n",
       "    </tr>\n",
       "    <tr>\n",
       "      <th>income_poverty</th>\n",
       "      <td>4423</td>\n",
       "      <td>16.56</td>\n",
       "    </tr>\n",
       "    <tr>\n",
       "      <th>marital_status</th>\n",
       "      <td>1408</td>\n",
       "      <td>5.27</td>\n",
       "    </tr>\n",
       "    <tr>\n",
       "      <th>rent_or_own</th>\n",
       "      <td>2042</td>\n",
       "      <td>7.65</td>\n",
       "    </tr>\n",
       "    <tr>\n",
       "      <th>employment_status</th>\n",
       "      <td>1463</td>\n",
       "      <td>5.48</td>\n",
       "    </tr>\n",
       "    <tr>\n",
       "      <th>household_adults</th>\n",
       "      <td>249</td>\n",
       "      <td>0.93</td>\n",
       "    </tr>\n",
       "    <tr>\n",
       "      <th>household_children</th>\n",
       "      <td>249</td>\n",
       "      <td>0.93</td>\n",
       "    </tr>\n",
       "    <tr>\n",
       "      <th>employment_industry</th>\n",
       "      <td>13330</td>\n",
       "      <td>49.91</td>\n",
       "    </tr>\n",
       "    <tr>\n",
       "      <th>employment_occupation</th>\n",
       "      <td>13470</td>\n",
       "      <td>50.44</td>\n",
       "    </tr>\n",
       "  </tbody>\n",
       "</table>\n",
       "</div>"
      ],
      "text/plain": [
       "                             missing  pct_missing\n",
       "h1n1_concern                      92         0.34\n",
       "h1n1_knowledge                   116         0.43\n",
       "behavioral_antiviral_meds         71         0.27\n",
       "behavioral_avoidance             208         0.78\n",
       "behavioral_face_mask              19         0.07\n",
       "behavioral_wash_hands             42         0.16\n",
       "behavioral_large_gatherings       87         0.33\n",
       "behavioral_outside_home           82         0.31\n",
       "behavioral_touch_face            128         0.48\n",
       "doctor_recc_h1n1                2160         8.09\n",
       "doctor_recc_seasonal            2160         8.09\n",
       "chronic_med_condition            971         3.64\n",
       "child_under_6_months             820         3.07\n",
       "health_worker                    804         3.01\n",
       "health_insurance               12274        45.96\n",
       "opinion_h1n1_vacc_effective      391         1.46\n",
       "opinion_h1n1_risk                388         1.45\n",
       "opinion_h1n1_sick_from_vacc      395         1.48\n",
       "opinion_seas_vacc_effective      462         1.73\n",
       "opinion_seas_risk                514         1.92\n",
       "opinion_seas_sick_from_vacc      537         2.01\n",
       "education                       1407         5.27\n",
       "income_poverty                  4423        16.56\n",
       "marital_status                  1408         5.27\n",
       "rent_or_own                     2042         7.65\n",
       "employment_status               1463         5.48\n",
       "household_adults                 249         0.93\n",
       "household_children               249         0.93\n",
       "employment_industry            13330        49.91\n",
       "employment_occupation          13470        50.44"
      ]
     },
     "execution_count": 4,
     "metadata": {},
     "output_type": "execute_result"
    }
   ],
   "source": [
    "missing = X.isna().sum()\n",
    "pct    = (missing / len(X) * 100).round(2)\n",
    "pd.concat([missing, pct], axis=1, keys=[\"missing\", \"pct_missing\"])[lambda d: d[\"missing\"] > 0]"
   ]
  },
  {
   "cell_type": "markdown",
   "id": "93f009c17e7c419c",
   "metadata": {},
   "source": [
    "### 2.3 Gestion des valeurs aberrantes"
   ]
  },
  {
   "cell_type": "code",
   "execution_count": 5,
   "id": "b094ba7d4c57b9ec",
   "metadata": {
    "ExecuteTime": {
     "end_time": "2025-06-26T13:12:23.516780Z",
     "start_time": "2025-06-26T13:12:23.406868Z"
    }
   },
   "outputs": [],
   "source": [
    "num_vars = X.select_dtypes(include=['int64', 'float64']).columns\n",
    "num_imputer = SimpleImputer(strategy=\"median\")\n",
    "X[num_vars] = num_imputer.fit_transform(X[num_vars])"
   ]
  },
  {
   "cell_type": "code",
   "execution_count": 6,
   "id": "a8b68d255a39371c",
   "metadata": {
    "ExecuteTime": {
     "end_time": "2025-06-26T14:14:18.368192Z",
     "start_time": "2025-06-26T14:14:18.311273Z"
    }
   },
   "outputs": [],
   "source": [
    "cat_vars = X.select_dtypes(include=['object']).columns\n",
    "cat_imputer = SimpleImputer(strategy=\"most_frequent\")\n",
    "X[cat_vars] = cat_imputer.fit_transform(X[cat_vars])"
   ]
  },
  {
   "cell_type": "markdown",
   "id": "c72109890e0b1905",
   "metadata": {},
   "source": [
    "    ### 2.4 Sélection pertinente des variables (Feature selection)"
   ]
  },
  {
   "cell_type": "markdown",
   "id": "236b95f866a5e156",
   "metadata": {},
   "source": [
    "\n",
    "### 2.5 Normalisation et transformation des variables"
   ]
  },
  {
   "cell_type": "code",
   "execution_count": 7,
   "id": "6f6c137f305612af",
   "metadata": {
    "ExecuteTime": {
     "end_time": "2025-06-26T14:14:23.650638Z",
     "start_time": "2025-06-26T14:14:23.605525Z"
    }
   },
   "outputs": [],
   "source": [
    "X_encoded = pd.get_dummies(X, columns=cat_vars, drop_first=True)\n"
   ]
  },
  {
   "cell_type": "code",
   "execution_count": 8,
   "id": "c9105c10054cfd0",
   "metadata": {
    "ExecuteTime": {
     "end_time": "2025-06-26T14:14:25.557542Z",
     "start_time": "2025-06-26T14:14:25.536758Z"
    }
   },
   "outputs": [],
   "source": [
    "\n",
    "scaler = StandardScaler()\n",
    "X_encoded[num_vars] = scaler.fit_transform(X_encoded[num_vars])"
   ]
  },
  {
   "cell_type": "markdown",
   "id": "0419920f",
   "metadata": {},
   "source": [
    "## Boxplot : score d’opinion vs. vaccination"
   ]
  },
  {
   "cell_type": "code",
   "execution_count": 9,
   "id": "ec62a220",
   "metadata": {},
   "outputs": [
    {
     "data": {
      "image/png": "[encoded data removed]",
      "text/plain": [
       "<Figure size 800x500 with 1 Axes>"
      ]
     },
     "metadata": {},
     "output_type": "display_data"
    }
   ],
   "source": [
    "plt.figure(figsize=(8, 5))\n",
    "sns.boxplot(data=pd.concat([X, y], axis=1),\n",
    "            x='h1n1_vaccine',\n",
    "            y='opinion_h1n1_vacc_effective')\n",
    "plt.title(\"Opinion sur l'efficacité du vaccin H1N1 selon vaccination\")\n",
    "plt.xlabel(\"Vacciné H1N1 (0 = non, 1 = oui)\")\n",
    "plt.ylabel(\"Opinion efficacité vaccin (1=pas du tout, 5=très efficace)\")\n",
    "plt.show()"
   ]
  },
  {
   "cell_type": "markdown",
   "id": "a96e75de",
   "metadata": {},
   "source": [
    "## Boxplot : nombre d’enfants/Adultes vs. vaccination"
   ]
  },
  {
   "cell_type": "code",
   "execution_count": 11,
   "id": "5e58a728",
   "metadata": {},
   "outputs": [
    {
     "data": {
      "image/png": "[encoded data removed]",
      "text/plain": [
       "<Figure size 800x500 with 1 Axes>"
      ]
     },
     "metadata": {},
     "output_type": "display_data"
    }
   ],
   "source": [
    "plt.figure(figsize=(8, 5))\n",
    "sns.boxplot(data=pd.concat([X, y], axis=1),\n",
    "            x='h1n1_vaccine',\n",
    "            y='household_children')\n",
    "plt.title(\"Nombre d'enfants dans le foyer selon vaccination H1N1\")\n",
    "plt.xlabel(\"Vacciné H1N1\")\n",
    "plt.ylabel(\"Nombre d'enfants\")\n",
    "plt.show()"
   ]
  },
  {
   "cell_type": "markdown",
   "id": "09c274e5",
   "metadata": {},
   "source": [
    "## Boxplot : revenu ou statut social vs. vaccination"
   ]
  },
  {
   "cell_type": "code",
   "execution_count": 12,
   "id": "dbf51aaf",
   "metadata": {},
   "outputs": [
    {
     "data": {
      "image/png": "[encoded data removed]",
      "text/plain": [
       "<Figure size 800x500 with 1 Axes>"
      ]
     },
     "metadata": {},
     "output_type": "display_data"
    }
   ],
   "source": [
    "plt.figure(figsize=(8, 5))\n",
    "sns.boxplot(data=pd.concat([X, y], axis=1),\n",
    "            x='h1n1_vaccine',\n",
    "            y='income_poverty')\n",
    "plt.title(\"Statut de pauvreté selon vaccination H1N1\")\n",
    "plt.xlabel(\"Vacciné H1N1\")\n",
    "plt.ylabel(\"Statut de revenu\")\n",
    "plt.show()"
   ]
  },
  {
   "cell_type": "markdown",
   "id": "afa6d214e8751982",
   "metadata": {},
   "source": [
    "## 3. Analyse exploratoire approfondie"
   ]
  },
  {
   "cell_type": "markdown",
   "id": "aeedab2006974e90",
   "metadata": {},
   "source": [
    "### 3.1 Visualisations des variables qualitatives\n"
   ]
  },
  {
   "cell_type": "markdown",
   "id": "7445310988bacb12",
   "metadata": {},
   "source": [
    "### 3.2 Visualisations des variables quantitatives"
   ]
  },
  {
   "cell_type": "markdown",
   "id": "28bf726b07128b3e",
   "metadata": {},
   "source": [
    "### 3.3 Visualisations croisées (quali x quanti)"
   ]
  },
  {
   "cell_type": "markdown",
   "id": "444bcfe6df56f853",
   "metadata": {},
   "source": [
    "### 3.4 Table de corrélation"
   ]
  },
  {
   "cell_type": "markdown",
   "id": "2ba087a2a83a11eb",
   "metadata": {},
   "source": [
    "## 4. Modélisation et évaluation des modèles"
   ]
  },
  {
   "cell_type": "markdown",
   "id": "fa7e87b56f41d4bf",
   "metadata": {},
   "source": [
    "### 4.1 Modèle 1 : Régression logistique"
   ]
  },
  {
   "cell_type": "markdown",
   "id": "5c95b8012dc6263",
   "metadata": {},
   "source": [
    "#### Évaluation (ROC/AUC, précision, rappel, F-score)"
   ]
  },
  {
   "cell_type": "markdown",
   "id": "2b78b471d86c8a13",
   "metadata": {},
   "source": [
    "### 4.2 Modèle 2 : Arbres de décision / Forêts aléatoires"
   ]
  },
  {
   "cell_type": "markdown",
   "id": "dd4756f4e695c1bc",
   "metadata": {},
   "source": [
    "#### Évaluation"
   ]
  },
  {
   "cell_type": "markdown",
   "id": "f36d1b245d7f403a",
   "metadata": {},
   "source": [
    "### 4.3 Modèle 3 : KNN"
   ]
  },
  {
   "cell_type": "markdown",
   "id": "11f14e07a9b9752e",
   "metadata": {},
   "source": [
    "#### Évaluation"
   ]
  },
  {
   "cell_type": "markdown",
   "id": "f4e6400764c3171b",
   "metadata": {},
   "source": [
    "### 4.4 Optimisation des hyperparamètres (Grid Search)"
   ]
  },
  {
   "cell_type": "markdown",
   "id": "f95729d23ef9233a",
   "metadata": {},
   "source": [
    "### 4.5 Validation croisée (cross-validation)"
   ]
  },
  {
   "cell_type": "markdown",
   "id": "3c357b9134eac83",
   "metadata": {},
   "source": [
    "### 4.6 Comparaison des modèles et choix final"
   ]
  },
  {
   "cell_type": "markdown",
   "id": "33e7d693e9162d56",
   "metadata": {},
   "source": [
    "## 5. Conclusion métier"
   ]
  },
  {
   "cell_type": "markdown",
   "id": "1c1b2cd757a24431",
   "metadata": {},
   "source": [
    "### Interprétation des résultats, recommandations et conclusion métier."
   ]
  }
 ],
 "metadata": {
  "kernelspec": {
   "display_name": "Python 3 (ipykernel)",
   "language": "python",
   "name": "python3"
  },
  "language_info": {
   "codemirror_mode": {
    "name": "ipython",
    "version": 3
   },
   "file_extension": ".py",
   "mimetype": "text/x-python",
   "name": "python",
   "nbconvert_exporter": "python",
   "pygments_lexer": "ipython3",
   "version": "3.12.3"
  }
 },
 "nbformat": 4,
 "nbformat_minor": 5
}
