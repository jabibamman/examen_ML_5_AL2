{
 "cells": [
  {
   "metadata": {},
   "cell_type": "markdown",
   "source": "# Projet Classification Vaccination",
   "id": "1f45ba3865e8610f"
  },
  {
   "metadata": {},
   "cell_type": "markdown",
   "source": "## Introduction",
   "id": "c408529c35267971"
  },
  {
   "metadata": {},
   "cell_type": "markdown",
   "source": "Prédire la probabilité qu'une personne ait reçu ou non les vaccins contre la grippe H1N1 et la grippe saisonnière. Il y aura deux variables cibles (binaires : oui/non), ce qui correspond à un problème de classification supervisée.",
   "id": "4866e454807928c0"
  },
  {
   "metadata": {},
   "cell_type": "markdown",
   "source": [
    "Tu dois prédire la probabilité qu'une personne ait reçu ou non les vaccins contre la grippe H1N1 et la grippe saisonnière. Tu auras deux variables cibles (binaires : oui/non), ce qui correspond à un problème de classification supervisée.\n",
    "\n",
    "## 1. Importation des bibliothèques et chargement des données"
   ],
   "id": "3b1fc4f818f4e874"
  },
  {
   "metadata": {},
   "cell_type": "markdown",
   "source": "## 2. Préparation complète des données",
   "id": "4c2e860a042d092c"
  },
  {
   "metadata": {},
   "cell_type": "markdown",
   "source": "### 2.1 Présentation des données (variables, dimensions, types)",
   "id": "8ccead8eb51bfbbf"
  },
  {
   "metadata": {},
   "cell_type": "markdown",
   "source": "### 2.2 Traitement des valeurs manquantes",
   "id": "76a146b82f3e8ca8"
  },
  {
   "metadata": {},
   "cell_type": "markdown",
   "source": "### 2.3 Gestion des valeurs aberrantes",
   "id": "93f009c17e7c419c"
  },
  {
   "metadata": {},
   "cell_type": "markdown",
   "source": "### 2.4 Sélection pertinente des variables (Feature selection)",
   "id": "c72109890e0b1905"
  },
  {
   "metadata": {},
   "cell_type": "markdown",
   "source": [
    "\n",
    "### 2.5 Normalisation et transformation des variables"
   ],
   "id": "236b95f866a5e156"
  },
  {
   "metadata": {},
   "cell_type": "markdown",
   "source": "## 3. Analyse exploratoire approfondie",
   "id": "afa6d214e8751982"
  },
  {
   "metadata": {},
   "cell_type": "markdown",
   "source": "### 3.1 Visualisations des variables qualitatives\n",
   "id": "aeedab2006974e90"
  },
  {
   "metadata": {},
   "cell_type": "markdown",
   "source": "### 3.2 Visualisations des variables quantitatives",
   "id": "7445310988bacb12"
  },
  {
   "metadata": {},
   "cell_type": "markdown",
   "source": "### 3.3 Visualisations croisées (quali x quanti)",
   "id": "28bf726b07128b3e"
  },
  {
   "metadata": {},
   "cell_type": "markdown",
   "source": "### 3.4 Table de corrélation",
   "id": "444bcfe6df56f853"
  },
  {
   "metadata": {},
   "cell_type": "markdown",
   "source": "## 4. Modélisation et évaluation des modèles",
   "id": "2ba087a2a83a11eb"
  },
  {
   "metadata": {},
   "cell_type": "markdown",
   "source": "### 4.1 Modèle 1 : Régression logistique",
   "id": "fa7e87b56f41d4bf"
  },
  {
   "metadata": {},
   "cell_type": "markdown",
   "source": "#### Évaluation (ROC/AUC, précision, rappel, F-score)",
   "id": "5c95b8012dc6263"
  },
  {
   "metadata": {},
   "cell_type": "markdown",
   "source": "### 4.2 Modèle 2 : Arbres de décision / Forêts aléatoires",
   "id": "2b78b471d86c8a13"
  },
  {
   "metadata": {},
   "cell_type": "markdown",
   "source": "#### Évaluation",
   "id": "dd4756f4e695c1bc"
  },
  {
   "metadata": {},
   "cell_type": "markdown",
   "source": "### 4.3 Modèle 3 : KNN",
   "id": "f36d1b245d7f403a"
  },
  {
   "metadata": {},
   "cell_type": "markdown",
   "source": "#### Évaluation",
   "id": "11f14e07a9b9752e"
  },
  {
   "metadata": {},
   "cell_type": "markdown",
   "source": "### 4.4 Optimisation des hyperparamètres (Grid Search)",
   "id": "f4e6400764c3171b"
  },
  {
   "metadata": {},
   "cell_type": "markdown",
   "source": "### 4.5 Validation croisée (cross-validation)",
   "id": "f95729d23ef9233a"
  },
  {
   "metadata": {},
   "cell_type": "markdown",
   "source": "### 4.6 Comparaison des modèles et choix final",
   "id": "3c357b9134eac83"
  },
  {
   "metadata": {},
   "cell_type": "markdown",
   "source": "## 5. Conclusion métier",
   "id": "33e7d693e9162d56"
  },
  {
   "metadata": {},
   "cell_type": "markdown",
   "source": "### Interprétation des résultats, recommandations et conclusion métier.",
   "id": "1c1b2cd757a24431"
  }
 ],
 "metadata": {
  "kernelspec": {
   "display_name": "Python 3",
   "language": "python",
   "name": "python3"
  },
  "language_info": {
   "codemirror_mode": {
    "name": "ipython",
    "version": 2
   },
   "file_extension": ".py",
   "mimetype": "text/x-python",
   "name": "python",
   "nbconvert_exporter": "python",
   "pygments_lexer": "ipython2",
   "version": "2.7.6"
  }
 },
 "nbformat": 4,
 "nbformat_minor": 5
}
