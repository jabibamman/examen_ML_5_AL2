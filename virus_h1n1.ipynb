{
 "cells": [
  {
   "cell_type": "markdown",
   "metadata": {},
   "source": [
    "# Contrôle Continu"
   ]
  },
  {
   "cell_type": "markdown",
   "metadata": {},
   "source": [
    "### Nom et prénom de l'étudiant"
   ]
  },
  {
   "cell_type": "markdown",
   "metadata": {},
   "source": [
    "# Préparation des données"
   ]
  },
  {
   "cell_type": "code",
   "execution_count": 2,
   "metadata": {},
   "outputs": [],
   "source": [
    "import pandas as pd\n",
    "import numpy as np\n",
    "from sklearn.model_selection import train_test_split\n",
    "from sklearn.impute import SimpleImputer\n",
    "from sklearn.preprocessing import StandardScaler, OneHotEncoder, LabelEncoder"
   ]
  },
  {
   "cell_type": "markdown",
   "metadata": {},
   "source": [
    "## 1- Charger la donnée"
   ]
  },
  {
   "cell_type": "code",
   "execution_count": 5,
   "metadata": {},
   "outputs": [],
   "source": [
    "X = pd.read_csv(\"sup/X.csv\")\n",
    "y = pd.read_csv(\"sup/y.csv\")"
   ]
  },
  {
   "cell_type": "code",
   "execution_count": 4,
   "metadata": {},
   "outputs": [
    {
     "name": "stdout",
     "output_type": "stream",
     "text": [
      "Dimensions X : (26707, 36)\n",
      "Dimensions y : (26707, 3)\n"
     ]
    }
   ],
   "source": [
    "print(\"Dimensions X :\", X.shape)\n",
    "print(\"Dimensions y :\", y.shape)\n"
   ]
  },
  {
   "cell_type": "markdown",
   "metadata": {},
   "source": [
    "## 2- AFFICHER TYPES ET VALEURS MANQUANTES"
   ]
  },
  {
   "cell_type": "code",
   "execution_count": 6,
   "metadata": {},
   "outputs": [
    {
     "name": "stdout",
     "output_type": "stream",
     "text": [
      "\n",
      "Types de variables :\n",
      "respondent_id                    int64\n",
      "h1n1_concern                   float64\n",
      "h1n1_knowledge                 float64\n",
      "behavioral_antiviral_meds      float64\n",
      "behavioral_avoidance           float64\n",
      "behavioral_face_mask           float64\n",
      "behavioral_wash_hands          float64\n",
      "behavioral_large_gatherings    float64\n",
      "behavioral_outside_home        float64\n",
      "behavioral_touch_face          float64\n",
      "doctor_recc_h1n1               float64\n",
      "doctor_recc_seasonal           float64\n",
      "chronic_med_condition          float64\n",
      "child_under_6_months           float64\n",
      "health_worker                  float64\n",
      "health_insurance               float64\n",
      "opinion_h1n1_vacc_effective    float64\n",
      "opinion_h1n1_risk              float64\n",
      "opinion_h1n1_sick_from_vacc    float64\n",
      "opinion_seas_vacc_effective    float64\n",
      "opinion_seas_risk              float64\n",
      "opinion_seas_sick_from_vacc    float64\n",
      "age_group                       object\n",
      "education                       object\n",
      "race                            object\n",
      "sex                             object\n",
      "income_poverty                  object\n",
      "marital_status                  object\n",
      "rent_or_own                     object\n",
      "employment_status               object\n",
      "hhs_geo_region                  object\n",
      "census_msa                      object\n",
      "household_adults               float64\n",
      "household_children             float64\n",
      "employment_industry             object\n",
      "employment_occupation           object\n",
      "dtype: object\n"
     ]
    }
   ],
   "source": [
    "print(\"\\nTypes de variables :\")\n",
    "print(X.dtypes)"
   ]
  },
  {
   "cell_type": "code",
   "execution_count": 7,
   "metadata": {},
   "outputs": [
    {
     "name": "stdout",
     "output_type": "stream",
     "text": [
      "\n",
      "Valeurs manquantes par colonne :\n",
      "respondent_id                      0\n",
      "h1n1_concern                      92\n",
      "h1n1_knowledge                   116\n",
      "behavioral_antiviral_meds         71\n",
      "behavioral_avoidance             208\n",
      "behavioral_face_mask              19\n",
      "behavioral_wash_hands             42\n",
      "behavioral_large_gatherings       87\n",
      "behavioral_outside_home           82\n",
      "behavioral_touch_face            128\n",
      "doctor_recc_h1n1                2160\n",
      "doctor_recc_seasonal            2160\n",
      "chronic_med_condition            971\n",
      "child_under_6_months             820\n",
      "health_worker                    804\n",
      "health_insurance               12274\n",
      "opinion_h1n1_vacc_effective      391\n",
      "opinion_h1n1_risk                388\n",
      "opinion_h1n1_sick_from_vacc      395\n",
      "opinion_seas_vacc_effective      462\n",
      "opinion_seas_risk                514\n",
      "opinion_seas_sick_from_vacc      537\n",
      "age_group                          0\n",
      "education                       1407\n",
      "race                               0\n",
      "sex                                0\n",
      "income_poverty                  4423\n",
      "marital_status                  1408\n",
      "rent_or_own                     2042\n",
      "employment_status               1463\n",
      "hhs_geo_region                     0\n",
      "census_msa                         0\n",
      "household_adults                 249\n",
      "household_children               249\n",
      "employment_industry            13330\n",
      "employment_occupation          13470\n",
      "dtype: int64\n"
     ]
    }
   ],
   "source": [
    "print(\"\\nValeurs manquantes par colonne :\")\n",
    "print(X.isnull().sum())"
   ]
  },
  {
   "cell_type": "markdown",
   "metadata": {},
   "source": [
    "## 3. TRAITEMENT DES VALEURS MANQUANTES"
   ]
  },
  {
   "cell_type": "markdown",
   "metadata": {},
   "source": [
    "## a) Variables numériques"
   ]
  },
  {
   "cell_type": "code",
   "execution_count": 8,
   "metadata": {},
   "outputs": [],
   "source": [
    "num_vars = X.select_dtypes(include=['int64', 'float64']).columns\n",
    "num_imputer = SimpleImputer(strategy=\"median\")\n",
    "X[num_vars] = num_imputer.fit_transform(X[num_vars])"
   ]
  },
  {
   "cell_type": "markdown",
   "metadata": {},
   "source": [
    "## b) Variables catégorielles"
   ]
  },
  {
   "cell_type": "code",
   "execution_count": 9,
   "metadata": {},
   "outputs": [],
   "source": [
    "cat_vars = X.select_dtypes(include=['object']).columns\n",
    "cat_imputer = SimpleImputer(strategy=\"most_frequent\")\n",
    "X[cat_vars] = cat_imputer.fit_transform(X[cat_vars])"
   ]
  },
  {
   "cell_type": "markdown",
   "metadata": {},
   "source": [
    "## 4. ENCODAGE DES VARIABLES CATÉGORIELLES"
   ]
  },
  {
   "cell_type": "markdown",
   "metadata": {},
   "source": [
    "### On encode toutes les colonnes objet en one-hot"
   ]
  },
  {
   "cell_type": "code",
   "metadata": {
    "ExecuteTime": {
     "end_time": "2025-06-26T14:13:08.528340Z",
     "start_time": "2025-06-26T14:13:08.446079Z"
    }
   },
   "source": [
    "X_encoded = pd.get_dummies(X, columns=cat_vars, drop_first=True)"
   ],
   "outputs": [
    {
     "ename": "NameError",
     "evalue": "name 'pd' is not defined",
     "output_type": "error",
     "traceback": [
      "\u001B[31m---------------------------------------------------------------------------\u001B[39m",
      "\u001B[31mNameError\u001B[39m                                 Traceback (most recent call last)",
      "\u001B[36mCell\u001B[39m\u001B[36m \u001B[39m\u001B[32mIn[1]\u001B[39m\u001B[32m, line 1\u001B[39m\n\u001B[32m----> \u001B[39m\u001B[32m1\u001B[39m X_encoded = \u001B[43mpd\u001B[49m.get_dummies(X, columns=cat_vars, drop_first=\u001B[38;5;28;01mTrue\u001B[39;00m)\n",
      "\u001B[31mNameError\u001B[39m: name 'pd' is not defined"
     ]
    }
   ],
   "execution_count": 1
  },
  {
   "cell_type": "markdown",
   "metadata": {},
   "source": [
    "## 5. NORMALISATION DES VARIABLES NUMÉRIQUES"
   ]
  },
  {
   "cell_type": "code",
   "execution_count": 13,
   "metadata": {},
   "outputs": [],
   "source": [
    "scaler = StandardScaler()\n",
    "X_encoded[num_vars] = scaler.fit_transform(X_encoded[num_vars])"
   ]
  },
  {
   "cell_type": "markdown",
   "metadata": {},
   "source": [
    "## 6. SÉPARATION EN TRAIN/TEST"
   ]
  },
  {
   "cell_type": "code",
   "execution_count": 17,
   "metadata": {},
   "outputs": [],
   "source": [
    "X_train, X_test, y_train, y_test = train_test_split(\n",
    "    X_encoded, y, test_size=0.2, random_state=42\n",
    ")"
   ]
  },
  {
   "cell_type": "code",
   "execution_count": 18,
   "metadata": {},
   "outputs": [
    {
     "name": "stdout",
     "output_type": "stream",
     "text": [
      "\n",
      "Nouvelles dimensions après encodage et split :\n",
      "X_train : (21365, 94) X_test : (5342, 94)\n"
     ]
    }
   ],
   "source": [
    "print(\"\\nNouvelles dimensions après encodage et split :\")\n",
    "print(\"X_train :\", X_train.shape, \"X_test :\", X_test.shape)"
   ]
  },
  {
   "cell_type": "markdown",
   "metadata": {},
   "source": [
    "## 7. AFFICHER UN ÉCHANTILLON"
   ]
  },
  {
   "cell_type": "code",
   "execution_count": 19,
   "metadata": {},
   "outputs": [
    {
     "name": "stdout",
     "output_type": "stream",
     "text": [
      "\n",
      "Exemple de données prêtes pour la modélisation :\n",
      "       respondent_id  h1n1_concern  h1n1_knowledge  behavioral_antiviral_meds  \\\n",
      "24706       1.472571      0.418262       -0.423626                  -0.226293   \n",
      "5393       -1.032473      0.418262       -0.423626                   4.419056   \n",
      "20898       0.978644     -1.781960       -0.423626                  -0.226293   \n",
      "3429       -1.287218     -0.681849       -0.423626                  -0.226293   \n",
      "8731       -0.599509     -0.681849       -2.044279                  -0.226293   \n",
      "\n",
      "       behavioral_avoidance  behavioral_face_mask  behavioral_wash_hands  \\\n",
      "24706              0.611637             -0.272097               0.459149   \n",
      "5393               0.611637              3.675158               0.459149   \n",
      "20898             -1.634957             -0.272097               0.459149   \n",
      "3429              -1.634957             -0.272097              -2.177944   \n",
      "8731              -1.634957             -0.272097               0.459149   \n",
      "\n",
      "       behavioral_large_gatherings  behavioral_outside_home  \\\n",
      "24706                     -0.74589                 1.404892   \n",
      "5393                       1.34068                 1.404892   \n",
      "20898                     -0.74589                 1.404892   \n",
      "3429                      -0.74589                -0.711798   \n",
      "8731                      -0.74589                -0.711798   \n",
      "\n",
      "       behavioral_touch_face  ...  employment_occupation_qxajmpny  \\\n",
      "24706               0.687870  ...                           False   \n",
      "5393                0.687870  ...                           False   \n",
      "20898              -1.453764  ...                           False   \n",
      "3429               -1.453764  ...                           False   \n",
      "8731               -1.453764  ...                           False   \n",
      "\n",
      "       employment_occupation_rcertsgn  employment_occupation_tfqavkke  \\\n",
      "24706                           False                           False   \n",
      "5393                            False                           False   \n",
      "20898                           False                           False   \n",
      "3429                            False                           False   \n",
      "8731                            False                           False   \n",
      "\n",
      "       employment_occupation_ukymxvdu  employment_occupation_uqqtjvyb  \\\n",
      "24706                           False                           False   \n",
      "5393                            False                           False   \n",
      "20898                           False                           False   \n",
      "3429                             True                           False   \n",
      "8731                            False                           False   \n",
      "\n",
      "       employment_occupation_vlluhbov  employment_occupation_xgwztkwe  \\\n",
      "24706                           False                           False   \n",
      "5393                            False                           False   \n",
      "20898                           False                           False   \n",
      "3429                            False                           False   \n",
      "8731                            False                           False   \n",
      "\n",
      "       employment_occupation_xqwwgdyp  employment_occupation_xtkaffoo  \\\n",
      "24706                           False                            True   \n",
      "5393                            False                           False   \n",
      "20898                           False                            True   \n",
      "3429                            False                           False   \n",
      "8731                            False                            True   \n",
      "\n",
      "       employment_occupation_xzmlyyjv  \n",
      "24706                           False  \n",
      "5393                            False  \n",
      "20898                           False  \n",
      "3429                            False  \n",
      "8731                            False  \n",
      "\n",
      "[5 rows x 94 columns]\n"
     ]
    }
   ],
   "source": [
    "print(\"\\nExemple de données prêtes pour la modélisation :\")\n",
    "print(X_train.head())"
   ]
  }
 ],
 "metadata": {
  "kernelspec": {
   "display_name": "base",
   "language": "python",
   "name": "python3"
  },
  "language_info": {
   "codemirror_mode": {
    "name": "ipython",
    "version": 3
   },
   "file_extension": ".py",
   "mimetype": "text/x-python",
   "name": "python",
   "nbconvert_exporter": "python",
   "pygments_lexer": "ipython3",
   "version": "3.11.7"
  }
 },
 "nbformat": 4,
 "nbformat_minor": 4
}
